{
 "cells": [
  {
   "cell_type": "markdown",
   "metadata": {},
   "source": [
    "# meu segudo notebook, teste de maquinas!"
   ]
  },
  {
   "cell_type": "code",
   "execution_count": 1,
   "metadata": {},
   "outputs": [],
   "source": [
    "# Importação das bibliotecas\n",
    "import pandas as pd #Para a manipulação de DataFrames\n",
    "import numpy as np # Cálculo algébricos\n",
    "import matplotlib.pyplot as plt #Visualização dos dados\n",
    "from sklearn import datasets as sck #mineração de dados"
   ]
  },
  {
   "cell_type": "code",
   "execution_count": 3,
   "metadata": {},
   "outputs": [],
   "source": [
    "from sklearn.linear_model import LinearRegression\n",
    "from sklearn.model_selection import train_test_split\n",
    "from sklearn.datasets import load_boston"
   ]
  },
  {
   "cell_type": "code",
   "execution_count": 4,
   "metadata": {},
   "outputs": [],
   "source": [
    "from sklearn.linear_model import LogisticRegression\n",
    "from sklearn.model_selection import train_test_split\n",
    "from sklearn.datasets import load_iris"
   ]
  },
  {
   "cell_type": "code",
   "execution_count": 5,
   "metadata": {},
   "outputs": [],
   "source": [
    "from sklearn.naive_bayes import GaussianNB\n",
    "from sklearn.model_selection import train_test_split"
   ]
  },
  {
   "cell_type": "code",
   "execution_count": 6,
   "metadata": {},
   "outputs": [],
   "source": [
    "from sklearn.tree import DecisionTreeClassifier\n",
    "from sklearn.model_selection import train_test_split\n",
    "from sklearn.preprocessing import LabelEncoder"
   ]
  },
  {
   "cell_type": "code",
   "execution_count": 7,
   "metadata": {},
   "outputs": [],
   "source": [
    "from sklearn.neighbors import KNeighborsClassifier\n",
    "from sklearn.model_selection import train_test_split"
   ]
  },
  {
   "cell_type": "code",
   "execution_count": 8,
   "metadata": {},
   "outputs": [],
   "source": [
    "from sklearn.svm import SVC\n",
    "from sklearn.datasets import load_iris\n",
    "from sklearn.model_selection import train_test_split"
   ]
  },
  {
   "cell_type": "markdown",
   "metadata": {},
   "source": [
    "# Producao de Matriz com resultados aleatorios (testes)"
   ]
  },
  {
   "cell_type": "markdown",
   "metadata": {},
   "source": [
    "from sklearn.metrics import confusion_matrix\n",
    "\n",
    "confusion_matrix(y_test, predictions)"
   ]
  },
  {
   "cell_type": "markdown",
   "metadata": {},
   "source": [
    "## Ok,  vamos começar a treinar o nosso dellzinho :) "
   ]
  },
  {
   "cell_type": "markdown",
   "metadata": {},
   "source": [
    "# 1- Primeiro, vamos crias um algoritmo pronto para receber um banco de dados para começar a manipular dados (isso depois de receber as bibliotecas ja programadas e instaladas é claro)."
   ]
  },
  {
   "cell_type": "markdown",
   "metadata": {},
   "source": [
    "df = pd.read_csv('{nome do arquivo / endereco de internet / tabela instalada no notebook ja colocada na pasta}')"
   ]
  },
  {
   "cell_type": "markdown",
   "metadata": {},
   "source": [
    "df.head(10)"
   ]
  },
  {
   "cell_type": "markdown",
   "metadata": {},
   "source": [
    "X = df.iloc[:, 1:-1]\n",
    "\n",
    "Y = df.iloc[:, -1]"
   ]
  },
  {
   "cell_type": "markdown",
   "metadata": {},
   "source": [
    "X_train, X_test, Y_train, Y_test = train_test_split(X, Y, test_size = {qualquer numero entre 0 e 1})"
   ]
  },
  {
   "cell_type": "markdown",
   "metadata": {},
   "source": [
    "classifier = {nome da parte da biblioteca importada}Classifier()"
   ]
  },
  {
   "cell_type": "markdown",
   "metadata": {},
   "source": [
    "classifier.fit(X_train, Y_train)"
   ]
  },
  {
   "cell_type": "markdown",
   "metadata": {},
   "source": [
    "predictions = classifier.predict(X_test)"
   ]
  },
  {
   "cell_type": "markdown",
   "metadata": {},
   "source": [
    "print(predictions)"
   ]
  },
  {
   "cell_type": "markdown",
   "metadata": {},
   "source": [
    "# 2 - Vamos programar usando planilhas para testar o algoritmo."
   ]
  },
  {
   "cell_type": "code",
   "execution_count": 5,
   "metadata": {
    "scrolled": true
   },
   "outputs": [],
   "source": [
    "t1 = pd.read_csv('Discretization-Criteria.csv')"
   ]
  },
  {
   "cell_type": "code",
   "execution_count": 6,
   "metadata": {
    "scrolled": true
   },
   "outputs": [
    {
     "data": {
      "text/html": [
       "<div>\n",
       "<style scoped>\n",
       "    .dataframe tbody tr th:only-of-type {\n",
       "        vertical-align: middle;\n",
       "    }\n",
       "\n",
       "    .dataframe tbody tr th {\n",
       "        vertical-align: top;\n",
       "    }\n",
       "\n",
       "    .dataframe thead th {\n",
       "        text-align: right;\n",
       "    }\n",
       "</style>\n",
       "<table border=\"1\" class=\"dataframe\">\n",
       "  <thead>\n",
       "    <tr style=\"text-align: right;\">\n",
       "      <th></th>\n",
       "      <th>Feature Names</th>\n",
       "      <th>Feature Values</th>\n",
       "      <th>Discretization (Items)</th>\n",
       "    </tr>\n",
       "  </thead>\n",
       "  <tbody>\n",
       "    <tr>\n",
       "      <td>0</td>\n",
       "      <td>Age</td>\n",
       "      <td>32:61</td>\n",
       "      <td>[0; 32], ]32; 37], ]37; 42],]42; 47], ]47; 52]...</td>\n",
       "    </tr>\n",
       "    <tr>\n",
       "      <td>1</td>\n",
       "      <td>Gender</td>\n",
       "      <td>Male,Female</td>\n",
       "      <td>[Male], [Female]</td>\n",
       "    </tr>\n",
       "    <tr>\n",
       "      <td>2</td>\n",
       "      <td>BMI(Body Mass Index)</td>\n",
       "      <td>22:35</td>\n",
       "      <td>[0; 18:5[ [18:5; 25[, [25; 30[, [30; 35[, [35;...</td>\n",
       "    </tr>\n",
       "    <tr>\n",
       "      <td>3</td>\n",
       "      <td>Fever</td>\n",
       "      <td>Absent, Present</td>\n",
       "      <td>[Absent], [Present] -</td>\n",
       "    </tr>\n",
       "    <tr>\n",
       "      <td>4</td>\n",
       "      <td>Nausea/Vomiting</td>\n",
       "      <td>Absent, Present</td>\n",
       "      <td>[Absent], [Present] -</td>\n",
       "    </tr>\n",
       "    <tr>\n",
       "      <td>5</td>\n",
       "      <td>Headache</td>\n",
       "      <td>Absent, Present</td>\n",
       "      <td>[Absent], [Present] -</td>\n",
       "    </tr>\n",
       "    <tr>\n",
       "      <td>6</td>\n",
       "      <td>Diarrhea</td>\n",
       "      <td>Absent, Present</td>\n",
       "      <td>[Absent], [Present] -</td>\n",
       "    </tr>\n",
       "    <tr>\n",
       "      <td>7</td>\n",
       "      <td>Fatigue</td>\n",
       "      <td>Absent, Present</td>\n",
       "      <td>[Absent], [Present] -</td>\n",
       "    </tr>\n",
       "    <tr>\n",
       "      <td>8</td>\n",
       "      <td>Bone ache</td>\n",
       "      <td>Absent, Present</td>\n",
       "      <td>[Absent], [Present] -</td>\n",
       "    </tr>\n",
       "    <tr>\n",
       "      <td>9</td>\n",
       "      <td>Jaundice</td>\n",
       "      <td>Absent, Present</td>\n",
       "      <td>[Absent], [Present] -</td>\n",
       "    </tr>\n",
       "    <tr>\n",
       "      <td>10</td>\n",
       "      <td>Epigastria pain</td>\n",
       "      <td>Absent, Present</td>\n",
       "      <td>[Absent], [Present] -</td>\n",
       "    </tr>\n",
       "    <tr>\n",
       "      <td>11</td>\n",
       "      <td>WBC(White Blood Cells)</td>\n",
       "      <td>2991:12101</td>\n",
       "      <td>[0; 4000[, [4000; 11000[, [11000; 12101]</td>\n",
       "    </tr>\n",
       "    <tr>\n",
       "      <td>12</td>\n",
       "      <td>RBC(Red Blood Cells)</td>\n",
       "      <td>3816422:5018451</td>\n",
       "      <td>[0; 3000000[, [3000000; 5000000[,[5000000; 501...</td>\n",
       "    </tr>\n",
       "    <tr>\n",
       "      <td>13</td>\n",
       "      <td>HGB(Hemoglobin)</td>\n",
       "      <td>2:20</td>\n",
       "      <td>If (Gender==[Male]):[2; 14[, [14; 17:5], ]17:5...</td>\n",
       "    </tr>\n",
       "    <tr>\n",
       "      <td>14</td>\n",
       "      <td>Plat(Platelet)</td>\n",
       "      <td>93013:226464</td>\n",
       "      <td>[93013; 100000[, [100000; 255000[,[255000; 226...</td>\n",
       "    </tr>\n",
       "    <tr>\n",
       "      <td>15</td>\n",
       "      <td>AST1(1 week)</td>\n",
       "      <td>0.088888889</td>\n",
       "      <td>[0; 20[, [20; 40], ]40; 128]</td>\n",
       "    </tr>\n",
       "    <tr>\n",
       "      <td>16</td>\n",
       "      <td>ALT1(1 week)</td>\n",
       "      <td>0.088888889</td>\n",
       "      <td>[0; 20[, [20; 40], ]40; 128]</td>\n",
       "    </tr>\n",
       "    <tr>\n",
       "      <td>17</td>\n",
       "      <td>ALT4(4 weeks)</td>\n",
       "      <td>0.088888889</td>\n",
       "      <td>[0; 20[, [20; 40], ]40; 128]</td>\n",
       "    </tr>\n",
       "    <tr>\n",
       "      <td>18</td>\n",
       "      <td>ALT12(12 weeks)</td>\n",
       "      <td>0.088888889</td>\n",
       "      <td>[0; 20[, [20; 40], ]40; 128]</td>\n",
       "    </tr>\n",
       "    <tr>\n",
       "      <td>19</td>\n",
       "      <td>ALT24(24 weeks)</td>\n",
       "      <td>0.088888889</td>\n",
       "      <td>[0; 20[, [20; 40], ]40; 128]</td>\n",
       "    </tr>\n",
       "    <tr>\n",
       "      <td>20</td>\n",
       "      <td>ALT36(36 weeks)</td>\n",
       "      <td>0.088888889</td>\n",
       "      <td>[0; 20[, [20; 40], ]40; 128]</td>\n",
       "    </tr>\n",
       "    <tr>\n",
       "      <td>21</td>\n",
       "      <td>ALT48(48 weeks)</td>\n",
       "      <td>0.088888889</td>\n",
       "      <td>[0; 20[, [20; 40], ]40; 128]</td>\n",
       "    </tr>\n",
       "    <tr>\n",
       "      <td>22</td>\n",
       "      <td>RNA Base</td>\n",
       "      <td>0:1201086</td>\n",
       "      <td>[0; 5], ]5; 1201086]</td>\n",
       "    </tr>\n",
       "    <tr>\n",
       "      <td>23</td>\n",
       "      <td>RNA 4</td>\n",
       "      <td>0:1201715</td>\n",
       "      <td>[0; 5], ]5; 1201715]</td>\n",
       "    </tr>\n",
       "    <tr>\n",
       "      <td>24</td>\n",
       "      <td>RNA 12</td>\n",
       "      <td>0:3731527</td>\n",
       "      <td>[0; 5], ]5; 3731527]</td>\n",
       "    </tr>\n",
       "    <tr>\n",
       "      <td>25</td>\n",
       "      <td>RNA EOT</td>\n",
       "      <td>0:808450</td>\n",
       "      <td>[0; 5], ]5; 808450]</td>\n",
       "    </tr>\n",
       "    <tr>\n",
       "      <td>26</td>\n",
       "      <td>RNA EF(Elongation Factor)</td>\n",
       "      <td>0:808450</td>\n",
       "      <td>[0; 5], ]5; 808450]</td>\n",
       "    </tr>\n",
       "    <tr>\n",
       "      <td>27</td>\n",
       "      <td>Baseline Histological Grading</td>\n",
       "      <td>1:16</td>\n",
       "      <td>[1]; [2]; [3]; :::[16]</td>\n",
       "    </tr>\n",
       "    <tr>\n",
       "      <td>28</td>\n",
       "      <td>Baseline Histological</td>\n",
       "      <td>F0:F4</td>\n",
       "      <td>[No Fibrosis], [Portal Fibrosis],Staging (Clas...</td>\n",
       "    </tr>\n",
       "  </tbody>\n",
       "</table>\n",
       "</div>"
      ],
      "text/plain": [
       "                    Feature Names   Feature Values  \\\n",
       "0                             Age            32:61   \n",
       "1                          Gender      Male,Female   \n",
       "2            BMI(Body Mass Index)            22:35   \n",
       "3                           Fever  Absent, Present   \n",
       "4                 Nausea/Vomiting  Absent, Present   \n",
       "5                        Headache  Absent, Present   \n",
       "6                        Diarrhea  Absent, Present   \n",
       "7                         Fatigue  Absent, Present   \n",
       "8                       Bone ache  Absent, Present   \n",
       "9                        Jaundice  Absent, Present   \n",
       "10                Epigastria pain  Absent, Present   \n",
       "11         WBC(White Blood Cells)       2991:12101   \n",
       "12           RBC(Red Blood Cells)  3816422:5018451   \n",
       "13                HGB(Hemoglobin)             2:20   \n",
       "14                 Plat(Platelet)     93013:226464   \n",
       "15                   AST1(1 week)      0.088888889   \n",
       "16                   ALT1(1 week)      0.088888889   \n",
       "17                  ALT4(4 weeks)      0.088888889   \n",
       "18                ALT12(12 weeks)      0.088888889   \n",
       "19                ALT24(24 weeks)      0.088888889   \n",
       "20                ALT36(36 weeks)      0.088888889   \n",
       "21                ALT48(48 weeks)      0.088888889   \n",
       "22                       RNA Base        0:1201086   \n",
       "23                          RNA 4        0:1201715   \n",
       "24                         RNA 12        0:3731527   \n",
       "25                        RNA EOT         0:808450   \n",
       "26      RNA EF(Elongation Factor)         0:808450   \n",
       "27  Baseline Histological Grading             1:16   \n",
       "28          Baseline Histological            F0:F4   \n",
       "\n",
       "                               Discretization (Items)  \n",
       "0   [0; 32], ]32; 37], ]37; 42],]42; 47], ]47; 52]...  \n",
       "1                                    [Male], [Female]  \n",
       "2   [0; 18:5[ [18:5; 25[, [25; 30[, [30; 35[, [35;...  \n",
       "3                               [Absent], [Present] -  \n",
       "4                               [Absent], [Present] -  \n",
       "5                               [Absent], [Present] -  \n",
       "6                               [Absent], [Present] -  \n",
       "7                               [Absent], [Present] -  \n",
       "8                               [Absent], [Present] -  \n",
       "9                               [Absent], [Present] -  \n",
       "10                              [Absent], [Present] -  \n",
       "11           [0; 4000[, [4000; 11000[, [11000; 12101]  \n",
       "12  [0; 3000000[, [3000000; 5000000[,[5000000; 501...  \n",
       "13  If (Gender==[Male]):[2; 14[, [14; 17:5], ]17:5...  \n",
       "14  [93013; 100000[, [100000; 255000[,[255000; 226...  \n",
       "15                       [0; 20[, [20; 40], ]40; 128]  \n",
       "16                       [0; 20[, [20; 40], ]40; 128]  \n",
       "17                       [0; 20[, [20; 40], ]40; 128]  \n",
       "18                       [0; 20[, [20; 40], ]40; 128]  \n",
       "19                       [0; 20[, [20; 40], ]40; 128]  \n",
       "20                       [0; 20[, [20; 40], ]40; 128]  \n",
       "21                       [0; 20[, [20; 40], ]40; 128]  \n",
       "22                               [0; 5], ]5; 1201086]  \n",
       "23                               [0; 5], ]5; 1201715]  \n",
       "24                               [0; 5], ]5; 3731527]  \n",
       "25                                [0; 5], ]5; 808450]  \n",
       "26                                [0; 5], ]5; 808450]  \n",
       "27                             [1]; [2]; [3]; :::[16]  \n",
       "28  [No Fibrosis], [Portal Fibrosis],Staging (Clas...  "
      ]
     },
     "execution_count": 6,
     "metadata": {},
     "output_type": "execute_result"
    }
   ],
   "source": [
    "t1"
   ]
  },
  {
   "cell_type": "code",
   "execution_count": 4,
   "metadata": {
    "scrolled": true
   },
   "outputs": [
    {
     "name": "stdout",
     "output_type": "stream",
     "text": [
      "<class 'pandas.core.frame.DataFrame'>\n",
      "RangeIndex: 29 entries, 0 to 28\n",
      "Data columns (total 3 columns):\n",
      "Feature Names             29 non-null object\n",
      "Feature Values            29 non-null object\n",
      "Discretization (Items)    29 non-null object\n",
      "dtypes: object(3)\n",
      "memory usage: 824.0+ bytes\n"
     ]
    }
   ],
   "source": [
    "t1.info()"
   ]
  },
  {
   "cell_type": "code",
   "execution_count": null,
   "metadata": {},
   "outputs": [],
   "source": []
  }
 ],
 "metadata": {
  "kernelspec": {
   "display_name": "Python 3",
   "language": "python",
   "name": "python3"
  },
  "language_info": {
   "codemirror_mode": {
    "name": "ipython",
    "version": 3
   },
   "file_extension": ".py",
   "mimetype": "text/x-python",
   "name": "python",
   "nbconvert_exporter": "python",
   "pygments_lexer": "ipython3",
   "version": "3.7.4"
  }
 },
 "nbformat": 4,
 "nbformat_minor": 4
}
