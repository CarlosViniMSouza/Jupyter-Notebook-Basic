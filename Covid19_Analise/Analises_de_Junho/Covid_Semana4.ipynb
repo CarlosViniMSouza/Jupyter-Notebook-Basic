{
 "cells": [
  {
   "cell_type": "code",
   "execution_count": 1,
   "metadata": {},
   "outputs": [],
   "source": [
    "# Bibliotecas para trabalhar com os Dados :\n",
    "import numpy as np\n",
    "import pandas as pd\n",
    "import seaborn as sns\n",
    "import matplotlib.pyplot as plt"
   ]
  },
  {
   "cell_type": "code",
   "execution_count": 2,
   "metadata": {},
   "outputs": [],
   "source": [
    "# Chamando o dataset\n",
    "data_covid_09 = pd.read_csv('Covid-global-semana4.csv')"
   ]
  },
  {
   "cell_type": "code",
   "execution_count": 3,
   "metadata": {
    "scrolled": false
   },
   "outputs": [
    {
     "data": {
      "text/html": [
       "<div>\n",
       "<style scoped>\n",
       "    .dataframe tbody tr th:only-of-type {\n",
       "        vertical-align: middle;\n",
       "    }\n",
       "\n",
       "    .dataframe tbody tr th {\n",
       "        vertical-align: top;\n",
       "    }\n",
       "\n",
       "    .dataframe thead th {\n",
       "        text-align: right;\n",
       "    }\n",
       "</style>\n",
       "<table border=\"1\" class=\"dataframe\">\n",
       "  <thead>\n",
       "    <tr style=\"text-align: right;\">\n",
       "      <th></th>\n",
       "      <th>Dia</th>\n",
       "      <th>UF</th>\n",
       "      <th>País</th>\n",
       "      <th>Região</th>\n",
       "      <th>Confirmados</th>\n",
       "      <th>Confirmados_Acumula</th>\n",
       "      <th>Mortes</th>\n",
       "      <th>Mortes_Acumula</th>\n",
       "    </tr>\n",
       "  </thead>\n",
       "  <tbody>\n",
       "    <tr>\n",
       "      <th>3180</th>\n",
       "      <td>2020-06-22</td>\n",
       "      <td>BR</td>\n",
       "      <td>Brazil</td>\n",
       "      <td>AMRO</td>\n",
       "      <td>34666</td>\n",
       "      <td>1067579</td>\n",
       "      <td>1022</td>\n",
       "      <td>49976</td>\n",
       "    </tr>\n",
       "    <tr>\n",
       "      <th>3181</th>\n",
       "      <td>2020-06-23</td>\n",
       "      <td>BR</td>\n",
       "      <td>Brazil</td>\n",
       "      <td>AMRO</td>\n",
       "      <td>17459</td>\n",
       "      <td>1085038</td>\n",
       "      <td>641</td>\n",
       "      <td>50617</td>\n",
       "    </tr>\n",
       "    <tr>\n",
       "      <th>3182</th>\n",
       "      <td>2020-06-24</td>\n",
       "      <td>BR</td>\n",
       "      <td>Brazil</td>\n",
       "      <td>AMRO</td>\n",
       "      <td>21432</td>\n",
       "      <td>1106470</td>\n",
       "      <td>654</td>\n",
       "      <td>51271</td>\n",
       "    </tr>\n",
       "    <tr>\n",
       "      <th>3183</th>\n",
       "      <td>2020-06-25</td>\n",
       "      <td>BR</td>\n",
       "      <td>Brazil</td>\n",
       "      <td>AMRO</td>\n",
       "      <td>39436</td>\n",
       "      <td>1145906</td>\n",
       "      <td>1374</td>\n",
       "      <td>52645</td>\n",
       "    </tr>\n",
       "    <tr>\n",
       "      <th>3184</th>\n",
       "      <td>2020-06-26</td>\n",
       "      <td>BR</td>\n",
       "      <td>Brazil</td>\n",
       "      <td>AMRO</td>\n",
       "      <td>42725</td>\n",
       "      <td>1188631</td>\n",
       "      <td>1185</td>\n",
       "      <td>53830</td>\n",
       "    </tr>\n",
       "    <tr>\n",
       "      <th>3185</th>\n",
       "      <td>2020-06-27</td>\n",
       "      <td>BR</td>\n",
       "      <td>Brazil</td>\n",
       "      <td>AMRO</td>\n",
       "      <td>39483</td>\n",
       "      <td>1228114</td>\n",
       "      <td>1141</td>\n",
       "      <td>54971</td>\n",
       "    </tr>\n",
       "    <tr>\n",
       "      <th>3186</th>\n",
       "      <td>2020-06-28</td>\n",
       "      <td>BR</td>\n",
       "      <td>Brazil</td>\n",
       "      <td>AMRO</td>\n",
       "      <td>46860</td>\n",
       "      <td>1274974</td>\n",
       "      <td>990</td>\n",
       "      <td>55961</td>\n",
       "    </tr>\n",
       "  </tbody>\n",
       "</table>\n",
       "</div>"
      ],
      "text/plain": [
       "             Dia  UF    País Região  Confirmados  Confirmados_Acumula  Mortes  \\\n",
       "3180  2020-06-22  BR  Brazil   AMRO        34666              1067579    1022   \n",
       "3181  2020-06-23  BR  Brazil   AMRO        17459              1085038     641   \n",
       "3182  2020-06-24  BR  Brazil   AMRO        21432              1106470     654   \n",
       "3183  2020-06-25  BR  Brazil   AMRO        39436              1145906    1374   \n",
       "3184  2020-06-26  BR  Brazil   AMRO        42725              1188631    1185   \n",
       "3185  2020-06-27  BR  Brazil   AMRO        39483              1228114    1141   \n",
       "3186  2020-06-28  BR  Brazil   AMRO        46860              1274974     990   \n",
       "\n",
       "      Mortes_Acumula  \n",
       "3180           49976  \n",
       "3181           50617  \n",
       "3182           51271  \n",
       "3183           52645  \n",
       "3184           53830  \n",
       "3185           54971  \n",
       "3186           55961  "
      ]
     },
     "execution_count": 3,
     "metadata": {},
     "output_type": "execute_result"
    }
   ],
   "source": [
    "# Passando as colunas do idioma inglês para o português\n",
    "data_covid_09.columns = [\"Dia\", \"UF\", \"País\", \"Região\", \"Confirmados\", \"Confirmados_Acumula\", \"Mortes\", \"Mortes_Acumula\"]\n",
    "data_covid_09\n",
    "\n",
    "# Selecionando o país-alvo\n",
    "data_covid_sem = data_covid_09[data_covid_09['País']=='Brazil']\n",
    "data_covid_sem\n",
    "\n",
    "# Reduzindo o tempo dos dados para 1 semana\n",
    "data_covid_semana_br = data_covid_sem.tail(7)\n",
    "data_covid_semana_br"
   ]
  },
  {
   "cell_type": "code",
   "execution_count": 4,
   "metadata": {
    "scrolled": false
   },
   "outputs": [
    {
     "data": {
      "text/html": [
       "<div>\n",
       "<style scoped>\n",
       "    .dataframe tbody tr th:only-of-type {\n",
       "        vertical-align: middle;\n",
       "    }\n",
       "\n",
       "    .dataframe tbody tr th {\n",
       "        vertical-align: top;\n",
       "    }\n",
       "\n",
       "    .dataframe thead th {\n",
       "        text-align: right;\n",
       "    }\n",
       "</style>\n",
       "<table border=\"1\" class=\"dataframe\">\n",
       "  <thead>\n",
       "    <tr style=\"text-align: right;\">\n",
       "      <th></th>\n",
       "      <th>Confirmados</th>\n",
       "      <th>Confirmados_Acumula</th>\n",
       "      <th>Mortes</th>\n",
       "      <th>Mortes_Acumula</th>\n",
       "    </tr>\n",
       "  </thead>\n",
       "  <tbody>\n",
       "    <tr>\n",
       "      <th>count</th>\n",
       "      <td>7.000000</td>\n",
       "      <td>7.000000e+00</td>\n",
       "      <td>7.000000</td>\n",
       "      <td>7.000000</td>\n",
       "    </tr>\n",
       "    <tr>\n",
       "      <th>mean</th>\n",
       "      <td>34580.142857</td>\n",
       "      <td>1.156673e+06</td>\n",
       "      <td>1001.000000</td>\n",
       "      <td>52753.000000</td>\n",
       "    </tr>\n",
       "    <tr>\n",
       "      <th>std</th>\n",
       "      <td>11036.043304</td>\n",
       "      <td>7.727207e+04</td>\n",
       "      <td>271.770737</td>\n",
       "      <td>2267.632025</td>\n",
       "    </tr>\n",
       "    <tr>\n",
       "      <th>min</th>\n",
       "      <td>17459.000000</td>\n",
       "      <td>1.067579e+06</td>\n",
       "      <td>641.000000</td>\n",
       "      <td>49976.000000</td>\n",
       "    </tr>\n",
       "    <tr>\n",
       "      <th>25%</th>\n",
       "      <td>28049.000000</td>\n",
       "      <td>1.095754e+06</td>\n",
       "      <td>822.000000</td>\n",
       "      <td>50944.000000</td>\n",
       "    </tr>\n",
       "    <tr>\n",
       "      <th>50%</th>\n",
       "      <td>39436.000000</td>\n",
       "      <td>1.145906e+06</td>\n",
       "      <td>1022.000000</td>\n",
       "      <td>52645.000000</td>\n",
       "    </tr>\n",
       "    <tr>\n",
       "      <th>75%</th>\n",
       "      <td>41104.000000</td>\n",
       "      <td>1.208372e+06</td>\n",
       "      <td>1163.000000</td>\n",
       "      <td>54400.500000</td>\n",
       "    </tr>\n",
       "    <tr>\n",
       "      <th>max</th>\n",
       "      <td>46860.000000</td>\n",
       "      <td>1.274974e+06</td>\n",
       "      <td>1374.000000</td>\n",
       "      <td>55961.000000</td>\n",
       "    </tr>\n",
       "  </tbody>\n",
       "</table>\n",
       "</div>"
      ],
      "text/plain": [
       "        Confirmados  Confirmados_Acumula       Mortes  Mortes_Acumula\n",
       "count      7.000000         7.000000e+00     7.000000        7.000000\n",
       "mean   34580.142857         1.156673e+06  1001.000000    52753.000000\n",
       "std    11036.043304         7.727207e+04   271.770737     2267.632025\n",
       "min    17459.000000         1.067579e+06   641.000000    49976.000000\n",
       "25%    28049.000000         1.095754e+06   822.000000    50944.000000\n",
       "50%    39436.000000         1.145906e+06  1022.000000    52645.000000\n",
       "75%    41104.000000         1.208372e+06  1163.000000    54400.500000\n",
       "max    46860.000000         1.274974e+06  1374.000000    55961.000000"
      ]
     },
     "execution_count": 4,
     "metadata": {},
     "output_type": "execute_result"
    }
   ],
   "source": [
    "data_covid_semana_br.describe()"
   ]
  },
  {
   "cell_type": "code",
   "execution_count": 5,
   "metadata": {},
   "outputs": [
    {
     "data": {
      "text/html": [
       "<div>\n",
       "<style scoped>\n",
       "    .dataframe tbody tr th:only-of-type {\n",
       "        vertical-align: middle;\n",
       "    }\n",
       "\n",
       "    .dataframe tbody tr th {\n",
       "        vertical-align: top;\n",
       "    }\n",
       "\n",
       "    .dataframe thead th {\n",
       "        text-align: right;\n",
       "    }\n",
       "</style>\n",
       "<table border=\"1\" class=\"dataframe\">\n",
       "  <thead>\n",
       "    <tr style=\"text-align: right;\">\n",
       "      <th></th>\n",
       "      <th>Confirmados</th>\n",
       "      <th>Confirmados_Acumula</th>\n",
       "      <th>Mortes</th>\n",
       "      <th>Mortes_Acumula</th>\n",
       "    </tr>\n",
       "  </thead>\n",
       "  <tbody>\n",
       "    <tr>\n",
       "      <th>Confirmados</th>\n",
       "      <td>1.000000</td>\n",
       "      <td>0.915577</td>\n",
       "      <td>0.911004</td>\n",
       "      <td>0.931294</td>\n",
       "    </tr>\n",
       "    <tr>\n",
       "      <th>Confirmados_Acumula</th>\n",
       "      <td>0.915577</td>\n",
       "      <td>1.000000</td>\n",
       "      <td>0.799572</td>\n",
       "      <td>0.992024</td>\n",
       "    </tr>\n",
       "    <tr>\n",
       "      <th>Mortes</th>\n",
       "      <td>0.911004</td>\n",
       "      <td>0.799572</td>\n",
       "      <td>1.000000</td>\n",
       "      <td>0.852151</td>\n",
       "    </tr>\n",
       "    <tr>\n",
       "      <th>Mortes_Acumula</th>\n",
       "      <td>0.931294</td>\n",
       "      <td>0.992024</td>\n",
       "      <td>0.852151</td>\n",
       "      <td>1.000000</td>\n",
       "    </tr>\n",
       "  </tbody>\n",
       "</table>\n",
       "</div>"
      ],
      "text/plain": [
       "                     Confirmados  Confirmados_Acumula    Mortes  \\\n",
       "Confirmados             1.000000             0.915577  0.911004   \n",
       "Confirmados_Acumula     0.915577             1.000000  0.799572   \n",
       "Mortes                  0.911004             0.799572  1.000000   \n",
       "Mortes_Acumula          0.931294             0.992024  0.852151   \n",
       "\n",
       "                     Mortes_Acumula  \n",
       "Confirmados                0.931294  \n",
       "Confirmados_Acumula        0.992024  \n",
       "Mortes                     0.852151  \n",
       "Mortes_Acumula             1.000000  "
      ]
     },
     "execution_count": 5,
     "metadata": {},
     "output_type": "execute_result"
    }
   ],
   "source": [
    "covid_heatmap = data_covid_sem.corr()\n",
    "covid_heatmap"
   ]
  },
  {
   "cell_type": "markdown",
   "metadata": {},
   "source": [
    "# Iniciando criação de gráficos: "
   ]
  },
  {
   "cell_type": "code",
   "execution_count": 6,
   "metadata": {
    "scrolled": true
   },
   "outputs": [
    {
     "data": {
      "text/plain": [
       "<seaborn.axisgrid.FacetGrid at 0x52c5348>"
      ]
     },
     "execution_count": 6,
     "metadata": {},
     "output_type": "execute_result"
    },
    {
     "data": {
      "image/png": "[encoded data removed]",
      "text/plain": [
       "<Figure size 360x360 with 1 Axes>"
      ]
     },
     "metadata": {
      "needs_background": "light"
     },
     "output_type": "display_data"
    }
   ],
   "source": [
    "sns.relplot(x=\"Dia\", y=\"Confirmados\", data=data_covid_semana_br)"
   ]
  },
  {
   "cell_type": "code",
   "execution_count": 7,
   "metadata": {},
   "outputs": [
    {
     "data": {
      "image/png": "[encoded data removed]",
      "text/plain": [
       "<Figure size 360x360 with 1 Axes>"
      ]
     },
     "metadata": {
      "needs_background": "light"
     },
     "output_type": "display_data"
    }
   ],
   "source": [
    "sns.relplot(x=\"Dia\", y=\"Confirmados\", estimator=None, kind=\"line\", data=data_covid_semana_br);"
   ]
  },
  {
   "cell_type": "code",
   "execution_count": 8,
   "metadata": {},
   "outputs": [
    {
     "data": {
      "text/plain": [
       "<seaborn.axisgrid.FacetGrid at 0xb872fc8>"
      ]
     },
     "execution_count": 8,
     "metadata": {},
     "output_type": "execute_result"
    },
    {
     "data": {
      "image/png": "[encoded data removed]",
      "text/plain": [
       "<Figure size 360x360 with 1 Axes>"
      ]
     },
     "metadata": {
      "needs_background": "light"
     },
     "output_type": "display_data"
    }
   ],
   "source": [
    "sns.relplot(x=\"Dia\", y=\"Mortes\", data=data_covid_semana_br)"
   ]
  },
  {
   "cell_type": "code",
   "execution_count": 9,
   "metadata": {},
   "outputs": [
    {
     "data": {
      "image/png": "[encoded data removed]",
      "text/plain": [
       "<Figure size 360x360 with 1 Axes>"
      ]
     },
     "metadata": {
      "needs_background": "light"
     },
     "output_type": "display_data"
    }
   ],
   "source": [
    "sns.relplot(x=\"Dia\", y=\"Mortes\", estimator=None, kind=\"line\", data=data_covid_semana_br);"
   ]
  },
  {
   "cell_type": "code",
   "execution_count": 10,
   "metadata": {},
   "outputs": [
    {
     "data": {
      "image/png": "[encoded data removed]",
      "text/plain": [
       "<Figure size 1440x576 with 1 Axes>"
      ]
     },
     "metadata": {},
     "output_type": "display_data"
    }
   ],
   "source": [
    "sns.set(style=\"whitegrid\")\n",
    "\n",
    "# Inicializando figura de matplotlib\n",
    "f, ax = plt.subplots(figsize=(20,8))\n",
    "\n",
    "# Plotagem de casos confirmados:\n",
    "sns.set_color_codes(\"colorblind\")\n",
    "sns.barplot(x=\"Dia\", y=\"Confirmados\", data=data_covid_semana_br,\n",
    "           label=\"Casos Confirmados\", color=\"b\")\n",
    "\n",
    "# Plotagem de obitos registrados:\n",
    "sns.set_color_codes(\"deep\")\n",
    "sns.barplot(x=\"Dia\", y=\"Mortes\", data=data_covid_semana_br,\n",
    "           label=\"Obitos\", color=\"b\")\n",
    "\n",
    "# Add uma legenda e informações:\n",
    "ax.legend(ncol=2, loc=\"lower right\", frameon=True)\n",
    "ax.set(xlim=(-4,12), ylabel=\"Mortes\", xlabel=\"Dia\")\n",
    "sns.despine(left=True,bottom=True)"
   ]
  },
  {
   "cell_type": "code",
   "execution_count": 11,
   "metadata": {},
   "outputs": [
    {
     "data": {
      "text/plain": [
       "<matplotlib.axes._subplots.AxesSubplot at 0xba0e9c8>"
      ]
     },
     "execution_count": 11,
     "metadata": {},
     "output_type": "execute_result"
    },
    {
     "data": {
      "image/png": "[encoded data removed]",
      "text/plain": [
       "<Figure size 648x432 with 1 Axes>"
      ]
     },
     "metadata": {},
     "output_type": "display_data"
    }
   ],
   "source": [
    "plt.figure(figsize=(9,6))\n",
    "sns.scatterplot(x=data_covid_semana_br[\"Dia\"], y=data_covid_semana_br[\"Confirmados\"])"
   ]
  },
  {
   "cell_type": "code",
   "execution_count": 12,
   "metadata": {},
   "outputs": [
    {
     "data": {
      "text/plain": [
       "<matplotlib.axes._subplots.AxesSubplot at 0xba7f848>"
      ]
     },
     "execution_count": 12,
     "metadata": {},
     "output_type": "execute_result"
    },
    {
     "data": {
      "image/png": "[encoded data removed]",
      "text/plain": [
       "<Figure size 648x432 with 1 Axes>"
      ]
     },
     "metadata": {},
     "output_type": "display_data"
    }
   ],
   "source": [
    "plt.figure(figsize=(9,6))\n",
    "sns.scatterplot(x=data_covid_semana_br[\"Dia\"], y=data_covid_semana_br[\"Mortes\"])"
   ]
  },
  {
   "cell_type": "markdown",
   "metadata": {},
   "source": [
    "# Tentaremos melhorar a qualidade dos gráficos :"
   ]
  },
  {
   "cell_type": "code",
   "execution_count": 13,
   "metadata": {
    "scrolled": false
   },
   "outputs": [
    {
     "data": {
      "text/plain": [
       "<matplotlib.axes._subplots.AxesSubplot at 0xb93e048>"
      ]
     },
     "execution_count": 13,
     "metadata": {},
     "output_type": "execute_result"
    },
    {
     "data": {
      "image/png": "[encoded data removed]",
      "text/plain": [
       "<Figure size 432x288 with 2 Axes>"
      ]
     },
     "metadata": {},
     "output_type": "display_data"
    }
   ],
   "source": [
    "sns.heatmap(covid_heatmap)"
   ]
  },
  {
   "cell_type": "code",
   "execution_count": 14,
   "metadata": {},
   "outputs": [
    {
     "data": {
      "text/plain": [
       "<matplotlib.axes._subplots.AxesSubplot at 0xb9007c8>"
      ]
     },
     "execution_count": 14,
     "metadata": {},
     "output_type": "execute_result"
    },
    {
     "data": {
      "image/png": "[encoded data removed]",
      "text/plain": [
       "<Figure size 792x648 with 2 Axes>"
      ]
     },
     "metadata": {},
     "output_type": "display_data"
    }
   ],
   "source": [
    "from string import ascii_letters\n",
    "\n",
    "mask = np.triu(np.ones_like(covid_heatmap, dtype=np.bool))\n",
    "f, ax = plt.subplots(figsize=(11, 9))\n",
    "cmap = sns.diverging_palette(220, 10, as_cmap=True)\n",
    "\n",
    "sns.heatmap(covid_heatmap, mask=mask, cmap=cmap, vmax=.3, center=0, square=True, linewidths=.5, cbar_kws={\"shrink\": .5})"
   ]
  },
  {
   "cell_type": "code",
   "execution_count": 15,
   "metadata": {
    "scrolled": true
   },
   "outputs": [
    {
     "data": {
      "image/png": "[encoded data removed]",
      "text/plain": [
       "<Figure size 432x288 with 1 Axes>"
      ]
     },
     "metadata": {},
     "output_type": "display_data"
    }
   ],
   "source": [
    "import matplotlib\n",
    "\n",
    "#Projetando o conteúdo das barras:\n",
    "dias_semana = [\"05-03\", \"05-04\", \"05-05\", \"05-06\", \"05-07\", \"05-08\", \"05-09\"]\n",
    "x = np.arange(len(dias_semana))\n",
    "width = 0.35\n",
    "fig, ax = plt.subplots()\n",
    "rects1 = ax.bar(x - width/2, data_covid_semana_br['Confirmados'], width, label='Confirmados')\n",
    "rects2 = ax.bar(x + width/2, data_covid_semana_br['Mortes'], width, label='Mortes')\n",
    "\n",
    "# Mudanças extras {Títulos, leitura das variaveis X e Y, dimensionamento}.\n",
    "ax.set_ylabel('Amostra_Semanal')\n",
    "ax.set_title('Resultado semanal da COVID-19')\n",
    "ax.set_xticks(x)\n",
    "ax.set_xticklabels(dias_semana)\n",
    "plt.rcParams['figure.figsize'] = (11,7)\n",
    "ax.legend()\n",
    "\n",
    "def autolabel(rects):\n",
    "    #\"\"\"Attach a text label above each bar in *rects*, displaying its height.\"\"\"\n",
    "    for rect in rects:\n",
    "        height = rect.get_height()\n",
    "        ax.annotate('{}'.format(height),\n",
    "                    xy=(rect.get_x() + rect.get_width() / 2, height),\n",
    "                    xytext=(0,3),  # 3 points vertical offset\n",
    "                    textcoords=\"offset points\", ha='center', va='bottom')\n",
    "\n",
    "autolabel(rects1)\n",
    "autolabel(rects2)\n",
    "fig.tight_layout()\n",
    "plt.rcParams['figure.figsize'] = (12,6)\n",
    "plt.show()"
   ]
  },
  {
   "cell_type": "code",
   "execution_count": 16,
   "metadata": {
    "scrolled": false
   },
   "outputs": [
    {
     "data": {
      "image/png": "[encoded data removed]",
      "text/plain": [
       "<Figure size 864x432 with 1 Axes>"
      ]
     },
     "metadata": {},
     "output_type": "display_data"
    }
   ],
   "source": [
    "dias_semana = [\"05-03\", \"05-04\", \"05-05\", \"05-06\", \"05-07\", \"05-08\", \"05-09\"]\n",
    "width = 0.35\n",
    "fig, ax = plt.subplots()\n",
    "\n",
    "ax.bar(dias_semana, data_covid_semana_br['Confirmados'], width, label='Confirmados')\n",
    "ax.bar(dias_semana, data_covid_semana_br['Mortes'], width, bottom=data_covid_semana_br['Confirmados'],\n",
    "       label='Mortes')\n",
    "\n",
    "ax.set_ylabel('Amostra_semanal')\n",
    "ax.set_title('Resultado semanal da COVID-19')\n",
    "ax.legend()\n",
    "\n",
    "plt.rcParams['figure.figsize'] = (12,6)\n",
    "plt.show()"
   ]
  },
  {
   "cell_type": "code",
   "execution_count": 17,
   "metadata": {},
   "outputs": [
    {
     "data": {
      "text/html": [
       "<div>\n",
       "<style scoped>\n",
       "    .dataframe tbody tr th:only-of-type {\n",
       "        vertical-align: middle;\n",
       "    }\n",
       "\n",
       "    .dataframe tbody tr th {\n",
       "        vertical-align: top;\n",
       "    }\n",
       "\n",
       "    .dataframe thead th {\n",
       "        text-align: right;\n",
       "    }\n",
       "</style>\n",
       "<table border=\"1\" class=\"dataframe\">\n",
       "  <thead>\n",
       "    <tr style=\"text-align: right;\">\n",
       "      <th></th>\n",
       "      <th>Dia</th>\n",
       "      <th>UF</th>\n",
       "      <th>País</th>\n",
       "      <th>Região</th>\n",
       "      <th>Confirmados</th>\n",
       "      <th>Confirmados_Acumula</th>\n",
       "      <th>Mortes</th>\n",
       "      <th>Mortes_Acumula</th>\n",
       "    </tr>\n",
       "  </thead>\n",
       "  <tbody>\n",
       "    <tr>\n",
       "      <th>3180</th>\n",
       "      <td>2020-06-22</td>\n",
       "      <td>BR</td>\n",
       "      <td>Brazil</td>\n",
       "      <td>AMRO</td>\n",
       "      <td>34666</td>\n",
       "      <td>1067579</td>\n",
       "      <td>1022</td>\n",
       "      <td>49976</td>\n",
       "    </tr>\n",
       "    <tr>\n",
       "      <th>3181</th>\n",
       "      <td>2020-06-23</td>\n",
       "      <td>BR</td>\n",
       "      <td>Brazil</td>\n",
       "      <td>AMRO</td>\n",
       "      <td>17459</td>\n",
       "      <td>1085038</td>\n",
       "      <td>641</td>\n",
       "      <td>50617</td>\n",
       "    </tr>\n",
       "    <tr>\n",
       "      <th>3182</th>\n",
       "      <td>2020-06-24</td>\n",
       "      <td>BR</td>\n",
       "      <td>Brazil</td>\n",
       "      <td>AMRO</td>\n",
       "      <td>21432</td>\n",
       "      <td>1106470</td>\n",
       "      <td>654</td>\n",
       "      <td>51271</td>\n",
       "    </tr>\n",
       "    <tr>\n",
       "      <th>3183</th>\n",
       "      <td>2020-06-25</td>\n",
       "      <td>BR</td>\n",
       "      <td>Brazil</td>\n",
       "      <td>AMRO</td>\n",
       "      <td>39436</td>\n",
       "      <td>1145906</td>\n",
       "      <td>1374</td>\n",
       "      <td>52645</td>\n",
       "    </tr>\n",
       "    <tr>\n",
       "      <th>3184</th>\n",
       "      <td>2020-06-26</td>\n",
       "      <td>BR</td>\n",
       "      <td>Brazil</td>\n",
       "      <td>AMRO</td>\n",
       "      <td>42725</td>\n",
       "      <td>1188631</td>\n",
       "      <td>1185</td>\n",
       "      <td>53830</td>\n",
       "    </tr>\n",
       "    <tr>\n",
       "      <th>3185</th>\n",
       "      <td>2020-06-27</td>\n",
       "      <td>BR</td>\n",
       "      <td>Brazil</td>\n",
       "      <td>AMRO</td>\n",
       "      <td>39483</td>\n",
       "      <td>1228114</td>\n",
       "      <td>1141</td>\n",
       "      <td>54971</td>\n",
       "    </tr>\n",
       "    <tr>\n",
       "      <th>3186</th>\n",
       "      <td>2020-06-28</td>\n",
       "      <td>BR</td>\n",
       "      <td>Brazil</td>\n",
       "      <td>AMRO</td>\n",
       "      <td>46860</td>\n",
       "      <td>1274974</td>\n",
       "      <td>990</td>\n",
       "      <td>55961</td>\n",
       "    </tr>\n",
       "  </tbody>\n",
       "</table>\n",
       "</div>"
      ],
      "text/plain": [
       "             Dia  UF    País Região  Confirmados  Confirmados_Acumula  Mortes  \\\n",
       "3180  2020-06-22  BR  Brazil   AMRO        34666              1067579    1022   \n",
       "3181  2020-06-23  BR  Brazil   AMRO        17459              1085038     641   \n",
       "3182  2020-06-24  BR  Brazil   AMRO        21432              1106470     654   \n",
       "3183  2020-06-25  BR  Brazil   AMRO        39436              1145906    1374   \n",
       "3184  2020-06-26  BR  Brazil   AMRO        42725              1188631    1185   \n",
       "3185  2020-06-27  BR  Brazil   AMRO        39483              1228114    1141   \n",
       "3186  2020-06-28  BR  Brazil   AMRO        46860              1274974     990   \n",
       "\n",
       "      Mortes_Acumula  \n",
       "3180           49976  \n",
       "3181           50617  \n",
       "3182           51271  \n",
       "3183           52645  \n",
       "3184           53830  \n",
       "3185           54971  \n",
       "3186           55961  "
      ]
     },
     "execution_count": 17,
     "metadata": {},
     "output_type": "execute_result"
    }
   ],
   "source": [
    "data_covid_semana_br"
   ]
  },
  {
   "cell_type": "code",
   "execution_count": 18,
   "metadata": {
    "scrolled": true
   },
   "outputs": [
    {
     "data": {
      "image/png": "[encoded data removed]",
      "text/plain": [
       "<Figure size 864x432 with 1 Axes>"
      ]
     },
     "metadata": {},
     "output_type": "display_data"
    }
   ],
   "source": [
    "#https://matplotlib.org/3.2.1/gallery/lines_bars_and_markers/stem_plot.html#sphx-glr-gallery-lines-bars-and-markers-stem-plot-py\n",
    "\n",
    "x = data_covid_semana_br['Dia']\n",
    "y = data_covid_semana_br['Confirmados']\n",
    "\n",
    "plt.stem(x, y, use_line_collection=True)\n",
    "plt.show()"
   ]
  },
  {
   "cell_type": "code",
   "execution_count": 19,
   "metadata": {
    "scrolled": true
   },
   "outputs": [
    {
     "data": {
      "image/png": "[encoded data removed]",
      "text/plain": [
       "<Figure size 864x432 with 1 Axes>"
      ]
     },
     "metadata": {},
     "output_type": "display_data"
    }
   ],
   "source": [
    "covid_semana_br = data_covid_sem.tail(14)\n",
    "covid_semana_br\n",
    "#Novo DataFrame para visualizar com o exemplo anterior :\n",
    "##2 semanas de dados\n",
    "\n",
    "X = covid_semana_br['Dia']\n",
    "Y = covid_semana_br['Confirmados']\n",
    "\n",
    "plt.stem(X, Y, use_line_collection=True)\n",
    "plt.show()"
   ]
  },
  {
   "cell_type": "code",
   "execution_count": 20,
   "metadata": {
    "scrolled": true
   },
   "outputs": [
    {
     "data": {
      "image/png": "[encoded data removed]",
      "text/plain": [
       "<Figure size 864x432 with 1 Axes>"
      ]
     },
     "metadata": {},
     "output_type": "display_data"
    }
   ],
   "source": [
    "covid_semana_br = data_covid_sem.tail(21)\n",
    "covid_semana_br\n",
    "#Novo DataFrame para visualizar com o exemplo anterior :\n",
    "##3 semanas de dados\n",
    "\n",
    "X = covid_semana_br['Dia']\n",
    "Y = covid_semana_br['Confirmados']\n",
    "\n",
    "plt.stem(X, Y, use_line_collection=True)\n",
    "plt.show()"
   ]
  },
  {
   "cell_type": "code",
   "execution_count": 21,
   "metadata": {
    "scrolled": true
   },
   "outputs": [
    {
     "data": {
      "image/png": "[encoded data removed]",
      "text/plain": [
       "<Figure size 1296x576 with 1 Axes>"
      ]
     },
     "metadata": {},
     "output_type": "display_data"
    }
   ],
   "source": [
    "covid_semana_br = data_covid_sem.tail(28)\n",
    "covid_semana_br\n",
    "#Novo DataFrame para visualizar com o exemplo anterior :\n",
    "## 4 semanas de dados\n",
    "\n",
    "X = covid_semana_br['Dia']\n",
    "Y = covid_semana_br['Confirmados']\n",
    "\n",
    "plt.rcParams['figure.figsize'] = (18,8)\n",
    "plt.stem(X, Y, use_line_collection=True)\n",
    "plt.show()"
   ]
  },
  {
   "cell_type": "code",
   "execution_count": 22,
   "metadata": {
    "scrolled": true
   },
   "outputs": [
    {
     "data": {
      "image/png": "[encoded data removed]",
      "text/plain": [
       "<Figure size 1296x576 with 1 Axes>"
      ]
     },
     "metadata": {},
     "output_type": "display_data"
    }
   ],
   "source": [
    "covid_semana_br = data_covid_sem.tail(30)\n",
    "covid_semana_br\n",
    "#Novo DataFrame para visualizar com o exemplo anterior :\n",
    "## 1 mês de dados\n",
    "\n",
    "X = covid_semana_br['Dia']\n",
    "Y = covid_semana_br['Confirmados']\n",
    "\n",
    "plt.rcParams['figure.figsize'] = (18,8)\n",
    "plt.stem(X, Y, use_line_collection=True)\n",
    "plt.show()"
   ]
  },
  {
   "cell_type": "markdown",
   "metadata": {},
   "source": [
    "# Vejamos o que fazer com o Histograma {visto que ele é o + simples e fácil de entender}"
   ]
  },
  {
   "cell_type": "code",
   "execution_count": 23,
   "metadata": {
    "scrolled": false
   },
   "outputs": [
    {
     "data": {
      "text/plain": [
       "(array([2., 0., 0., 0., 1., 1., 1., 1., 0., 1.]),\n",
       " array([ 641. ,  714.3,  787.6,  860.9,  934.2, 1007.5, 1080.8, 1154.1,\n",
       "        1227.4, 1300.7, 1374. ]),\n",
       " <a list of 10 Patch objects>)"
      ]
     },
     "execution_count": 23,
     "metadata": {},
     "output_type": "execute_result"
    },
    {
     "data": {
      "image/png": "[encoded data removed]",
      "text/plain": [
       "<Figure size 1296x576 with 2 Axes>"
      ]
     },
     "metadata": {},
     "output_type": "display_data"
    }
   ],
   "source": [
    "# https://matplotlib.org/3.2.1/gallery/statistics/hist.html#sphx-glr-gallery-statistics-hist-py\n",
    "# vamos importar +1 biblioteca específica do matplotlib\n",
    "from matplotlib.ticker import PercentFormatter\n",
    "\n",
    "# vamos atribuir um prazo de 7 dias para variável covid_semana_br :\n",
    "covid_semana_br = data_covid_sem.tail(7)\n",
    "covid_semana_br\n",
    "\n",
    "# gerando uma distribuição normal, com coord.: (x=0,y=5)\n",
    "var1 = covid_semana_br['Confirmados']\n",
    "var2 = covid_semana_br['Mortes']\n",
    "\n",
    "# configurações :\n",
    "fig, axs = plt.subplots(1, 2, sharey=True, tight_layout=True)\n",
    "ax.set_ylabel('Amostra semanal')\n",
    "ax.set_title('Resultado semanal da COVID-19')\n",
    "\n",
    "# plotando os gráficos :\n",
    "axs[0].hist(var1)\n",
    "axs[1].hist(var2)"
   ]
  },
  {
   "cell_type": "markdown",
   "metadata": {},
   "source": [
    "# Vamos tentar incluir o Aprendizado de Máquina aqui e depois analisá-lo !"
   ]
  },
  {
   "cell_type": "markdown",
   "metadata": {},
   "source": [
    "# Primeiramente, vamos utilizar a 'Árvore de Decisão' p/ análises."
   ]
  },
  {
   "cell_type": "code",
   "execution_count": 24,
   "metadata": {},
   "outputs": [],
   "source": [
    "#Chamando redes neurais para destrinchar os dados!\n",
    "from sklearn.ensemble import RandomForestClassifier\n",
    "Modelo = RandomForestClassifier(n_estimators=100, n_jobs=-1, random_state=0)"
   ]
  },
  {
   "cell_type": "code",
   "execution_count": 25,
   "metadata": {},
   "outputs": [
    {
     "data": {
      "text/html": [
       "<div>\n",
       "<style scoped>\n",
       "    .dataframe tbody tr th:only-of-type {\n",
       "        vertical-align: middle;\n",
       "    }\n",
       "\n",
       "    .dataframe tbody tr th {\n",
       "        vertical-align: top;\n",
       "    }\n",
       "\n",
       "    .dataframe thead th {\n",
       "        text-align: right;\n",
       "    }\n",
       "</style>\n",
       "<table border=\"1\" class=\"dataframe\">\n",
       "  <thead>\n",
       "    <tr style=\"text-align: right;\">\n",
       "      <th></th>\n",
       "      <th>Dia</th>\n",
       "      <th>UF</th>\n",
       "      <th>País</th>\n",
       "      <th>Região</th>\n",
       "      <th>Confirmados</th>\n",
       "      <th>Confirmados_Acumula</th>\n",
       "      <th>Mortes</th>\n",
       "      <th>Mortes_Acumula</th>\n",
       "    </tr>\n",
       "  </thead>\n",
       "  <tbody>\n",
       "    <tr>\n",
       "      <th>3157</th>\n",
       "      <td>2020-05-30</td>\n",
       "      <td>BR</td>\n",
       "      <td>Brazil</td>\n",
       "      <td>AMRO</td>\n",
       "      <td>26417</td>\n",
       "      <td>438238</td>\n",
       "      <td>1156</td>\n",
       "      <td>26754</td>\n",
       "    </tr>\n",
       "    <tr>\n",
       "      <th>3158</th>\n",
       "      <td>2020-05-31</td>\n",
       "      <td>BR</td>\n",
       "      <td>Brazil</td>\n",
       "      <td>AMRO</td>\n",
       "      <td>26928</td>\n",
       "      <td>465166</td>\n",
       "      <td>1124</td>\n",
       "      <td>27878</td>\n",
       "    </tr>\n",
       "    <tr>\n",
       "      <th>3159</th>\n",
       "      <td>2020-06-01</td>\n",
       "      <td>BR</td>\n",
       "      <td>Brazil</td>\n",
       "      <td>AMRO</td>\n",
       "      <td>33274</td>\n",
       "      <td>498440</td>\n",
       "      <td>956</td>\n",
       "      <td>28834</td>\n",
       "    </tr>\n",
       "    <tr>\n",
       "      <th>3160</th>\n",
       "      <td>2020-06-02</td>\n",
       "      <td>BR</td>\n",
       "      <td>Brazil</td>\n",
       "      <td>AMRO</td>\n",
       "      <td>16409</td>\n",
       "      <td>514849</td>\n",
       "      <td>480</td>\n",
       "      <td>29314</td>\n",
       "    </tr>\n",
       "    <tr>\n",
       "      <th>3161</th>\n",
       "      <td>2020-06-03</td>\n",
       "      <td>BR</td>\n",
       "      <td>Brazil</td>\n",
       "      <td>AMRO</td>\n",
       "      <td>11598</td>\n",
       "      <td>526447</td>\n",
       "      <td>623</td>\n",
       "      <td>29937</td>\n",
       "    </tr>\n",
       "    <tr>\n",
       "      <th>3162</th>\n",
       "      <td>2020-06-04</td>\n",
       "      <td>BR</td>\n",
       "      <td>Brazil</td>\n",
       "      <td>AMRO</td>\n",
       "      <td>28936</td>\n",
       "      <td>555383</td>\n",
       "      <td>1262</td>\n",
       "      <td>31199</td>\n",
       "    </tr>\n",
       "    <tr>\n",
       "      <th>3163</th>\n",
       "      <td>2020-06-05</td>\n",
       "      <td>BR</td>\n",
       "      <td>Brazil</td>\n",
       "      <td>AMRO</td>\n",
       "      <td>28633</td>\n",
       "      <td>584016</td>\n",
       "      <td>1349</td>\n",
       "      <td>32548</td>\n",
       "    </tr>\n",
       "    <tr>\n",
       "      <th>3164</th>\n",
       "      <td>2020-06-06</td>\n",
       "      <td>BR</td>\n",
       "      <td>Brazil</td>\n",
       "      <td>AMRO</td>\n",
       "      <td>30925</td>\n",
       "      <td>614941</td>\n",
       "      <td>1473</td>\n",
       "      <td>34021</td>\n",
       "    </tr>\n",
       "    <tr>\n",
       "      <th>3165</th>\n",
       "      <td>2020-06-07</td>\n",
       "      <td>BR</td>\n",
       "      <td>Brazil</td>\n",
       "      <td>AMRO</td>\n",
       "      <td>30830</td>\n",
       "      <td>645771</td>\n",
       "      <td>1005</td>\n",
       "      <td>35026</td>\n",
       "    </tr>\n",
       "    <tr>\n",
       "      <th>3166</th>\n",
       "      <td>2020-06-08</td>\n",
       "      <td>BR</td>\n",
       "      <td>Brazil</td>\n",
       "      <td>AMRO</td>\n",
       "      <td>27075</td>\n",
       "      <td>672846</td>\n",
       "      <td>904</td>\n",
       "      <td>35930</td>\n",
       "    </tr>\n",
       "    <tr>\n",
       "      <th>3167</th>\n",
       "      <td>2020-06-09</td>\n",
       "      <td>BR</td>\n",
       "      <td>Brazil</td>\n",
       "      <td>AMRO</td>\n",
       "      <td>18912</td>\n",
       "      <td>691758</td>\n",
       "      <td>525</td>\n",
       "      <td>36455</td>\n",
       "    </tr>\n",
       "    <tr>\n",
       "      <th>3168</th>\n",
       "      <td>2020-06-10</td>\n",
       "      <td>BR</td>\n",
       "      <td>Brazil</td>\n",
       "      <td>AMRO</td>\n",
       "      <td>15654</td>\n",
       "      <td>707412</td>\n",
       "      <td>679</td>\n",
       "      <td>37134</td>\n",
       "    </tr>\n",
       "    <tr>\n",
       "      <th>3169</th>\n",
       "      <td>2020-06-11</td>\n",
       "      <td>BR</td>\n",
       "      <td>Brazil</td>\n",
       "      <td>AMRO</td>\n",
       "      <td>32091</td>\n",
       "      <td>739503</td>\n",
       "      <td>1272</td>\n",
       "      <td>38406</td>\n",
       "    </tr>\n",
       "    <tr>\n",
       "      <th>3170</th>\n",
       "      <td>2020-06-12</td>\n",
       "      <td>BR</td>\n",
       "      <td>Brazil</td>\n",
       "      <td>AMRO</td>\n",
       "      <td>32913</td>\n",
       "      <td>772416</td>\n",
       "      <td>1274</td>\n",
       "      <td>39680</td>\n",
       "    </tr>\n",
       "    <tr>\n",
       "      <th>3171</th>\n",
       "      <td>2020-06-13</td>\n",
       "      <td>BR</td>\n",
       "      <td>Brazil</td>\n",
       "      <td>AMRO</td>\n",
       "      <td>30412</td>\n",
       "      <td>802828</td>\n",
       "      <td>1239</td>\n",
       "      <td>40919</td>\n",
       "    </tr>\n",
       "    <tr>\n",
       "      <th>3172</th>\n",
       "      <td>2020-06-14</td>\n",
       "      <td>BR</td>\n",
       "      <td>Brazil</td>\n",
       "      <td>AMRO</td>\n",
       "      <td>25982</td>\n",
       "      <td>828810</td>\n",
       "      <td>909</td>\n",
       "      <td>41828</td>\n",
       "    </tr>\n",
       "    <tr>\n",
       "      <th>3173</th>\n",
       "      <td>2020-06-15</td>\n",
       "      <td>BR</td>\n",
       "      <td>Brazil</td>\n",
       "      <td>AMRO</td>\n",
       "      <td>21704</td>\n",
       "      <td>850514</td>\n",
       "      <td>892</td>\n",
       "      <td>42720</td>\n",
       "    </tr>\n",
       "    <tr>\n",
       "      <th>3174</th>\n",
       "      <td>2020-06-16</td>\n",
       "      <td>BR</td>\n",
       "      <td>Brazil</td>\n",
       "      <td>AMRO</td>\n",
       "      <td>17110</td>\n",
       "      <td>867624</td>\n",
       "      <td>612</td>\n",
       "      <td>43332</td>\n",
       "    </tr>\n",
       "    <tr>\n",
       "      <th>3175</th>\n",
       "      <td>2020-06-17</td>\n",
       "      <td>BR</td>\n",
       "      <td>Brazil</td>\n",
       "      <td>AMRO</td>\n",
       "      <td>20647</td>\n",
       "      <td>888271</td>\n",
       "      <td>627</td>\n",
       "      <td>43959</td>\n",
       "    </tr>\n",
       "    <tr>\n",
       "      <th>3176</th>\n",
       "      <td>2020-06-18</td>\n",
       "      <td>BR</td>\n",
       "      <td>Brazil</td>\n",
       "      <td>AMRO</td>\n",
       "      <td>34918</td>\n",
       "      <td>923189</td>\n",
       "      <td>1282</td>\n",
       "      <td>45241</td>\n",
       "    </tr>\n",
       "    <tr>\n",
       "      <th>3177</th>\n",
       "      <td>2020-06-19</td>\n",
       "      <td>BR</td>\n",
       "      <td>Brazil</td>\n",
       "      <td>AMRO</td>\n",
       "      <td>32188</td>\n",
       "      <td>955377</td>\n",
       "      <td>1269</td>\n",
       "      <td>46510</td>\n",
       "    </tr>\n",
       "    <tr>\n",
       "      <th>3178</th>\n",
       "      <td>2020-06-20</td>\n",
       "      <td>BR</td>\n",
       "      <td>Brazil</td>\n",
       "      <td>AMRO</td>\n",
       "      <td>22765</td>\n",
       "      <td>978142</td>\n",
       "      <td>1238</td>\n",
       "      <td>47748</td>\n",
       "    </tr>\n",
       "    <tr>\n",
       "      <th>3179</th>\n",
       "      <td>2020-06-21</td>\n",
       "      <td>BR</td>\n",
       "      <td>Brazil</td>\n",
       "      <td>AMRO</td>\n",
       "      <td>54771</td>\n",
       "      <td>1032913</td>\n",
       "      <td>1206</td>\n",
       "      <td>48954</td>\n",
       "    </tr>\n",
       "    <tr>\n",
       "      <th>3180</th>\n",
       "      <td>2020-06-22</td>\n",
       "      <td>BR</td>\n",
       "      <td>Brazil</td>\n",
       "      <td>AMRO</td>\n",
       "      <td>34666</td>\n",
       "      <td>1067579</td>\n",
       "      <td>1022</td>\n",
       "      <td>49976</td>\n",
       "    </tr>\n",
       "    <tr>\n",
       "      <th>3181</th>\n",
       "      <td>2020-06-23</td>\n",
       "      <td>BR</td>\n",
       "      <td>Brazil</td>\n",
       "      <td>AMRO</td>\n",
       "      <td>17459</td>\n",
       "      <td>1085038</td>\n",
       "      <td>641</td>\n",
       "      <td>50617</td>\n",
       "    </tr>\n",
       "    <tr>\n",
       "      <th>3182</th>\n",
       "      <td>2020-06-24</td>\n",
       "      <td>BR</td>\n",
       "      <td>Brazil</td>\n",
       "      <td>AMRO</td>\n",
       "      <td>21432</td>\n",
       "      <td>1106470</td>\n",
       "      <td>654</td>\n",
       "      <td>51271</td>\n",
       "    </tr>\n",
       "    <tr>\n",
       "      <th>3183</th>\n",
       "      <td>2020-06-25</td>\n",
       "      <td>BR</td>\n",
       "      <td>Brazil</td>\n",
       "      <td>AMRO</td>\n",
       "      <td>39436</td>\n",
       "      <td>1145906</td>\n",
       "      <td>1374</td>\n",
       "      <td>52645</td>\n",
       "    </tr>\n",
       "    <tr>\n",
       "      <th>3184</th>\n",
       "      <td>2020-06-26</td>\n",
       "      <td>BR</td>\n",
       "      <td>Brazil</td>\n",
       "      <td>AMRO</td>\n",
       "      <td>42725</td>\n",
       "      <td>1188631</td>\n",
       "      <td>1185</td>\n",
       "      <td>53830</td>\n",
       "    </tr>\n",
       "    <tr>\n",
       "      <th>3185</th>\n",
       "      <td>2020-06-27</td>\n",
       "      <td>BR</td>\n",
       "      <td>Brazil</td>\n",
       "      <td>AMRO</td>\n",
       "      <td>39483</td>\n",
       "      <td>1228114</td>\n",
       "      <td>1141</td>\n",
       "      <td>54971</td>\n",
       "    </tr>\n",
       "    <tr>\n",
       "      <th>3186</th>\n",
       "      <td>2020-06-28</td>\n",
       "      <td>BR</td>\n",
       "      <td>Brazil</td>\n",
       "      <td>AMRO</td>\n",
       "      <td>46860</td>\n",
       "      <td>1274974</td>\n",
       "      <td>990</td>\n",
       "      <td>55961</td>\n",
       "    </tr>\n",
       "  </tbody>\n",
       "</table>\n",
       "</div>"
      ],
      "text/plain": [
       "             Dia  UF    País Região  Confirmados  Confirmados_Acumula  Mortes  \\\n",
       "3157  2020-05-30  BR  Brazil   AMRO        26417               438238    1156   \n",
       "3158  2020-05-31  BR  Brazil   AMRO        26928               465166    1124   \n",
       "3159  2020-06-01  BR  Brazil   AMRO        33274               498440     956   \n",
       "3160  2020-06-02  BR  Brazil   AMRO        16409               514849     480   \n",
       "3161  2020-06-03  BR  Brazil   AMRO        11598               526447     623   \n",
       "3162  2020-06-04  BR  Brazil   AMRO        28936               555383    1262   \n",
       "3163  2020-06-05  BR  Brazil   AMRO        28633               584016    1349   \n",
       "3164  2020-06-06  BR  Brazil   AMRO        30925               614941    1473   \n",
       "3165  2020-06-07  BR  Brazil   AMRO        30830               645771    1005   \n",
       "3166  2020-06-08  BR  Brazil   AMRO        27075               672846     904   \n",
       "3167  2020-06-09  BR  Brazil   AMRO        18912               691758     525   \n",
       "3168  2020-06-10  BR  Brazil   AMRO        15654               707412     679   \n",
       "3169  2020-06-11  BR  Brazil   AMRO        32091               739503    1272   \n",
       "3170  2020-06-12  BR  Brazil   AMRO        32913               772416    1274   \n",
       "3171  2020-06-13  BR  Brazil   AMRO        30412               802828    1239   \n",
       "3172  2020-06-14  BR  Brazil   AMRO        25982               828810     909   \n",
       "3173  2020-06-15  BR  Brazil   AMRO        21704               850514     892   \n",
       "3174  2020-06-16  BR  Brazil   AMRO        17110               867624     612   \n",
       "3175  2020-06-17  BR  Brazil   AMRO        20647               888271     627   \n",
       "3176  2020-06-18  BR  Brazil   AMRO        34918               923189    1282   \n",
       "3177  2020-06-19  BR  Brazil   AMRO        32188               955377    1269   \n",
       "3178  2020-06-20  BR  Brazil   AMRO        22765               978142    1238   \n",
       "3179  2020-06-21  BR  Brazil   AMRO        54771              1032913    1206   \n",
       "3180  2020-06-22  BR  Brazil   AMRO        34666              1067579    1022   \n",
       "3181  2020-06-23  BR  Brazil   AMRO        17459              1085038     641   \n",
       "3182  2020-06-24  BR  Brazil   AMRO        21432              1106470     654   \n",
       "3183  2020-06-25  BR  Brazil   AMRO        39436              1145906    1374   \n",
       "3184  2020-06-26  BR  Brazil   AMRO        42725              1188631    1185   \n",
       "3185  2020-06-27  BR  Brazil   AMRO        39483              1228114    1141   \n",
       "3186  2020-06-28  BR  Brazil   AMRO        46860              1274974     990   \n",
       "\n",
       "      Mortes_Acumula  \n",
       "3157           26754  \n",
       "3158           27878  \n",
       "3159           28834  \n",
       "3160           29314  \n",
       "3161           29937  \n",
       "3162           31199  \n",
       "3163           32548  \n",
       "3164           34021  \n",
       "3165           35026  \n",
       "3166           35930  \n",
       "3167           36455  \n",
       "3168           37134  \n",
       "3169           38406  \n",
       "3170           39680  \n",
       "3171           40919  \n",
       "3172           41828  \n",
       "3173           42720  \n",
       "3174           43332  \n",
       "3175           43959  \n",
       "3176           45241  \n",
       "3177           46510  \n",
       "3178           47748  \n",
       "3179           48954  \n",
       "3180           49976  \n",
       "3181           50617  \n",
       "3182           51271  \n",
       "3183           52645  \n",
       "3184           53830  \n",
       "3185           54971  \n",
       "3186           55961  "
      ]
     },
     "execution_count": 25,
     "metadata": {},
     "output_type": "execute_result"
    }
   ],
   "source": [
    "pesquisa_covid = data_covid_sem.tail(30)\n",
    "pesquisa_covid"
   ]
  },
  {
   "cell_type": "code",
   "execution_count": 26,
   "metadata": {},
   "outputs": [],
   "source": [
    "#Então,vamos usar as variáveis 'Confirmados' e 'Mortes' para estudos iniciais.\n",
    "alvo = ['Confirmados', 'Mortes']\n",
    "x = pesquisa_covid[alvo]\n",
    "y = pesquisa_covid['Confirmados']"
   ]
  },
  {
   "cell_type": "code",
   "execution_count": 27,
   "metadata": {
    "scrolled": true
   },
   "outputs": [
    {
     "data": {
      "text/html": [
       "<div>\n",
       "<style scoped>\n",
       "    .dataframe tbody tr th:only-of-type {\n",
       "        vertical-align: middle;\n",
       "    }\n",
       "\n",
       "    .dataframe tbody tr th {\n",
       "        vertical-align: top;\n",
       "    }\n",
       "\n",
       "    .dataframe thead th {\n",
       "        text-align: right;\n",
       "    }\n",
       "</style>\n",
       "<table border=\"1\" class=\"dataframe\">\n",
       "  <thead>\n",
       "    <tr style=\"text-align: right;\">\n",
       "      <th></th>\n",
       "      <th>Confirmados</th>\n",
       "      <th>Mortes</th>\n",
       "    </tr>\n",
       "  </thead>\n",
       "  <tbody>\n",
       "    <tr>\n",
       "      <th>3157</th>\n",
       "      <td>26417</td>\n",
       "      <td>1156</td>\n",
       "    </tr>\n",
       "    <tr>\n",
       "      <th>3158</th>\n",
       "      <td>26928</td>\n",
       "      <td>1124</td>\n",
       "    </tr>\n",
       "    <tr>\n",
       "      <th>3159</th>\n",
       "      <td>33274</td>\n",
       "      <td>956</td>\n",
       "    </tr>\n",
       "    <tr>\n",
       "      <th>3160</th>\n",
       "      <td>16409</td>\n",
       "      <td>480</td>\n",
       "    </tr>\n",
       "    <tr>\n",
       "      <th>3161</th>\n",
       "      <td>11598</td>\n",
       "      <td>623</td>\n",
       "    </tr>\n",
       "    <tr>\n",
       "      <th>3162</th>\n",
       "      <td>28936</td>\n",
       "      <td>1262</td>\n",
       "    </tr>\n",
       "    <tr>\n",
       "      <th>3163</th>\n",
       "      <td>28633</td>\n",
       "      <td>1349</td>\n",
       "    </tr>\n",
       "    <tr>\n",
       "      <th>3164</th>\n",
       "      <td>30925</td>\n",
       "      <td>1473</td>\n",
       "    </tr>\n",
       "    <tr>\n",
       "      <th>3165</th>\n",
       "      <td>30830</td>\n",
       "      <td>1005</td>\n",
       "    </tr>\n",
       "    <tr>\n",
       "      <th>3166</th>\n",
       "      <td>27075</td>\n",
       "      <td>904</td>\n",
       "    </tr>\n",
       "    <tr>\n",
       "      <th>3167</th>\n",
       "      <td>18912</td>\n",
       "      <td>525</td>\n",
       "    </tr>\n",
       "    <tr>\n",
       "      <th>3168</th>\n",
       "      <td>15654</td>\n",
       "      <td>679</td>\n",
       "    </tr>\n",
       "    <tr>\n",
       "      <th>3169</th>\n",
       "      <td>32091</td>\n",
       "      <td>1272</td>\n",
       "    </tr>\n",
       "    <tr>\n",
       "      <th>3170</th>\n",
       "      <td>32913</td>\n",
       "      <td>1274</td>\n",
       "    </tr>\n",
       "    <tr>\n",
       "      <th>3171</th>\n",
       "      <td>30412</td>\n",
       "      <td>1239</td>\n",
       "    </tr>\n",
       "    <tr>\n",
       "      <th>3172</th>\n",
       "      <td>25982</td>\n",
       "      <td>909</td>\n",
       "    </tr>\n",
       "    <tr>\n",
       "      <th>3173</th>\n",
       "      <td>21704</td>\n",
       "      <td>892</td>\n",
       "    </tr>\n",
       "    <tr>\n",
       "      <th>3174</th>\n",
       "      <td>17110</td>\n",
       "      <td>612</td>\n",
       "    </tr>\n",
       "    <tr>\n",
       "      <th>3175</th>\n",
       "      <td>20647</td>\n",
       "      <td>627</td>\n",
       "    </tr>\n",
       "    <tr>\n",
       "      <th>3176</th>\n",
       "      <td>34918</td>\n",
       "      <td>1282</td>\n",
       "    </tr>\n",
       "    <tr>\n",
       "      <th>3177</th>\n",
       "      <td>32188</td>\n",
       "      <td>1269</td>\n",
       "    </tr>\n",
       "    <tr>\n",
       "      <th>3178</th>\n",
       "      <td>22765</td>\n",
       "      <td>1238</td>\n",
       "    </tr>\n",
       "    <tr>\n",
       "      <th>3179</th>\n",
       "      <td>54771</td>\n",
       "      <td>1206</td>\n",
       "    </tr>\n",
       "    <tr>\n",
       "      <th>3180</th>\n",
       "      <td>34666</td>\n",
       "      <td>1022</td>\n",
       "    </tr>\n",
       "    <tr>\n",
       "      <th>3181</th>\n",
       "      <td>17459</td>\n",
       "      <td>641</td>\n",
       "    </tr>\n",
       "    <tr>\n",
       "      <th>3182</th>\n",
       "      <td>21432</td>\n",
       "      <td>654</td>\n",
       "    </tr>\n",
       "    <tr>\n",
       "      <th>3183</th>\n",
       "      <td>39436</td>\n",
       "      <td>1374</td>\n",
       "    </tr>\n",
       "    <tr>\n",
       "      <th>3184</th>\n",
       "      <td>42725</td>\n",
       "      <td>1185</td>\n",
       "    </tr>\n",
       "    <tr>\n",
       "      <th>3185</th>\n",
       "      <td>39483</td>\n",
       "      <td>1141</td>\n",
       "    </tr>\n",
       "    <tr>\n",
       "      <th>3186</th>\n",
       "      <td>46860</td>\n",
       "      <td>990</td>\n",
       "    </tr>\n",
       "  </tbody>\n",
       "</table>\n",
       "</div>"
      ],
      "text/plain": [
       "      Confirmados  Mortes\n",
       "3157        26417    1156\n",
       "3158        26928    1124\n",
       "3159        33274     956\n",
       "3160        16409     480\n",
       "3161        11598     623\n",
       "3162        28936    1262\n",
       "3163        28633    1349\n",
       "3164        30925    1473\n",
       "3165        30830    1005\n",
       "3166        27075     904\n",
       "3167        18912     525\n",
       "3168        15654     679\n",
       "3169        32091    1272\n",
       "3170        32913    1274\n",
       "3171        30412    1239\n",
       "3172        25982     909\n",
       "3173        21704     892\n",
       "3174        17110     612\n",
       "3175        20647     627\n",
       "3176        34918    1282\n",
       "3177        32188    1269\n",
       "3178        22765    1238\n",
       "3179        54771    1206\n",
       "3180        34666    1022\n",
       "3181        17459     641\n",
       "3182        21432     654\n",
       "3183        39436    1374\n",
       "3184        42725    1185\n",
       "3185        39483    1141\n",
       "3186        46860     990"
      ]
     },
     "execution_count": 27,
     "metadata": {},
     "output_type": "execute_result"
    }
   ],
   "source": [
    "#Vamos passar a variável de pesquisa para outra variavel para submetê-la aos testes de decisão.\n",
    "x_forecast = x\n",
    "x_forecast"
   ]
  },
  {
   "cell_type": "code",
   "execution_count": 28,
   "metadata": {},
   "outputs": [
    {
     "data": {
      "text/plain": [
       "RandomForestClassifier(bootstrap=True, ccp_alpha=0.0, class_weight=None,\n",
       "                       criterion='gini', max_depth=None, max_features='auto',\n",
       "                       max_leaf_nodes=None, max_samples=None,\n",
       "                       min_impurity_decrease=0.0, min_impurity_split=None,\n",
       "                       min_samples_leaf=1, min_samples_split=2,\n",
       "                       min_weight_fraction_leaf=0.0, n_estimators=100,\n",
       "                       n_jobs=-1, oob_score=False, random_state=0, verbose=0,\n",
       "                       warm_start=False)"
      ]
     },
     "execution_count": 28,
     "metadata": {},
     "output_type": "execute_result"
    }
   ],
   "source": [
    "#Veja o que temos a respeito do modelo em estudo:\n",
    "Modelo.fit(x, y)"
   ]
  },
  {
   "cell_type": "code",
   "execution_count": 29,
   "metadata": {
    "scrolled": true
   },
   "outputs": [
    {
     "data": {
      "text/plain": [
       "array([26417, 26928, 33274, 16409, 11598, 28936, 28633, 30925, 30830,\n",
       "       27075, 18912, 15654, 32091, 32913, 30412, 25982, 21704, 17110,\n",
       "       20647, 34918, 32188, 22765, 54771, 34666, 17459, 21432, 39436,\n",
       "       42725, 39483, 46860], dtype=int64)"
      ]
     },
     "execution_count": 29,
     "metadata": {},
     "output_type": "execute_result"
    }
   ],
   "source": [
    "#Montando uma matriz com as informações inputidas(Confirmados)\n",
    "prevesion = Modelo.predict(x_forecast)\n",
    "prevesion"
   ]
  },
  {
   "cell_type": "code",
   "execution_count": 30,
   "metadata": {},
   "outputs": [
    {
     "data": {
      "text/plain": [
       "((15, 2), (15, 2), (15,), (15,))"
      ]
     },
     "execution_count": 30,
     "metadata": {},
     "output_type": "execute_result"
    }
   ],
   "source": [
    "#Criados as variaveis de estudo, vamos importar o 'treino e teste':\n",
    "from sklearn.model_selection import train_test_split\n",
    "\n",
    "#Implicando os dados no algoritmo de análise:\n",
    "x_treinar, x_validar, y_treinar, y_validar = train_test_split(x, y, test_size=0.5)\n",
    "\n",
    "#dividindo os arrays meio-a-meio:\n",
    "x_treinar.shape, x_validar.shape, y_treinar.shape, y_validar.shape"
   ]
  },
  {
   "cell_type": "code",
   "execution_count": 31,
   "metadata": {
    "scrolled": true
   },
   "outputs": [
    {
     "data": {
      "text/plain": [
       "RandomForestClassifier(bootstrap=True, ccp_alpha=0.0, class_weight=None,\n",
       "                       criterion='gini', max_depth=None, max_features='auto',\n",
       "                       max_leaf_nodes=None, max_samples=None,\n",
       "                       min_impurity_decrease=0.0, min_impurity_split=None,\n",
       "                       min_samples_leaf=1, min_samples_split=2,\n",
       "                       min_weight_fraction_leaf=0.0, n_estimators=100,\n",
       "                       n_jobs=-1, oob_score=False, random_state=0, verbose=0,\n",
       "                       warm_start=False)"
      ]
     },
     "execution_count": 31,
     "metadata": {},
     "output_type": "execute_result"
    }
   ],
   "source": [
    "#Para validar os comandos de testagem, usamos:\n",
    "Modelo.fit(x_treinar, x_validar)"
   ]
  },
  {
   "cell_type": "code",
   "execution_count": 32,
   "metadata": {
    "scrolled": true
   },
   "outputs": [
    {
     "data": {
      "text/plain": [
       "array([[22765,  1238],\n",
       "       [30830,  1005],\n",
       "       [26417,  1156],\n",
       "       [15654,   679],\n",
       "       [17110,   612],\n",
       "       [16409,   480],\n",
       "       [32188,  1269],\n",
       "       [32091,  1272],\n",
       "       [30925,  1473],\n",
       "       [32913,  1274],\n",
       "       [39483,  1141],\n",
       "       [21704,   892],\n",
       "       [34666,  1022],\n",
       "       [54771,  1206],\n",
       "       [34918,  1282]], dtype=int64)"
      ]
     },
     "execution_count": 32,
     "metadata": {},
     "output_type": "execute_result"
    }
   ],
   "source": [
    "#array dos dados que temos em 'x_treinar'\n",
    "Modelo.predict(x_treinar)"
   ]
  },
  {
   "cell_type": "code",
   "execution_count": 33,
   "metadata": {
    "scrolled": true
   },
   "outputs": [
    {
     "data": {
      "text/plain": [
       "array([[30830,  1005],\n",
       "       [32091,  1141],\n",
       "       [26417,  1156],\n",
       "       [32913,  1274],\n",
       "       [34666,  1022],\n",
       "       [21704,   892],\n",
       "       [17110,   612],\n",
       "       [17110,   612],\n",
       "       [54771,  1206],\n",
       "       [17110,   612],\n",
       "       [34918,  1282],\n",
       "       [22765,  1238],\n",
       "       [32091,  1272],\n",
       "       [34918,  1282],\n",
       "       [30925,  1473]], dtype=int64)"
      ]
     },
     "execution_count": 33,
     "metadata": {},
     "output_type": "execute_result"
    }
   ],
   "source": [
    "#array dos dados que temos em 'x_validar'\n",
    "Modelo.predict(x_validar)"
   ]
  },
  {
   "cell_type": "code",
   "execution_count": 34,
   "metadata": {
    "scrolled": true
   },
   "outputs": [
    {
     "data": {
      "text/plain": [
       "Confirmados    0.066667\n",
       "Mortes         0.066667\n",
       "dtype: float64"
      ]
     },
     "execution_count": 34,
     "metadata": {},
     "output_type": "execute_result"
    }
   ],
   "source": [
    "#Passando uma parâmetro para checar a validação dos dados nos arrays\n",
    "parameter = Modelo.predict(x_validar)\n",
    "np.mean(x_validar == parameter)"
   ]
  },
  {
   "cell_type": "markdown",
   "metadata": {},
   "source": [
    "# Usando um pedaço de código antigo, vejamos a acurácia obtidas em 'n' testes:"
   ]
  },
  {
   "cell_type": "code",
   "execution_count": 35,
   "metadata": {},
   "outputs": [
    {
     "name": "stdout",
     "output_type": "stream",
     "text": [
      "Num. Repe.: 0\n",
      "Treinados: 20\n",
      "Validados: 10\n",
      "Acurácia: 0.5\n",
      "\n",
      "Treinados: 20\n",
      "Validados: 10\n",
      "Acurácia: 0.6\n",
      "\n",
      "Treinados: 20\n",
      "Validados: 10\n",
      "Acurácia: 0.4\n",
      "\n",
      "Num. Repe.: 1\n",
      "Treinados: 20\n",
      "Validados: 10\n",
      "Acurácia: 0.4\n",
      "\n",
      "Treinados: 20\n",
      "Validados: 10\n",
      "Acurácia: 0.7\n",
      "\n",
      "Treinados: 20\n",
      "Validados: 10\n",
      "Acurácia: 0.4\n",
      "\n",
      "Num. Repe.: 2\n",
      "Treinados: 20\n",
      "Validados: 10\n",
      "Acurácia: 0.4\n",
      "\n",
      "Treinados: 20\n",
      "Validados: 10\n",
      "Acurácia: 0.6\n",
      "\n",
      "Treinados: 20\n",
      "Validados: 10\n",
      "Acurácia: 0.5\n",
      "\n",
      "Num. Repe.: 3\n",
      "Treinados: 20\n",
      "Validados: 10\n",
      "Acurácia: 0.7\n",
      "\n",
      "Treinados: 20\n",
      "Validados: 10\n",
      "Acurácia: 0.4\n",
      "\n",
      "Treinados: 20\n",
      "Validados: 10\n",
      "Acurácia: 0.4\n",
      "\n",
      "Num. Repe.: 4\n",
      "Treinados: 20\n",
      "Validados: 10\n",
      "Acurácia: 0.3\n",
      "\n",
      "Treinados: 20\n",
      "Validados: 10\n",
      "Acurácia: 0.4\n",
      "\n",
      "Treinados: 20\n",
      "Validados: 10\n",
      "Acurácia: 0.8\n",
      "\n",
      "Num. Repe.: 5\n",
      "Treinados: 20\n",
      "Validados: 10\n",
      "Acurácia: 0.6\n",
      "\n",
      "Treinados: 20\n",
      "Validados: 10\n",
      "Acurácia: 0.4\n",
      "\n",
      "Treinados: 20\n",
      "Validados: 10\n",
      "Acurácia: 0.5\n",
      "\n",
      "Num. Repe.: 6\n",
      "Treinados: 20\n",
      "Validados: 10\n",
      "Acurácia: 0.4\n",
      "\n",
      "Treinados: 20\n",
      "Validados: 10\n",
      "Acurácia: 0.5\n",
      "\n",
      "Treinados: 20\n",
      "Validados: 10\n",
      "Acurácia: 0.6\n",
      "\n",
      "Num. Repe.: 7\n",
      "Treinados: 20\n",
      "Validados: 10\n",
      "Acurácia: 0.8\n",
      "\n",
      "Treinados: 20\n",
      "Validados: 10\n",
      "Acurácia: 0.3\n",
      "\n",
      "Treinados: 20\n",
      "Validados: 10\n",
      "Acurácia: 0.4\n",
      "\n",
      "Num. Repe.: 8\n",
      "Treinados: 20\n",
      "Validados: 10\n",
      "Acurácia: 0.7\n",
      "\n",
      "Treinados: 20\n",
      "Validados: 10\n",
      "Acurácia: 0.5\n",
      "\n",
      "Treinados: 20\n",
      "Validados: 10\n",
      "Acurácia: 0.3\n",
      "\n",
      "Num. Repe.: 9\n",
      "Treinados: 20\n",
      "Validados: 10\n",
      "Acurácia: 0.5\n",
      "\n",
      "Treinados: 20\n",
      "Validados: 10\n",
      "Acurácia: 0.6\n",
      "\n",
      "Treinados: 20\n",
      "Validados: 10\n",
      "Acurácia: 0.4\n",
      "\n"
     ]
    }
   ],
   "source": [
    "from sklearn.model_selection import KFold\n",
    "result = []\n",
    "for repete in range(10):\n",
    "    print(\"Num. Repe.:\", repete)\n",
    "    kf = KFold(3, shuffle=True, random_state=repete)\n",
    "\n",
    "#Criando um loop for para obter mais resultados:\n",
    "    for dados_treinados, dados_validados in kf.split(x):\n",
    "        print(\"Treinados:\", dados_treinados.shape[0])\n",
    "        print(\"Validados:\", dados_validados.shape[0])\n",
    "\n",
    "        #Chamando as variaveis de treino:\n",
    "        x_treino, x_valido = x.iloc[dados_treinados], x.iloc[dados_validados]\n",
    "        y_treino, y_valido = y.iloc[dados_treinados], y.iloc[dados_validados]\n",
    "\n",
    "        #Copiando codigos antigos\n",
    "        Modelo = RandomForestClassifier(n_estimators=100, n_jobs=-1, random_state=0)\n",
    "        Modelo.fit(x_treinar, y_treinar)\n",
    "        param = Modelo.predict(x_valido)\n",
    "        acu = np.mean(y_valido == param)\n",
    "        \n",
    "        #Por fim, o resultado:\n",
    "        result.append(acu)\n",
    "        print(\"Acurácia:\", acu)\n",
    "        print()"
   ]
  },
  {
   "cell_type": "markdown",
   "metadata": {},
   "source": [
    "# Vimos então a acurácia obtida em alguns testes breves com um modelo bem reduzido dos dados que costumamos utilizar... O que é bom ✌️🤓"
   ]
  },
  {
   "cell_type": "code",
   "execution_count": 36,
   "metadata": {
    "scrolled": true
   },
   "outputs": [
    {
     "name": "stdout",
     "output_type": "stream",
     "text": [
      "Populating the interactive namespace from numpy and matplotlib\n"
     ]
    },
    {
     "name": "stderr",
     "output_type": "stream",
     "text": [
      "C:\\Users\\user\\Anaconda-navigator\\lib\\site-packages\\IPython\\core\\magics\\pylab.py:160: UserWarning: pylab import has clobbered these variables: ['f']\n",
      "`%matplotlib` prevents importing * from pylab and numpy\n",
      "  \"\\n`%matplotlib` prevents importing * from pylab and numpy\"\n"
     ]
    },
    {
     "data": {
      "text/plain": [
       "(array([ 3.,  0., 11.,  0.,  6.,  5.,  0.,  0.,  3.,  2.]),\n",
       " array([0.3 , 0.35, 0.4 , 0.45, 0.5 , 0.55, 0.6 , 0.65, 0.7 , 0.75, 0.8 ]),\n",
       " <a list of 10 Patch objects>)"
      ]
     },
     "execution_count": 36,
     "metadata": {},
     "output_type": "execute_result"
    },
    {
     "data": {
      "image/png": "[encoded data removed]",
      "text/plain": [
       "<Figure size 432x288 with 1 Axes>"
      ]
     },
     "metadata": {
      "needs_background": "light"
     },
     "output_type": "display_data"
    }
   ],
   "source": [
    "#Faremos uma plotagem para comparação de dados:\n",
    "%matplotlib inline\n",
    "%pylab inline\n",
    "pylab.hist(result)"
   ]
  },
  {
   "cell_type": "code",
   "execution_count": 37,
   "metadata": {
    "scrolled": false
   },
   "outputs": [
    {
     "data": {
      "text/plain": [
       "[<matplotlib.lines.Line2D at 0xbf58488>]"
      ]
     },
     "execution_count": 37,
     "metadata": {},
     "output_type": "execute_result"
    },
    {
     "data": {
      "image/png": "[encoded data removed]",
      "text/plain": [
       "<Figure size 432x288 with 1 Axes>"
      ]
     },
     "metadata": {
      "needs_background": "light"
     },
     "output_type": "display_data"
    }
   ],
   "source": [
    "pylab.plot(result)"
   ]
  },
  {
   "cell_type": "code",
   "execution_count": 38,
   "metadata": {
    "scrolled": true
   },
   "outputs": [
    {
     "data": {
      "text/plain": [
       "<matplotlib.legend.Legend at 0xdd97d48>"
      ]
     },
     "execution_count": 38,
     "metadata": {},
     "output_type": "execute_result"
    },
    {
     "data": {
      "image/png": "[encoded data removed]",
      "text/plain": [
       "<Figure size 432x288 with 1 Axes>"
      ]
     },
     "metadata": {
      "needs_background": "light"
     },
     "output_type": "display_data"
    }
   ],
   "source": [
    "pylab.plot(x_forecast)\n",
    "pylab.plot(x_forecast['Confirmados'], '-b', label='Confirmados')\n",
    "pylab.plot(x_forecast['Mortes'], '-r', label='Mortes')\n",
    "pylab.legend(loc='upper right')"
   ]
  },
  {
   "cell_type": "markdown",
   "metadata": {},
   "source": [
    "# Uma das conclusões que podemos obter é : O alto grau de variabilidade dos dados (tanto de 'Confirmados' quanto de 'Mortes') 📊📈📉; demonstra que, prever, os próximos picos da doença 📅 tornem-se um tanto quanto inviáveis!"
   ]
  },
  {
   "cell_type": "markdown",
   "metadata": {},
   "source": [
    "## Posso dizer agora que ... o modelo foi concluído com exitô ☕😎💻"
   ]
  },
  {
   "cell_type": "markdown",
   "metadata": {},
   "source": [
    "## Referências para criação deste modelo estatístico :\n",
    "\n",
    "## Link para 📥 os dados do Covid-19 : https://covid19.who.int/\n",
    "\n",
    "## Link para o site dos emojis ✌️🧐 : https://emojikeyboard.top/pt/"
   ]
  }
 ],
 "metadata": {
  "kernelspec": {
   "display_name": "Python 3",
   "language": "python",
   "name": "python3"
  },
  "language_info": {
   "codemirror_mode": {
    "name": "ipython",
    "version": 3
   },
   "file_extension": ".py",
   "mimetype": "text/x-python",
   "name": "python",
   "nbconvert_exporter": "python",
   "pygments_lexer": "ipython3",
   "version": "3.7.6"
  }
 },
 "nbformat": 4,
 "nbformat_minor": 4
}
