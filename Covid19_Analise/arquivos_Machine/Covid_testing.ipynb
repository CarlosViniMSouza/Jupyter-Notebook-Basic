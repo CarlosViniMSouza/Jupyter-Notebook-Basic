{
 "cells": [
  {
   "cell_type": "code",
   "execution_count": 1,
   "metadata": {},
   "outputs": [],
   "source": [
    "# Bibliotecas importantes:\n",
    "import numpy as np # cálculo vetorial e algébricos\n",
    "import pandas as pd # visualização de dados\n",
    "import seaborn as sns # Plotagem de Gráficos\n",
    "import matplotlib.pyplot as plt # Criação de Gráficos"
   ]
  },
  {
   "cell_type": "code",
   "execution_count": 2,
   "metadata": {
    "scrolled": true
   },
   "outputs": [
    {
     "data": {
      "text/html": [
       "<div>\n",
       "<style scoped>\n",
       "    .dataframe tbody tr th:only-of-type {\n",
       "        vertical-align: middle;\n",
       "    }\n",
       "\n",
       "    .dataframe tbody tr th {\n",
       "        vertical-align: top;\n",
       "    }\n",
       "\n",
       "    .dataframe thead th {\n",
       "        text-align: right;\n",
       "    }\n",
       "</style>\n",
       "<table border=\"1\" class=\"dataframe\">\n",
       "  <thead>\n",
       "    <tr style=\"text-align: right;\">\n",
       "      <th></th>\n",
       "      <th>day</th>\n",
       "      <th>Country</th>\n",
       "      <th>Country Name</th>\n",
       "      <th>Region</th>\n",
       "      <th>Deaths</th>\n",
       "      <th>Cumulative Deaths</th>\n",
       "      <th>Confirmed</th>\n",
       "      <th>Cumulative Confirmed</th>\n",
       "    </tr>\n",
       "  </thead>\n",
       "  <tbody>\n",
       "    <tr>\n",
       "      <th>0</th>\n",
       "      <td>2020-02-24</td>\n",
       "      <td>AF</td>\n",
       "      <td>Afghanistan</td>\n",
       "      <td>EMRO</td>\n",
       "      <td>0</td>\n",
       "      <td>0</td>\n",
       "      <td>1</td>\n",
       "      <td>1</td>\n",
       "    </tr>\n",
       "    <tr>\n",
       "      <th>1</th>\n",
       "      <td>2020-02-25</td>\n",
       "      <td>AF</td>\n",
       "      <td>Afghanistan</td>\n",
       "      <td>EMRO</td>\n",
       "      <td>0</td>\n",
       "      <td>0</td>\n",
       "      <td>0</td>\n",
       "      <td>1</td>\n",
       "    </tr>\n",
       "    <tr>\n",
       "      <th>2</th>\n",
       "      <td>2020-02-26</td>\n",
       "      <td>AF</td>\n",
       "      <td>Afghanistan</td>\n",
       "      <td>EMRO</td>\n",
       "      <td>0</td>\n",
       "      <td>0</td>\n",
       "      <td>0</td>\n",
       "      <td>1</td>\n",
       "    </tr>\n",
       "    <tr>\n",
       "      <th>3</th>\n",
       "      <td>2020-02-27</td>\n",
       "      <td>AF</td>\n",
       "      <td>Afghanistan</td>\n",
       "      <td>EMRO</td>\n",
       "      <td>0</td>\n",
       "      <td>0</td>\n",
       "      <td>0</td>\n",
       "      <td>1</td>\n",
       "    </tr>\n",
       "    <tr>\n",
       "      <th>4</th>\n",
       "      <td>2020-02-28</td>\n",
       "      <td>AF</td>\n",
       "      <td>Afghanistan</td>\n",
       "      <td>EMRO</td>\n",
       "      <td>0</td>\n",
       "      <td>0</td>\n",
       "      <td>0</td>\n",
       "      <td>1</td>\n",
       "    </tr>\n",
       "    <tr>\n",
       "      <th>...</th>\n",
       "      <td>...</td>\n",
       "      <td>...</td>\n",
       "      <td>...</td>\n",
       "      <td>...</td>\n",
       "      <td>...</td>\n",
       "      <td>...</td>\n",
       "      <td>...</td>\n",
       "      <td>...</td>\n",
       "    </tr>\n",
       "    <tr>\n",
       "      <th>13949</th>\n",
       "      <td>2020-05-05</td>\n",
       "      <td>ZW</td>\n",
       "      <td>Zimbabwe</td>\n",
       "      <td>AFRO</td>\n",
       "      <td>0</td>\n",
       "      <td>4</td>\n",
       "      <td>0</td>\n",
       "      <td>34</td>\n",
       "    </tr>\n",
       "    <tr>\n",
       "      <th>13950</th>\n",
       "      <td>2020-05-06</td>\n",
       "      <td>ZW</td>\n",
       "      <td>Zimbabwe</td>\n",
       "      <td>AFRO</td>\n",
       "      <td>0</td>\n",
       "      <td>4</td>\n",
       "      <td>0</td>\n",
       "      <td>34</td>\n",
       "    </tr>\n",
       "    <tr>\n",
       "      <th>13951</th>\n",
       "      <td>2020-05-07</td>\n",
       "      <td>ZW</td>\n",
       "      <td>Zimbabwe</td>\n",
       "      <td>AFRO</td>\n",
       "      <td>0</td>\n",
       "      <td>4</td>\n",
       "      <td>0</td>\n",
       "      <td>34</td>\n",
       "    </tr>\n",
       "    <tr>\n",
       "      <th>13952</th>\n",
       "      <td>2020-05-08</td>\n",
       "      <td>ZW</td>\n",
       "      <td>Zimbabwe</td>\n",
       "      <td>AFRO</td>\n",
       "      <td>0</td>\n",
       "      <td>4</td>\n",
       "      <td>0</td>\n",
       "      <td>34</td>\n",
       "    </tr>\n",
       "    <tr>\n",
       "      <th>13953</th>\n",
       "      <td>2020-05-09</td>\n",
       "      <td>ZW</td>\n",
       "      <td>Zimbabwe</td>\n",
       "      <td>AFRO</td>\n",
       "      <td>0</td>\n",
       "      <td>4</td>\n",
       "      <td>0</td>\n",
       "      <td>34</td>\n",
       "    </tr>\n",
       "  </tbody>\n",
       "</table>\n",
       "<p>13954 rows × 8 columns</p>\n",
       "</div>"
      ],
      "text/plain": [
       "              day Country Country Name Region  Deaths  Cumulative Deaths  \\\n",
       "0      2020-02-24      AF  Afghanistan   EMRO       0                  0   \n",
       "1      2020-02-25      AF  Afghanistan   EMRO       0                  0   \n",
       "2      2020-02-26      AF  Afghanistan   EMRO       0                  0   \n",
       "3      2020-02-27      AF  Afghanistan   EMRO       0                  0   \n",
       "4      2020-02-28      AF  Afghanistan   EMRO       0                  0   \n",
       "...           ...     ...          ...    ...     ...                ...   \n",
       "13949  2020-05-05      ZW     Zimbabwe   AFRO       0                  4   \n",
       "13950  2020-05-06      ZW     Zimbabwe   AFRO       0                  4   \n",
       "13951  2020-05-07      ZW     Zimbabwe   AFRO       0                  4   \n",
       "13952  2020-05-08      ZW     Zimbabwe   AFRO       0                  4   \n",
       "13953  2020-05-09      ZW     Zimbabwe   AFRO       0                  4   \n",
       "\n",
       "       Confirmed  Cumulative Confirmed  \n",
       "0              1                     1  \n",
       "1              0                     1  \n",
       "2              0                     1  \n",
       "3              0                     1  \n",
       "4              0                     1  \n",
       "...          ...                   ...  \n",
       "13949          0                    34  \n",
       "13950          0                    34  \n",
       "13951          0                    34  \n",
       "13952          0                    34  \n",
       "13953          0                    34  \n",
       "\n",
       "[13954 rows x 8 columns]"
      ]
     },
     "execution_count": 2,
     "metadata": {},
     "output_type": "execute_result"
    }
   ],
   "source": [
    "dados_treino = pd.read_csv('C:/Users/user/Documents/Academia_UEA/Planilhas_covid19/WHO-COVID-global-08-05.csv') \n",
    "dados_treino"
   ]
  },
  {
   "cell_type": "code",
   "execution_count": 3,
   "metadata": {
    "scrolled": true
   },
   "outputs": [
    {
     "data": {
      "text/html": [
       "<div>\n",
       "<style scoped>\n",
       "    .dataframe tbody tr th:only-of-type {\n",
       "        vertical-align: middle;\n",
       "    }\n",
       "\n",
       "    .dataframe tbody tr th {\n",
       "        vertical-align: top;\n",
       "    }\n",
       "\n",
       "    .dataframe thead th {\n",
       "        text-align: right;\n",
       "    }\n",
       "</style>\n",
       "<table border=\"1\" class=\"dataframe\">\n",
       "  <thead>\n",
       "    <tr style=\"text-align: right;\">\n",
       "      <th></th>\n",
       "      <th>day</th>\n",
       "      <th>Country</th>\n",
       "      <th>Country Name</th>\n",
       "      <th>Region</th>\n",
       "      <th>Deaths</th>\n",
       "      <th>Cumulative Deaths</th>\n",
       "      <th>Confirmed</th>\n",
       "      <th>Cumulative Confirmed</th>\n",
       "    </tr>\n",
       "  </thead>\n",
       "  <tbody>\n",
       "    <tr>\n",
       "      <th>1713</th>\n",
       "      <td>2020-02-26</td>\n",
       "      <td>BR</td>\n",
       "      <td>Brazil</td>\n",
       "      <td>AMRO</td>\n",
       "      <td>0</td>\n",
       "      <td>0</td>\n",
       "      <td>1</td>\n",
       "      <td>1</td>\n",
       "    </tr>\n",
       "    <tr>\n",
       "      <th>1714</th>\n",
       "      <td>2020-02-27</td>\n",
       "      <td>BR</td>\n",
       "      <td>Brazil</td>\n",
       "      <td>AMRO</td>\n",
       "      <td>0</td>\n",
       "      <td>0</td>\n",
       "      <td>0</td>\n",
       "      <td>1</td>\n",
       "    </tr>\n",
       "    <tr>\n",
       "      <th>1715</th>\n",
       "      <td>2020-02-28</td>\n",
       "      <td>BR</td>\n",
       "      <td>Brazil</td>\n",
       "      <td>AMRO</td>\n",
       "      <td>0</td>\n",
       "      <td>0</td>\n",
       "      <td>0</td>\n",
       "      <td>1</td>\n",
       "    </tr>\n",
       "    <tr>\n",
       "      <th>1716</th>\n",
       "      <td>2020-02-29</td>\n",
       "      <td>BR</td>\n",
       "      <td>Brazil</td>\n",
       "      <td>AMRO</td>\n",
       "      <td>0</td>\n",
       "      <td>0</td>\n",
       "      <td>0</td>\n",
       "      <td>1</td>\n",
       "    </tr>\n",
       "    <tr>\n",
       "      <th>1717</th>\n",
       "      <td>2020-03-01</td>\n",
       "      <td>BR</td>\n",
       "      <td>Brazil</td>\n",
       "      <td>AMRO</td>\n",
       "      <td>0</td>\n",
       "      <td>0</td>\n",
       "      <td>1</td>\n",
       "      <td>2</td>\n",
       "    </tr>\n",
       "    <tr>\n",
       "      <th>...</th>\n",
       "      <td>...</td>\n",
       "      <td>...</td>\n",
       "      <td>...</td>\n",
       "      <td>...</td>\n",
       "      <td>...</td>\n",
       "      <td>...</td>\n",
       "      <td>...</td>\n",
       "      <td>...</td>\n",
       "    </tr>\n",
       "    <tr>\n",
       "      <th>1782</th>\n",
       "      <td>2020-05-05</td>\n",
       "      <td>BR</td>\n",
       "      <td>Brazil</td>\n",
       "      <td>AMRO</td>\n",
       "      <td>275</td>\n",
       "      <td>7025</td>\n",
       "      <td>4588</td>\n",
       "      <td>101147</td>\n",
       "    </tr>\n",
       "    <tr>\n",
       "      <th>1783</th>\n",
       "      <td>2020-05-06</td>\n",
       "      <td>BR</td>\n",
       "      <td>Brazil</td>\n",
       "      <td>AMRO</td>\n",
       "      <td>296</td>\n",
       "      <td>7321</td>\n",
       "      <td>6633</td>\n",
       "      <td>107780</td>\n",
       "    </tr>\n",
       "    <tr>\n",
       "      <th>1784</th>\n",
       "      <td>2020-05-07</td>\n",
       "      <td>BR</td>\n",
       "      <td>Brazil</td>\n",
       "      <td>AMRO</td>\n",
       "      <td>600</td>\n",
       "      <td>7921</td>\n",
       "      <td>6935</td>\n",
       "      <td>114715</td>\n",
       "    </tr>\n",
       "    <tr>\n",
       "      <th>1785</th>\n",
       "      <td>2020-05-08</td>\n",
       "      <td>BR</td>\n",
       "      <td>Brazil</td>\n",
       "      <td>AMRO</td>\n",
       "      <td>615</td>\n",
       "      <td>8536</td>\n",
       "      <td>10503</td>\n",
       "      <td>125218</td>\n",
       "    </tr>\n",
       "    <tr>\n",
       "      <th>1786</th>\n",
       "      <td>2020-05-09</td>\n",
       "      <td>BR</td>\n",
       "      <td>Brazil</td>\n",
       "      <td>AMRO</td>\n",
       "      <td>610</td>\n",
       "      <td>9146</td>\n",
       "      <td>9888</td>\n",
       "      <td>135106</td>\n",
       "    </tr>\n",
       "  </tbody>\n",
       "</table>\n",
       "<p>74 rows × 8 columns</p>\n",
       "</div>"
      ],
      "text/plain": [
       "             day Country Country Name Region  Deaths  Cumulative Deaths  \\\n",
       "1713  2020-02-26      BR       Brazil   AMRO       0                  0   \n",
       "1714  2020-02-27      BR       Brazil   AMRO       0                  0   \n",
       "1715  2020-02-28      BR       Brazil   AMRO       0                  0   \n",
       "1716  2020-02-29      BR       Brazil   AMRO       0                  0   \n",
       "1717  2020-03-01      BR       Brazil   AMRO       0                  0   \n",
       "...          ...     ...          ...    ...     ...                ...   \n",
       "1782  2020-05-05      BR       Brazil   AMRO     275               7025   \n",
       "1783  2020-05-06      BR       Brazil   AMRO     296               7321   \n",
       "1784  2020-05-07      BR       Brazil   AMRO     600               7921   \n",
       "1785  2020-05-08      BR       Brazil   AMRO     615               8536   \n",
       "1786  2020-05-09      BR       Brazil   AMRO     610               9146   \n",
       "\n",
       "      Confirmed  Cumulative Confirmed  \n",
       "1713          1                     1  \n",
       "1714          0                     1  \n",
       "1715          0                     1  \n",
       "1716          0                     1  \n",
       "1717          1                     2  \n",
       "...         ...                   ...  \n",
       "1782       4588                101147  \n",
       "1783       6633                107780  \n",
       "1784       6935                114715  \n",
       "1785      10503                125218  \n",
       "1786       9888                135106  \n",
       "\n",
       "[74 rows x 8 columns]"
      ]
     },
     "execution_count": 3,
     "metadata": {},
     "output_type": "execute_result"
    }
   ],
   "source": [
    "dados_br = dados_treino[dados_treino['Country Name']== 'Brazil']\n",
    "dados_br"
   ]
  },
  {
   "cell_type": "code",
   "execution_count": 4,
   "metadata": {
    "scrolled": false
   },
   "outputs": [
    {
     "data": {
      "text/html": [
       "<div>\n",
       "<style scoped>\n",
       "    .dataframe tbody tr th:only-of-type {\n",
       "        vertical-align: middle;\n",
       "    }\n",
       "\n",
       "    .dataframe tbody tr th {\n",
       "        vertical-align: top;\n",
       "    }\n",
       "\n",
       "    .dataframe thead th {\n",
       "        text-align: right;\n",
       "    }\n",
       "</style>\n",
       "<table border=\"1\" class=\"dataframe\">\n",
       "  <thead>\n",
       "    <tr style=\"text-align: right;\">\n",
       "      <th></th>\n",
       "      <th>Dia</th>\n",
       "      <th>Sigla</th>\n",
       "      <th>País</th>\n",
       "      <th>Região</th>\n",
       "      <th>Obitos</th>\n",
       "      <th>Obitos_Acumula</th>\n",
       "      <th>Confirmados</th>\n",
       "      <th>Confirmados_Acumula</th>\n",
       "    </tr>\n",
       "  </thead>\n",
       "  <tbody>\n",
       "    <tr>\n",
       "      <th>1713</th>\n",
       "      <td>2020-02-26</td>\n",
       "      <td>BR</td>\n",
       "      <td>Brazil</td>\n",
       "      <td>AMRO</td>\n",
       "      <td>0</td>\n",
       "      <td>0</td>\n",
       "      <td>1</td>\n",
       "      <td>1</td>\n",
       "    </tr>\n",
       "    <tr>\n",
       "      <th>1714</th>\n",
       "      <td>2020-02-27</td>\n",
       "      <td>BR</td>\n",
       "      <td>Brazil</td>\n",
       "      <td>AMRO</td>\n",
       "      <td>0</td>\n",
       "      <td>0</td>\n",
       "      <td>0</td>\n",
       "      <td>1</td>\n",
       "    </tr>\n",
       "    <tr>\n",
       "      <th>1715</th>\n",
       "      <td>2020-02-28</td>\n",
       "      <td>BR</td>\n",
       "      <td>Brazil</td>\n",
       "      <td>AMRO</td>\n",
       "      <td>0</td>\n",
       "      <td>0</td>\n",
       "      <td>0</td>\n",
       "      <td>1</td>\n",
       "    </tr>\n",
       "    <tr>\n",
       "      <th>1716</th>\n",
       "      <td>2020-02-29</td>\n",
       "      <td>BR</td>\n",
       "      <td>Brazil</td>\n",
       "      <td>AMRO</td>\n",
       "      <td>0</td>\n",
       "      <td>0</td>\n",
       "      <td>0</td>\n",
       "      <td>1</td>\n",
       "    </tr>\n",
       "    <tr>\n",
       "      <th>1717</th>\n",
       "      <td>2020-03-01</td>\n",
       "      <td>BR</td>\n",
       "      <td>Brazil</td>\n",
       "      <td>AMRO</td>\n",
       "      <td>0</td>\n",
       "      <td>0</td>\n",
       "      <td>1</td>\n",
       "      <td>2</td>\n",
       "    </tr>\n",
       "    <tr>\n",
       "      <th>...</th>\n",
       "      <td>...</td>\n",
       "      <td>...</td>\n",
       "      <td>...</td>\n",
       "      <td>...</td>\n",
       "      <td>...</td>\n",
       "      <td>...</td>\n",
       "      <td>...</td>\n",
       "      <td>...</td>\n",
       "    </tr>\n",
       "    <tr>\n",
       "      <th>1782</th>\n",
       "      <td>2020-05-05</td>\n",
       "      <td>BR</td>\n",
       "      <td>Brazil</td>\n",
       "      <td>AMRO</td>\n",
       "      <td>275</td>\n",
       "      <td>7025</td>\n",
       "      <td>4588</td>\n",
       "      <td>101147</td>\n",
       "    </tr>\n",
       "    <tr>\n",
       "      <th>1783</th>\n",
       "      <td>2020-05-06</td>\n",
       "      <td>BR</td>\n",
       "      <td>Brazil</td>\n",
       "      <td>AMRO</td>\n",
       "      <td>296</td>\n",
       "      <td>7321</td>\n",
       "      <td>6633</td>\n",
       "      <td>107780</td>\n",
       "    </tr>\n",
       "    <tr>\n",
       "      <th>1784</th>\n",
       "      <td>2020-05-07</td>\n",
       "      <td>BR</td>\n",
       "      <td>Brazil</td>\n",
       "      <td>AMRO</td>\n",
       "      <td>600</td>\n",
       "      <td>7921</td>\n",
       "      <td>6935</td>\n",
       "      <td>114715</td>\n",
       "    </tr>\n",
       "    <tr>\n",
       "      <th>1785</th>\n",
       "      <td>2020-05-08</td>\n",
       "      <td>BR</td>\n",
       "      <td>Brazil</td>\n",
       "      <td>AMRO</td>\n",
       "      <td>615</td>\n",
       "      <td>8536</td>\n",
       "      <td>10503</td>\n",
       "      <td>125218</td>\n",
       "    </tr>\n",
       "    <tr>\n",
       "      <th>1786</th>\n",
       "      <td>2020-05-09</td>\n",
       "      <td>BR</td>\n",
       "      <td>Brazil</td>\n",
       "      <td>AMRO</td>\n",
       "      <td>610</td>\n",
       "      <td>9146</td>\n",
       "      <td>9888</td>\n",
       "      <td>135106</td>\n",
       "    </tr>\n",
       "  </tbody>\n",
       "</table>\n",
       "<p>74 rows × 8 columns</p>\n",
       "</div>"
      ],
      "text/plain": [
       "             Dia Sigla    País Região  Obitos  Obitos_Acumula  Confirmados  \\\n",
       "1713  2020-02-26    BR  Brazil   AMRO       0               0            1   \n",
       "1714  2020-02-27    BR  Brazil   AMRO       0               0            0   \n",
       "1715  2020-02-28    BR  Brazil   AMRO       0               0            0   \n",
       "1716  2020-02-29    BR  Brazil   AMRO       0               0            0   \n",
       "1717  2020-03-01    BR  Brazil   AMRO       0               0            1   \n",
       "...          ...   ...     ...    ...     ...             ...          ...   \n",
       "1782  2020-05-05    BR  Brazil   AMRO     275            7025         4588   \n",
       "1783  2020-05-06    BR  Brazil   AMRO     296            7321         6633   \n",
       "1784  2020-05-07    BR  Brazil   AMRO     600            7921         6935   \n",
       "1785  2020-05-08    BR  Brazil   AMRO     615            8536        10503   \n",
       "1786  2020-05-09    BR  Brazil   AMRO     610            9146         9888   \n",
       "\n",
       "      Confirmados_Acumula  \n",
       "1713                    1  \n",
       "1714                    1  \n",
       "1715                    1  \n",
       "1716                    1  \n",
       "1717                    2  \n",
       "...                   ...  \n",
       "1782               101147  \n",
       "1783               107780  \n",
       "1784               114715  \n",
       "1785               125218  \n",
       "1786               135106  \n",
       "\n",
       "[74 rows x 8 columns]"
      ]
     },
     "execution_count": 4,
     "metadata": {},
     "output_type": "execute_result"
    }
   ],
   "source": [
    "dados_br.columns = ['Dia', 'Sigla', 'País', 'Região', 'Obitos', 'Obitos_Acumula', 'Confirmados', 'Confirmados_Acumula']\n",
    "dados_br"
   ]
  },
  {
   "cell_type": "code",
   "execution_count": 5,
   "metadata": {},
   "outputs": [],
   "source": [
    "# salvando documento em formato csv :\n",
    "dados_br.to_csv('dados_covid_br_csv')"
   ]
  },
  {
   "cell_type": "code",
   "execution_count": 6,
   "metadata": {},
   "outputs": [],
   "source": [
    "from sklearn.ensemble import RandomForestClassifier\n",
    "Modelo = RandomForestClassifier(n_estimators=100, n_jobs=-1, random_state=0)"
   ]
  },
  {
   "cell_type": "code",
   "execution_count": 7,
   "metadata": {},
   "outputs": [],
   "source": [
    "#OK, vamos tentar aplicar o Machine Learning com as variáveis 'Confirmados' e 'Obitos'.\n",
    "estudo = ['Obitos', 'Confirmados']\n",
    "x = dados_br[estudo]\n",
    "y = dados_br['Obitos_Acumula']"
   ]
  },
  {
   "cell_type": "code",
   "execution_count": 8,
   "metadata": {
    "scrolled": true
   },
   "outputs": [
    {
     "data": {
      "text/html": [
       "<div>\n",
       "<style scoped>\n",
       "    .dataframe tbody tr th:only-of-type {\n",
       "        vertical-align: middle;\n",
       "    }\n",
       "\n",
       "    .dataframe tbody tr th {\n",
       "        vertical-align: top;\n",
       "    }\n",
       "\n",
       "    .dataframe thead th {\n",
       "        text-align: right;\n",
       "    }\n",
       "</style>\n",
       "<table border=\"1\" class=\"dataframe\">\n",
       "  <thead>\n",
       "    <tr style=\"text-align: right;\">\n",
       "      <th></th>\n",
       "      <th>Obitos</th>\n",
       "      <th>Confirmados</th>\n",
       "    </tr>\n",
       "  </thead>\n",
       "  <tbody>\n",
       "    <tr>\n",
       "      <th>1713</th>\n",
       "      <td>0</td>\n",
       "      <td>1</td>\n",
       "    </tr>\n",
       "    <tr>\n",
       "      <th>1714</th>\n",
       "      <td>0</td>\n",
       "      <td>0</td>\n",
       "    </tr>\n",
       "    <tr>\n",
       "      <th>1715</th>\n",
       "      <td>0</td>\n",
       "      <td>0</td>\n",
       "    </tr>\n",
       "    <tr>\n",
       "      <th>1716</th>\n",
       "      <td>0</td>\n",
       "      <td>0</td>\n",
       "    </tr>\n",
       "    <tr>\n",
       "      <th>1717</th>\n",
       "      <td>0</td>\n",
       "      <td>1</td>\n",
       "    </tr>\n",
       "  </tbody>\n",
       "</table>\n",
       "</div>"
      ],
      "text/plain": [
       "      Obitos  Confirmados\n",
       "1713       0            1\n",
       "1714       0            0\n",
       "1715       0            0\n",
       "1716       0            0\n",
       "1717       0            1"
      ]
     },
     "execution_count": 8,
     "metadata": {},
     "output_type": "execute_result"
    }
   ],
   "source": [
    "x.head()"
   ]
  },
  {
   "cell_type": "code",
   "execution_count": 9,
   "metadata": {
    "scrolled": true
   },
   "outputs": [
    {
     "data": {
      "text/plain": [
       "1713    0\n",
       "1714    0\n",
       "1715    0\n",
       "1716    0\n",
       "1717    0\n",
       "Name: Obitos_Acumula, dtype: int64"
      ]
     },
     "execution_count": 9,
     "metadata": {},
     "output_type": "execute_result"
    }
   ],
   "source": [
    "y.head()"
   ]
  },
  {
   "cell_type": "code",
   "execution_count": 10,
   "metadata": {
    "scrolled": true
   },
   "outputs": [
    {
     "data": {
      "text/plain": [
       "RandomForestClassifier(bootstrap=True, ccp_alpha=0.0, class_weight=None,\n",
       "                       criterion='gini', max_depth=None, max_features='auto',\n",
       "                       max_leaf_nodes=None, max_samples=None,\n",
       "                       min_impurity_decrease=0.0, min_impurity_split=None,\n",
       "                       min_samples_leaf=1, min_samples_split=2,\n",
       "                       min_weight_fraction_leaf=0.0, n_estimators=100,\n",
       "                       n_jobs=-1, oob_score=False, random_state=0, verbose=0,\n",
       "                       warm_start=False)"
      ]
     },
     "execution_count": 10,
     "metadata": {},
     "output_type": "execute_result"
    }
   ],
   "source": [
    "Modelo.fit(x, y)"
   ]
  },
  {
   "cell_type": "code",
   "execution_count": 11,
   "metadata": {},
   "outputs": [
    {
     "data": {
      "text/html": [
       "<div>\n",
       "<style scoped>\n",
       "    .dataframe tbody tr th:only-of-type {\n",
       "        vertical-align: middle;\n",
       "    }\n",
       "\n",
       "    .dataframe tbody tr th {\n",
       "        vertical-align: top;\n",
       "    }\n",
       "\n",
       "    .dataframe thead th {\n",
       "        text-align: right;\n",
       "    }\n",
       "</style>\n",
       "<table border=\"1\" class=\"dataframe\">\n",
       "  <thead>\n",
       "    <tr style=\"text-align: right;\">\n",
       "      <th></th>\n",
       "      <th>Obitos</th>\n",
       "      <th>Confirmados</th>\n",
       "    </tr>\n",
       "  </thead>\n",
       "  <tbody>\n",
       "    <tr>\n",
       "      <th>1713</th>\n",
       "      <td>0</td>\n",
       "      <td>1</td>\n",
       "    </tr>\n",
       "    <tr>\n",
       "      <th>1714</th>\n",
       "      <td>0</td>\n",
       "      <td>0</td>\n",
       "    </tr>\n",
       "    <tr>\n",
       "      <th>1715</th>\n",
       "      <td>0</td>\n",
       "      <td>0</td>\n",
       "    </tr>\n",
       "    <tr>\n",
       "      <th>1716</th>\n",
       "      <td>0</td>\n",
       "      <td>0</td>\n",
       "    </tr>\n",
       "    <tr>\n",
       "      <th>1717</th>\n",
       "      <td>0</td>\n",
       "      <td>1</td>\n",
       "    </tr>\n",
       "    <tr>\n",
       "      <th>...</th>\n",
       "      <td>...</td>\n",
       "      <td>...</td>\n",
       "    </tr>\n",
       "    <tr>\n",
       "      <th>1782</th>\n",
       "      <td>275</td>\n",
       "      <td>4588</td>\n",
       "    </tr>\n",
       "    <tr>\n",
       "      <th>1783</th>\n",
       "      <td>296</td>\n",
       "      <td>6633</td>\n",
       "    </tr>\n",
       "    <tr>\n",
       "      <th>1784</th>\n",
       "      <td>600</td>\n",
       "      <td>6935</td>\n",
       "    </tr>\n",
       "    <tr>\n",
       "      <th>1785</th>\n",
       "      <td>615</td>\n",
       "      <td>10503</td>\n",
       "    </tr>\n",
       "    <tr>\n",
       "      <th>1786</th>\n",
       "      <td>610</td>\n",
       "      <td>9888</td>\n",
       "    </tr>\n",
       "  </tbody>\n",
       "</table>\n",
       "<p>74 rows × 2 columns</p>\n",
       "</div>"
      ],
      "text/plain": [
       "      Obitos  Confirmados\n",
       "1713       0            1\n",
       "1714       0            0\n",
       "1715       0            0\n",
       "1716       0            0\n",
       "1717       0            1\n",
       "...      ...          ...\n",
       "1782     275         4588\n",
       "1783     296         6633\n",
       "1784     600         6935\n",
       "1785     615        10503\n",
       "1786     610         9888\n",
       "\n",
       "[74 rows x 2 columns]"
      ]
     },
     "execution_count": 11,
     "metadata": {},
     "output_type": "execute_result"
    }
   ],
   "source": [
    "x_prev = dados_br[estudo]\n",
    "x_prev"
   ]
  },
  {
   "cell_type": "code",
   "execution_count": 12,
   "metadata": {},
   "outputs": [
    {
     "data": {
      "text/plain": [
       "array([   0,    0,    0,    0,    0,    0,    0,    0,    0,    0,    0,\n",
       "          0,    0,    0,    0,    0,    0,    0,    0,    0,    0,    1,\n",
       "          4,    4,   11,    0,    0,   46,    0,   57,    0,   77,   92,\n",
       "        114,  136,  159,  201,  241,  299,  359,  432,  486,  553,  667,\n",
       "        800,  941, 1056, 1124, 1223, 1328, 1532, 1736, 1924, 2141, 2347,\n",
       "       2462, 2575, 2741, 2906, 3313, 3670, 4016, 4205, 4543, 5017, 5466,\n",
       "       5901, 6329, 6750, 7025, 7321, 7921, 8536, 9146], dtype=int64)"
      ]
     },
     "execution_count": 12,
     "metadata": {},
     "output_type": "execute_result"
    }
   ],
   "source": [
    "prever = Modelo.predict(x_prev)\n",
    "prever"
   ]
  },
  {
   "cell_type": "code",
   "execution_count": 13,
   "metadata": {},
   "outputs": [
    {
     "data": {
      "text/plain": [
       "0        0\n",
       "1        0\n",
       "2        0\n",
       "3        0\n",
       "4        0\n",
       "      ... \n",
       "69    7025\n",
       "70    7321\n",
       "71    7921\n",
       "72    8536\n",
       "73    9146\n",
       "Length: 74, dtype: int64"
      ]
     },
     "execution_count": 13,
     "metadata": {},
     "output_type": "execute_result"
    }
   ],
   "source": [
    "pd.Series(prever)"
   ]
  },
  {
   "cell_type": "code",
   "execution_count": 14,
   "metadata": {
    "scrolled": true
   },
   "outputs": [
    {
     "data": {
      "text/plain": [
       "(74,)"
      ]
     },
     "execution_count": 14,
     "metadata": {},
     "output_type": "execute_result"
    }
   ],
   "source": [
    "mago = pd.Series(prever, index=dados_br['Dia'], name=\"Num. Mortes\")\n",
    "mago.shape"
   ]
  },
  {
   "cell_type": "code",
   "execution_count": 15,
   "metadata": {},
   "outputs": [
    {
     "data": {
      "text/plain": [
       "Dia\n",
       "2020-02-26       0\n",
       "2020-02-27       0\n",
       "2020-02-28       0\n",
       "2020-02-29       0\n",
       "2020-03-01       0\n",
       "              ... \n",
       "2020-05-05    7025\n",
       "2020-05-06    7321\n",
       "2020-05-07    7921\n",
       "2020-05-08    8536\n",
       "2020-05-09    9146\n",
       "Name: Num. Mortes, Length: 74, dtype: int64"
      ]
     },
     "execution_count": 15,
     "metadata": {},
     "output_type": "execute_result"
    }
   ],
   "source": [
    "mago.to_csv(\"prevendo_coronga\", header=True)\n",
    "mago"
   ]
  },
  {
   "cell_type": "code",
   "execution_count": 16,
   "metadata": {},
   "outputs": [],
   "source": [
    "from sklearn.model_selection import train_test_split"
   ]
  },
  {
   "cell_type": "code",
   "execution_count": 17,
   "metadata": {
    "scrolled": true
   },
   "outputs": [
    {
     "data": {
      "text/plain": [
       "array([ 0,  1,  2,  3,  4,  5,  6,  7,  8,  9, 10, 11, 12, 13, 14, 15, 16,\n",
       "       17, 18, 19])"
      ]
     },
     "execution_count": 17,
     "metadata": {},
     "output_type": "execute_result"
    }
   ],
   "source": [
    "x_testa = np.arange(20)\n",
    "x_testa"
   ]
  },
  {
   "cell_type": "code",
   "execution_count": 18,
   "metadata": {},
   "outputs": [
    {
     "data": {
      "text/plain": [
       "[array([17, 11,  1,  9,  2,  4,  0,  8, 15, 19]),\n",
       " array([ 6,  5, 18, 16, 13,  3, 10,  7, 12, 14])]"
      ]
     },
     "execution_count": 18,
     "metadata": {},
     "output_type": "execute_result"
    }
   ],
   "source": [
    "train_test_split(x_testa, test_size=0.5)\n",
    "#Lembre_se que ele vai gerar uma lista  aleatoria para cada array P: teste e validação dos dados\n",
    "# np.random.seed(0) --> é o comando que fará a interrupção de geração aleatória !"
   ]
  },
  {
   "cell_type": "code",
   "execution_count": 19,
   "metadata": {},
   "outputs": [
    {
     "data": {
      "text/plain": [
       "((37, 2), (37, 2), (37,), (37,))"
      ]
     },
     "execution_count": 19,
     "metadata": {},
     "output_type": "execute_result"
    }
   ],
   "source": [
    "x_treino, x_valido, y_treino, y_valido = train_test_split(x, y, test_size=0.5)\n",
    "x_treino.shape, x_valido.shape, y_treino.shape, y_valido.shape\n",
    "# Na ultima linha ele vai dividir  os dados entre arrays para submeter aos testes!"
   ]
  },
  {
   "cell_type": "code",
   "execution_count": 20,
   "metadata": {
    "scrolled": true
   },
   "outputs": [
    {
     "data": {
      "text/plain": [
       "RandomForestClassifier(bootstrap=True, ccp_alpha=0.0, class_weight=None,\n",
       "                       criterion='gini', max_depth=None, max_features='auto',\n",
       "                       max_leaf_nodes=None, max_samples=None,\n",
       "                       min_impurity_decrease=0.0, min_impurity_split=None,\n",
       "                       min_samples_leaf=1, min_samples_split=2,\n",
       "                       min_weight_fraction_leaf=0.0, n_estimators=100,\n",
       "                       n_jobs=-1, oob_score=False, random_state=0, verbose=0,\n",
       "                       warm_start=False)"
      ]
     },
     "execution_count": 20,
     "metadata": {},
     "output_type": "execute_result"
    }
   ],
   "source": [
    "Modelo.fit(x_treino, y_treino)"
   ]
  },
  {
   "cell_type": "code",
   "execution_count": 21,
   "metadata": {
    "scrolled": true
   },
   "outputs": [
    {
     "data": {
      "text/plain": [
       "array([   0, 1328,  114,  553,    0,    0,    0, 6750,    0, 5901, 5901,\n",
       "        114, 2741, 5901,    0,    0, 2575,  241,  941,    0,    0,    0,\n",
       "       6750,    0,  553,  941,    0, 2575, 1532,    0,  241, 2347,  241,\n",
       "       6750, 4543, 4016,    0], dtype=int64)"
      ]
     },
     "execution_count": 21,
     "metadata": {},
     "output_type": "execute_result"
    }
   ],
   "source": [
    "Modelo.predict(x_valido)"
   ]
  },
  {
   "cell_type": "code",
   "execution_count": 22,
   "metadata": {
    "scrolled": true
   },
   "outputs": [
    {
     "data": {
      "text/plain": [
       "array([7921,    0, 4016,    0,    0,    0,    0,    0,    0, 4205,   57,\n",
       "       2741,  241,  159,    0,    0,  136,    0, 4543, 1736, 6750,    0,\n",
       "        432,  553, 1328,    0, 7321, 2347, 5901, 1532,    4,  114,    0,\n",
       "         46,  941, 2575,   11], dtype=int64)"
      ]
     },
     "execution_count": 22,
     "metadata": {},
     "output_type": "execute_result"
    }
   ],
   "source": [
    "Modelo.predict(x_treino)"
   ]
  },
  {
   "cell_type": "code",
   "execution_count": 23,
   "metadata": {
    "scrolled": true
   },
   "outputs": [
    {
     "data": {
      "text/plain": [
       "0.2972972972972973"
      ]
     },
     "execution_count": 23,
     "metadata": {},
     "output_type": "execute_result"
    }
   ],
   "source": [
    "param = Modelo.predict(x_valido)\n",
    "np.mean(y_valido == param)"
   ]
  },
  {
   "cell_type": "code",
   "execution_count": 24,
   "metadata": {},
   "outputs": [],
   "source": [
    "from sklearn.model_selection import KFold"
   ]
  },
  {
   "cell_type": "code",
   "execution_count": 25,
   "metadata": {
    "scrolled": true
   },
   "outputs": [
    {
     "name": "stdout",
     "output_type": "stream",
     "text": [
      "Num. Repe.: 0\n",
      "Treinados: 49\n",
      "Teremos: 25\n",
      "Acurácia: 0.12\n",
      "\n",
      "Treinados: 49\n",
      "Teremos: 25\n",
      "Acurácia: 0.4\n",
      "\n",
      "Treinados: 50\n",
      "Teremos: 24\n",
      "Acurácia: 0.3333333333333333\n",
      "\n",
      "Num. Repe.: 1\n",
      "Treinados: 49\n",
      "Teremos: 25\n",
      "Acurácia: 0.16\n",
      "\n",
      "Treinados: 49\n",
      "Teremos: 25\n",
      "Acurácia: 0.28\n",
      "\n",
      "Treinados: 50\n",
      "Teremos: 24\n",
      "Acurácia: 0.4583333333333333\n",
      "\n",
      "Num. Repe.: 2\n",
      "Treinados: 49\n",
      "Teremos: 25\n",
      "Acurácia: 0.24\n",
      "\n",
      "Treinados: 49\n",
      "Teremos: 25\n",
      "Acurácia: 0.4\n",
      "\n",
      "Treinados: 50\n",
      "Teremos: 24\n",
      "Acurácia: 0.20833333333333334\n",
      "\n",
      "Num. Repe.: 3\n",
      "Treinados: 49\n",
      "Teremos: 25\n",
      "Acurácia: 0.28\n",
      "\n",
      "Treinados: 49\n",
      "Teremos: 25\n",
      "Acurácia: 0.2\n",
      "\n",
      "Treinados: 50\n",
      "Teremos: 24\n",
      "Acurácia: 0.4166666666666667\n",
      "\n",
      "Num. Repe.: 4\n",
      "Treinados: 49\n",
      "Teremos: 25\n",
      "Acurácia: 0.4\n",
      "\n",
      "Treinados: 49\n",
      "Teremos: 25\n",
      "Acurácia: 0.28\n",
      "\n",
      "Treinados: 50\n",
      "Teremos: 24\n",
      "Acurácia: 0.16666666666666666\n",
      "\n",
      "Num. Repe.: 5\n",
      "Treinados: 49\n",
      "Teremos: 25\n",
      "Acurácia: 0.16\n",
      "\n",
      "Treinados: 49\n",
      "Teremos: 25\n",
      "Acurácia: 0.28\n",
      "\n",
      "Treinados: 50\n",
      "Teremos: 24\n",
      "Acurácia: 0.4166666666666667\n",
      "\n",
      "Num. Repe.: 6\n",
      "Treinados: 49\n",
      "Teremos: 25\n",
      "Acurácia: 0.16\n",
      "\n",
      "Treinados: 49\n",
      "Teremos: 25\n",
      "Acurácia: 0.36\n",
      "\n",
      "Treinados: 50\n",
      "Teremos: 24\n",
      "Acurácia: 0.3333333333333333\n",
      "\n",
      "Num. Repe.: 7\n",
      "Treinados: 49\n",
      "Teremos: 25\n",
      "Acurácia: 0.28\n",
      "\n",
      "Treinados: 49\n",
      "Teremos: 25\n",
      "Acurácia: 0.24\n",
      "\n",
      "Treinados: 50\n",
      "Teremos: 24\n",
      "Acurácia: 0.375\n",
      "\n",
      "Num. Repe.: 8\n",
      "Treinados: 49\n",
      "Teremos: 25\n",
      "Acurácia: 0.24\n",
      "\n",
      "Treinados: 49\n",
      "Teremos: 25\n",
      "Acurácia: 0.28\n",
      "\n",
      "Treinados: 50\n",
      "Teremos: 24\n",
      "Acurácia: 0.375\n",
      "\n",
      "Num. Repe.: 9\n",
      "Treinados: 49\n",
      "Teremos: 25\n",
      "Acurácia: 0.28\n",
      "\n",
      "Treinados: 49\n",
      "Teremos: 25\n",
      "Acurácia: 0.32\n",
      "\n",
      "Treinados: 50\n",
      "Teremos: 24\n",
      "Acurácia: 0.2916666666666667\n",
      "\n"
     ]
    }
   ],
   "source": [
    "result = []\n",
    "for repete in range(10):\n",
    "    print(\"Num. Repe.:\", repete)\n",
    "    kf = KFold(3, shuffle=True, random_state=repete)\n",
    "\n",
    "# Criando um loop for para obter mais resultados:\n",
    "    for dados_treino, dados_validos in kf.split(x):\n",
    "        print(\"Treinados:\", dados_treino.shape[0])\n",
    "        print(\"Teremos:\", dados_validos.shape[0])\n",
    "\n",
    "        # chamando as variaveis de treino:\n",
    "        x_treino, x_valido = x.iloc[dados_treino], x.iloc[dados_validos]\n",
    "        y_treino, y_valido = y.iloc[dados_treino], y.iloc[dados_validos]\n",
    "\n",
    "        # copiando codigos antigos\n",
    "        Modelo = RandomForestClassifier(n_estimators=100, n_jobs=-1, random_state=0)\n",
    "        Modelo.fit(x_treino, y_treino)\n",
    "        param = Modelo.predict(x_valido)\n",
    "        acu = np.mean(y_valido == param)\n",
    "        \n",
    "        # Por fim:\n",
    "        result.append(acu)\n",
    "        print(\"Acurácia:\", acu)\n",
    "        print()"
   ]
  },
  {
   "cell_type": "code",
   "execution_count": 26,
   "metadata": {},
   "outputs": [],
   "source": [
    "from sklearn.model_selection import RepeatedKFold"
   ]
  },
  {
   "cell_type": "code",
   "execution_count": 27,
   "metadata": {},
   "outputs": [],
   "source": [
    "# Vamos aumentar o campo de dados das variveis de treino\n",
    "estudo = ['Obitos', 'Confirmados', 'Obitos_Acumula', 'Confirmados_Acumula']\n",
    "x = dados_br[estudo]\n",
    "y = dados_br['Obitos_Acumula']"
   ]
  },
  {
   "cell_type": "code",
   "execution_count": 28,
   "metadata": {
    "scrolled": false
   },
   "outputs": [
    {
     "name": "stdout",
     "output_type": "stream",
     "text": [
      "Treinados: 49\n",
      "Teremos: 25\n",
      "Acurácia: 0.2\n",
      "\n",
      "Treinados: 49\n",
      "Teremos: 25\n",
      "Acurácia: 0.32\n",
      "\n",
      "Treinados: 50\n",
      "Teremos: 24\n",
      "Acurácia: 0.4166666666666667\n",
      "\n",
      "Treinados: 49\n",
      "Teremos: 25\n",
      "Acurácia: 0.28\n",
      "\n",
      "Treinados: 49\n",
      "Teremos: 25\n",
      "Acurácia: 0.28\n",
      "\n",
      "Treinados: 50\n",
      "Teremos: 24\n",
      "Acurácia: 0.375\n",
      "\n",
      "Treinados: 49\n",
      "Teremos: 25\n",
      "Acurácia: 0.32\n",
      "\n",
      "Treinados: 49\n",
      "Teremos: 25\n",
      "Acurácia: 0.32\n",
      "\n",
      "Treinados: 50\n",
      "Teremos: 24\n",
      "Acurácia: 0.2916666666666667\n",
      "\n",
      "Treinados: 49\n",
      "Teremos: 25\n",
      "Acurácia: 0.24\n",
      "\n",
      "Treinados: 49\n",
      "Teremos: 25\n",
      "Acurácia: 0.24\n",
      "\n",
      "Treinados: 50\n",
      "Teremos: 24\n",
      "Acurácia: 0.4583333333333333\n",
      "\n",
      "Treinados: 49\n",
      "Teremos: 25\n",
      "Acurácia: 0.36\n",
      "\n",
      "Treinados: 49\n",
      "Teremos: 25\n",
      "Acurácia: 0.28\n",
      "\n",
      "Treinados: 50\n",
      "Teremos: 24\n",
      "Acurácia: 0.4583333333333333\n",
      "\n"
     ]
    }
   ],
   "source": [
    "# Vamos copiar o antigo codigo, porem com novas mudanças:\n",
    "result = []\n",
    "kf = RepeatedKFold(n_splits=3, n_repeats=5, random_state=5)\n",
    "\n",
    "# Criando um loop for para obter mais resultados:\n",
    "for dados_treino, dados_validos in kf.split(x):\n",
    "    print(\"Treinados:\", dados_treino.shape[0])\n",
    "    print(\"Teremos:\", dados_validos.shape[0])\n",
    "        \n",
    "#Aplicando as variaveis de previsão:\n",
    "    x_treino, x_valido = x.iloc[dados_treino], x.iloc[dados_validos]\n",
    "    y_treino, y_valido = y.iloc[dados_treino], y.iloc[dados_validos]\n",
    "        \n",
    "#Repetindo codigos passados:\n",
    "    Modelo = RandomForestClassifier(n_estimators=100, n_jobs=-1, random_state=0)\n",
    "    Modelo.fit(x_treino, y_treino)\n",
    "    param = Modelo.predict(x_valido)\n",
    "    acu = np.mean(y_valido == param)\n",
    "        \n",
    "#No final teremos:\n",
    "    result.append(acu)\n",
    "    print(\"Acurácia:\", acu)\n",
    "    print()"
   ]
  },
  {
   "cell_type": "code",
   "execution_count": 29,
   "metadata": {},
   "outputs": [
    {
     "name": "stdout",
     "output_type": "stream",
     "text": [
      "Populating the interactive namespace from numpy and matplotlib\n"
     ]
    }
   ],
   "source": [
    "%matplotlib inline\n",
    "%pylab inline"
   ]
  },
  {
   "cell_type": "code",
   "execution_count": 30,
   "metadata": {
    "scrolled": true
   },
   "outputs": [
    {
     "data": {
      "text/plain": [
       "(array([1., 2., 0., 4., 3., 0., 2., 0., 1., 2.]),\n",
       " array([0.2       , 0.22583333, 0.25166667, 0.2775    , 0.30333333,\n",
       "        0.32916667, 0.355     , 0.38083333, 0.40666667, 0.4325    ,\n",
       "        0.45833333]),\n",
       " <a list of 10 Patch objects>)"
      ]
     },
     "execution_count": 30,
     "metadata": {},
     "output_type": "execute_result"
    },
    {
     "data": {
      "image/png": "[encoded data removed]",
      "text/plain": [
       "<Figure size 432x288 with 1 Axes>"
      ]
     },
     "metadata": {
      "needs_background": "light"
     },
     "output_type": "display_data"
    }
   ],
   "source": [
    "pylab.hist(result)"
   ]
  },
  {
   "cell_type": "code",
   "execution_count": 31,
   "metadata": {
    "scrolled": true
   },
   "outputs": [
    {
     "data": {
      "text/html": [
       "<div>\n",
       "<style scoped>\n",
       "    .dataframe tbody tr th:only-of-type {\n",
       "        vertical-align: middle;\n",
       "    }\n",
       "\n",
       "    .dataframe tbody tr th {\n",
       "        vertical-align: top;\n",
       "    }\n",
       "\n",
       "    .dataframe thead th {\n",
       "        text-align: right;\n",
       "    }\n",
       "</style>\n",
       "<table border=\"1\" class=\"dataframe\">\n",
       "  <thead>\n",
       "    <tr style=\"text-align: right;\">\n",
       "      <th></th>\n",
       "      <th>Obitos</th>\n",
       "      <th>Confirmados</th>\n",
       "      <th>Obitos_Acumula</th>\n",
       "      <th>Confirmados_Acumula</th>\n",
       "    </tr>\n",
       "  </thead>\n",
       "  <tbody>\n",
       "    <tr>\n",
       "      <th>1713</th>\n",
       "      <td>0</td>\n",
       "      <td>1</td>\n",
       "      <td>0</td>\n",
       "      <td>1</td>\n",
       "    </tr>\n",
       "    <tr>\n",
       "      <th>1714</th>\n",
       "      <td>0</td>\n",
       "      <td>0</td>\n",
       "      <td>0</td>\n",
       "      <td>1</td>\n",
       "    </tr>\n",
       "    <tr>\n",
       "      <th>1715</th>\n",
       "      <td>0</td>\n",
       "      <td>0</td>\n",
       "      <td>0</td>\n",
       "      <td>1</td>\n",
       "    </tr>\n",
       "    <tr>\n",
       "      <th>1716</th>\n",
       "      <td>0</td>\n",
       "      <td>0</td>\n",
       "      <td>0</td>\n",
       "      <td>1</td>\n",
       "    </tr>\n",
       "    <tr>\n",
       "      <th>1717</th>\n",
       "      <td>0</td>\n",
       "      <td>1</td>\n",
       "      <td>0</td>\n",
       "      <td>2</td>\n",
       "    </tr>\n",
       "    <tr>\n",
       "      <th>...</th>\n",
       "      <td>...</td>\n",
       "      <td>...</td>\n",
       "      <td>...</td>\n",
       "      <td>...</td>\n",
       "    </tr>\n",
       "    <tr>\n",
       "      <th>1782</th>\n",
       "      <td>275</td>\n",
       "      <td>4588</td>\n",
       "      <td>7025</td>\n",
       "      <td>101147</td>\n",
       "    </tr>\n",
       "    <tr>\n",
       "      <th>1783</th>\n",
       "      <td>296</td>\n",
       "      <td>6633</td>\n",
       "      <td>7321</td>\n",
       "      <td>107780</td>\n",
       "    </tr>\n",
       "    <tr>\n",
       "      <th>1784</th>\n",
       "      <td>600</td>\n",
       "      <td>6935</td>\n",
       "      <td>7921</td>\n",
       "      <td>114715</td>\n",
       "    </tr>\n",
       "    <tr>\n",
       "      <th>1785</th>\n",
       "      <td>615</td>\n",
       "      <td>10503</td>\n",
       "      <td>8536</td>\n",
       "      <td>125218</td>\n",
       "    </tr>\n",
       "    <tr>\n",
       "      <th>1786</th>\n",
       "      <td>610</td>\n",
       "      <td>9888</td>\n",
       "      <td>9146</td>\n",
       "      <td>135106</td>\n",
       "    </tr>\n",
       "  </tbody>\n",
       "</table>\n",
       "<p>74 rows × 4 columns</p>\n",
       "</div>"
      ],
      "text/plain": [
       "      Obitos  Confirmados  Obitos_Acumula  Confirmados_Acumula\n",
       "1713       0            1               0                    1\n",
       "1714       0            0               0                    1\n",
       "1715       0            0               0                    1\n",
       "1716       0            0               0                    1\n",
       "1717       0            1               0                    2\n",
       "...      ...          ...             ...                  ...\n",
       "1782     275         4588            7025               101147\n",
       "1783     296         6633            7321               107780\n",
       "1784     600         6935            7921               114715\n",
       "1785     615        10503            8536               125218\n",
       "1786     610         9888            9146               135106\n",
       "\n",
       "[74 rows x 4 columns]"
      ]
     },
     "execution_count": 31,
     "metadata": {},
     "output_type": "execute_result"
    }
   ],
   "source": [
    "#Refazer o treino:\n",
    "dados_br[estudo]"
   ]
  },
  {
   "cell_type": "code",
   "execution_count": 32,
   "metadata": {},
   "outputs": [
    {
     "data": {
      "text/plain": [
       "array([   0,    0,    0,    0,    0,    0,    0,    0,    0,    0,    0,\n",
       "          0,    0,    0,    0,    0,    0,    0,    0,    0,    0,    1,\n",
       "          4,    4,   11,   11,   11,   46,   46,   57,   57,   77,   92,\n",
       "        114,  136,  159,  201,  241,  299,  359,  432,  486,  553,  667,\n",
       "        800,  941, 1056, 1124, 1223, 1328, 1532, 1736, 1924, 2141, 2347,\n",
       "       2462, 2575, 2741, 2906, 3313, 3670, 4016, 4205, 4543, 5017, 5466,\n",
       "       5901, 6329, 6750, 7025, 7321, 7921, 8536, 9146], dtype=int64)"
      ]
     },
     "execution_count": 32,
     "metadata": {},
     "output_type": "execute_result"
    }
   ],
   "source": [
    "Modelo = RandomForestClassifier(n_estimators=100, n_jobs=-1, random_state=0)\n",
    "Modelo.fit(x, y)\n",
    "param = Modelo.predict(dados_br[estudo])\n",
    "param"
   ]
  },
  {
   "cell_type": "code",
   "execution_count": 33,
   "metadata": {},
   "outputs": [
    {
     "data": {
      "text/plain": [
       "(74,)"
      ]
     },
     "execution_count": 33,
     "metadata": {},
     "output_type": "execute_result"
    }
   ],
   "source": [
    "bruxo = pd.Series(param, index=dados_br['Dia'], name=\"Num. Mortes\")\n",
    "bruxo.shape"
   ]
  },
  {
   "cell_type": "code",
   "execution_count": 34,
   "metadata": {
    "scrolled": false
   },
   "outputs": [
    {
     "name": "stdout",
     "output_type": "stream",
     "text": [
      "Dia\n",
      "2020-02-26       0\n",
      "2020-02-27       0\n",
      "2020-02-28       0\n",
      "2020-02-29       0\n",
      "2020-03-01       0\n",
      "              ... \n",
      "2020-05-05    7025\n",
      "2020-05-06    7321\n",
      "2020-05-07    7921\n",
      "2020-05-08    8536\n",
      "2020-05-09    9146\n",
      "Name: Num. Mortes, Length: 74, dtype: int64\n"
     ]
    }
   ],
   "source": [
    "print(bruxo) #estamos chamando o 'param' mas em formato vertical"
   ]
  }
 ],
 "metadata": {
  "kernelspec": {
   "display_name": "Python 3",
   "language": "python",
   "name": "python3"
  },
  "language_info": {
   "codemirror_mode": {
    "name": "ipython",
    "version": 3
   },
   "file_extension": ".py",
   "mimetype": "text/x-python",
   "name": "python",
   "nbconvert_exporter": "python",
   "pygments_lexer": "ipython3",
   "version": "3.7.6"
  }
 },
 "nbformat": 4,
 "nbformat_minor": 4
}
