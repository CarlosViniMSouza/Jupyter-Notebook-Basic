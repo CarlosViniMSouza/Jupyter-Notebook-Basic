{
 "cells": [
  {
   "cell_type": "markdown",
   "metadata": {},
   "source": [
    "# Aula 2 -  Médias, medianas e visualização de dados"
   ]
  },
  {
   "cell_type": "code",
   "execution_count": 1,
   "metadata": {},
   "outputs": [],
   "source": [
    "#Bibliotecas para Controle de Dados:\n",
    "import pandas as pd\n",
    "import numpy as np\n",
    "import matplotlib.pyplot as plt"
   ]
  },
  {
   "cell_type": "code",
   "execution_count": 2,
   "metadata": {},
   "outputs": [
    {
     "data": {
      "text/html": [
       "<div>\n",
       "<style scoped>\n",
       "    .dataframe tbody tr th:only-of-type {\n",
       "        vertical-align: middle;\n",
       "    }\n",
       "\n",
       "    .dataframe tbody tr th {\n",
       "        vertical-align: top;\n",
       "    }\n",
       "\n",
       "    .dataframe thead th {\n",
       "        text-align: right;\n",
       "    }\n",
       "</style>\n",
       "<table border=\"1\" class=\"dataframe\">\n",
       "  <thead>\n",
       "    <tr style=\"text-align: right;\">\n",
       "      <th></th>\n",
       "      <th>movieId</th>\n",
       "      <th>title</th>\n",
       "      <th>genres</th>\n",
       "    </tr>\n",
       "  </thead>\n",
       "  <tbody>\n",
       "    <tr>\n",
       "      <td>0</td>\n",
       "      <td>1</td>\n",
       "      <td>Toy Story (1995)</td>\n",
       "      <td>Adventure|Animation|Children|Comedy|Fantasy</td>\n",
       "    </tr>\n",
       "    <tr>\n",
       "      <td>1</td>\n",
       "      <td>2</td>\n",
       "      <td>Jumanji (1995)</td>\n",
       "      <td>Adventure|Children|Fantasy</td>\n",
       "    </tr>\n",
       "    <tr>\n",
       "      <td>2</td>\n",
       "      <td>3</td>\n",
       "      <td>Grumpier Old Men (1995)</td>\n",
       "      <td>Comedy|Romance</td>\n",
       "    </tr>\n",
       "    <tr>\n",
       "      <td>3</td>\n",
       "      <td>4</td>\n",
       "      <td>Waiting to Exhale (1995)</td>\n",
       "      <td>Comedy|Drama|Romance</td>\n",
       "    </tr>\n",
       "    <tr>\n",
       "      <td>4</td>\n",
       "      <td>5</td>\n",
       "      <td>Father of the Bride Part II (1995)</td>\n",
       "      <td>Comedy</td>\n",
       "    </tr>\n",
       "  </tbody>\n",
       "</table>\n",
       "</div>"
      ],
      "text/plain": [
       "   movieId                               title  \\\n",
       "0        1                    Toy Story (1995)   \n",
       "1        2                      Jumanji (1995)   \n",
       "2        3             Grumpier Old Men (1995)   \n",
       "3        4            Waiting to Exhale (1995)   \n",
       "4        5  Father of the Bride Part II (1995)   \n",
       "\n",
       "                                        genres  \n",
       "0  Adventure|Animation|Children|Comedy|Fantasy  \n",
       "1                   Adventure|Children|Fantasy  \n",
       "2                               Comedy|Romance  \n",
       "3                         Comedy|Drama|Romance  \n",
       "4                                       Comedy  "
      ]
     },
     "execution_count": 2,
     "metadata": {},
     "output_type": "execute_result"
    }
   ],
   "source": [
    "films = pd.read_csv('https://raw.githubusercontent.com/alura-cursos/introducao-a-data-science/master/aula0/ml-latest-small/movies.csv')\n",
    "films.head()\n",
    "# films é um data-frame!"
   ]
  },
  {
   "cell_type": "code",
   "execution_count": 28,
   "metadata": {},
   "outputs": [],
   "source": [
    "filmes.columns = [\"filmeID\", \"Título\", \"generos\"]"
   ]
  },
  {
   "cell_type": "code",
   "execution_count": 4,
   "metadata": {},
   "outputs": [
    {
     "data": {
      "text/html": [
       "<div>\n",
       "<style scoped>\n",
       "    .dataframe tbody tr th:only-of-type {\n",
       "        vertical-align: middle;\n",
       "    }\n",
       "\n",
       "    .dataframe tbody tr th {\n",
       "        vertical-align: top;\n",
       "    }\n",
       "\n",
       "    .dataframe thead th {\n",
       "        text-align: right;\n",
       "    }\n",
       "</style>\n",
       "<table border=\"1\" class=\"dataframe\">\n",
       "  <thead>\n",
       "    <tr style=\"text-align: right;\">\n",
       "      <th></th>\n",
       "      <th>userId</th>\n",
       "      <th>movieId</th>\n",
       "      <th>rating</th>\n",
       "      <th>timestamp</th>\n",
       "    </tr>\n",
       "  </thead>\n",
       "  <tbody>\n",
       "    <tr>\n",
       "      <td>0</td>\n",
       "      <td>1</td>\n",
       "      <td>1</td>\n",
       "      <td>4.0</td>\n",
       "      <td>964982703</td>\n",
       "    </tr>\n",
       "    <tr>\n",
       "      <td>1</td>\n",
       "      <td>1</td>\n",
       "      <td>3</td>\n",
       "      <td>4.0</td>\n",
       "      <td>964981247</td>\n",
       "    </tr>\n",
       "    <tr>\n",
       "      <td>2</td>\n",
       "      <td>1</td>\n",
       "      <td>6</td>\n",
       "      <td>4.0</td>\n",
       "      <td>964982224</td>\n",
       "    </tr>\n",
       "    <tr>\n",
       "      <td>3</td>\n",
       "      <td>1</td>\n",
       "      <td>47</td>\n",
       "      <td>5.0</td>\n",
       "      <td>964983815</td>\n",
       "    </tr>\n",
       "    <tr>\n",
       "      <td>4</td>\n",
       "      <td>1</td>\n",
       "      <td>50</td>\n",
       "      <td>5.0</td>\n",
       "      <td>964982931</td>\n",
       "    </tr>\n",
       "  </tbody>\n",
       "</table>\n",
       "</div>"
      ],
      "text/plain": [
       "   userId  movieId  rating  timestamp\n",
       "0       1        1     4.0  964982703\n",
       "1       1        3     4.0  964981247\n",
       "2       1        6     4.0  964982224\n",
       "3       1       47     5.0  964983815\n",
       "4       1       50     5.0  964982931"
      ]
     },
     "execution_count": 4,
     "metadata": {},
     "output_type": "execute_result"
    }
   ],
   "source": [
    "notas = pd.read_csv('https://raw.githubusercontent.com/alura-cursos/introducao-a-data-science/master/aula0/ml-latest-small/ratings.csv')\n",
    "notas.head()"
   ]
  },
  {
   "cell_type": "code",
   "execution_count": 5,
   "metadata": {},
   "outputs": [
    {
     "data": {
      "text/plain": [
       "(100836, 4)"
      ]
     },
     "execution_count": 5,
     "metadata": {},
     "output_type": "execute_result"
    }
   ],
   "source": [
    "notas.shape"
   ]
  },
  {
   "cell_type": "code",
   "execution_count": 6,
   "metadata": {},
   "outputs": [
    {
     "data": {
      "text/html": [
       "<div>\n",
       "<style scoped>\n",
       "    .dataframe tbody tr th:only-of-type {\n",
       "        vertical-align: middle;\n",
       "    }\n",
       "\n",
       "    .dataframe tbody tr th {\n",
       "        vertical-align: top;\n",
       "    }\n",
       "\n",
       "    .dataframe thead th {\n",
       "        text-align: right;\n",
       "    }\n",
       "</style>\n",
       "<table border=\"1\" class=\"dataframe\">\n",
       "  <thead>\n",
       "    <tr style=\"text-align: right;\">\n",
       "      <th></th>\n",
       "      <th>UsuarioID</th>\n",
       "      <th>FilmeID</th>\n",
       "      <th>Notas</th>\n",
       "      <th>Momento</th>\n",
       "    </tr>\n",
       "  </thead>\n",
       "  <tbody>\n",
       "    <tr>\n",
       "      <td>0</td>\n",
       "      <td>1</td>\n",
       "      <td>1</td>\n",
       "      <td>4.0</td>\n",
       "      <td>964982703</td>\n",
       "    </tr>\n",
       "    <tr>\n",
       "      <td>1</td>\n",
       "      <td>1</td>\n",
       "      <td>3</td>\n",
       "      <td>4.0</td>\n",
       "      <td>964981247</td>\n",
       "    </tr>\n",
       "    <tr>\n",
       "      <td>2</td>\n",
       "      <td>1</td>\n",
       "      <td>6</td>\n",
       "      <td>4.0</td>\n",
       "      <td>964982224</td>\n",
       "    </tr>\n",
       "    <tr>\n",
       "      <td>3</td>\n",
       "      <td>1</td>\n",
       "      <td>47</td>\n",
       "      <td>5.0</td>\n",
       "      <td>964983815</td>\n",
       "    </tr>\n",
       "    <tr>\n",
       "      <td>4</td>\n",
       "      <td>1</td>\n",
       "      <td>50</td>\n",
       "      <td>5.0</td>\n",
       "      <td>964982931</td>\n",
       "    </tr>\n",
       "  </tbody>\n",
       "</table>\n",
       "</div>"
      ],
      "text/plain": [
       "   UsuarioID  FilmeID  Notas    Momento\n",
       "0          1        1    4.0  964982703\n",
       "1          1        3    4.0  964981247\n",
       "2          1        6    4.0  964982224\n",
       "3          1       47    5.0  964983815\n",
       "4          1       50    5.0  964982931"
      ]
     },
     "execution_count": 6,
     "metadata": {},
     "output_type": "execute_result"
    }
   ],
   "source": [
    "notas.columns = [\"UsuarioID\", \"FilmeID\", \"Notas\", \"Momento\"]\n",
    "notas.head()"
   ]
  },
  {
   "cell_type": "code",
   "execution_count": 7,
   "metadata": {},
   "outputs": [
    {
     "data": {
      "text/html": [
       "<div>\n",
       "<style scoped>\n",
       "    .dataframe tbody tr th:only-of-type {\n",
       "        vertical-align: middle;\n",
       "    }\n",
       "\n",
       "    .dataframe tbody tr th {\n",
       "        vertical-align: top;\n",
       "    }\n",
       "\n",
       "    .dataframe thead th {\n",
       "        text-align: right;\n",
       "    }\n",
       "</style>\n",
       "<table border=\"1\" class=\"dataframe\">\n",
       "  <thead>\n",
       "    <tr style=\"text-align: right;\">\n",
       "      <th></th>\n",
       "      <th>UsuarioID</th>\n",
       "      <th>FilmeID</th>\n",
       "      <th>Notas</th>\n",
       "      <th>Momento</th>\n",
       "    </tr>\n",
       "  </thead>\n",
       "  <tbody>\n",
       "    <tr>\n",
       "      <td>0</td>\n",
       "      <td>1</td>\n",
       "      <td>1</td>\n",
       "      <td>4.0</td>\n",
       "      <td>964982703</td>\n",
       "    </tr>\n",
       "    <tr>\n",
       "      <td>516</td>\n",
       "      <td>5</td>\n",
       "      <td>1</td>\n",
       "      <td>4.0</td>\n",
       "      <td>847434962</td>\n",
       "    </tr>\n",
       "    <tr>\n",
       "      <td>874</td>\n",
       "      <td>7</td>\n",
       "      <td>1</td>\n",
       "      <td>4.5</td>\n",
       "      <td>1106635946</td>\n",
       "    </tr>\n",
       "    <tr>\n",
       "      <td>1434</td>\n",
       "      <td>15</td>\n",
       "      <td>1</td>\n",
       "      <td>2.5</td>\n",
       "      <td>1510577970</td>\n",
       "    </tr>\n",
       "    <tr>\n",
       "      <td>1667</td>\n",
       "      <td>17</td>\n",
       "      <td>1</td>\n",
       "      <td>4.5</td>\n",
       "      <td>1305696483</td>\n",
       "    </tr>\n",
       "    <tr>\n",
       "      <td>...</td>\n",
       "      <td>...</td>\n",
       "      <td>...</td>\n",
       "      <td>...</td>\n",
       "      <td>...</td>\n",
       "    </tr>\n",
       "    <tr>\n",
       "      <td>97364</td>\n",
       "      <td>606</td>\n",
       "      <td>1</td>\n",
       "      <td>2.5</td>\n",
       "      <td>1349082950</td>\n",
       "    </tr>\n",
       "    <tr>\n",
       "      <td>98479</td>\n",
       "      <td>607</td>\n",
       "      <td>1</td>\n",
       "      <td>4.0</td>\n",
       "      <td>964744033</td>\n",
       "    </tr>\n",
       "    <tr>\n",
       "      <td>98666</td>\n",
       "      <td>608</td>\n",
       "      <td>1</td>\n",
       "      <td>2.5</td>\n",
       "      <td>1117408267</td>\n",
       "    </tr>\n",
       "    <tr>\n",
       "      <td>99497</td>\n",
       "      <td>609</td>\n",
       "      <td>1</td>\n",
       "      <td>3.0</td>\n",
       "      <td>847221025</td>\n",
       "    </tr>\n",
       "    <tr>\n",
       "      <td>99534</td>\n",
       "      <td>610</td>\n",
       "      <td>1</td>\n",
       "      <td>5.0</td>\n",
       "      <td>1479542900</td>\n",
       "    </tr>\n",
       "  </tbody>\n",
       "</table>\n",
       "<p>215 rows × 4 columns</p>\n",
       "</div>"
      ],
      "text/plain": [
       "       UsuarioID  FilmeID  Notas     Momento\n",
       "0              1        1    4.0   964982703\n",
       "516            5        1    4.0   847434962\n",
       "874            7        1    4.5  1106635946\n",
       "1434          15        1    2.5  1510577970\n",
       "1667          17        1    4.5  1305696483\n",
       "...          ...      ...    ...         ...\n",
       "97364        606        1    2.5  1349082950\n",
       "98479        607        1    4.0   964744033\n",
       "98666        608        1    2.5  1117408267\n",
       "99497        609        1    3.0   847221025\n",
       "99534        610        1    5.0  1479542900\n",
       "\n",
       "[215 rows x 4 columns]"
      ]
     },
     "execution_count": 7,
     "metadata": {},
     "output_type": "execute_result"
    }
   ],
   "source": [
    "notas.query('FilmeID == 1')"
   ]
  },
  {
   "cell_type": "code",
   "execution_count": 8,
   "metadata": {},
   "outputs": [
    {
     "data": {
      "text/html": [
       "<div>\n",
       "<style scoped>\n",
       "    .dataframe tbody tr th:only-of-type {\n",
       "        vertical-align: middle;\n",
       "    }\n",
       "\n",
       "    .dataframe tbody tr th {\n",
       "        vertical-align: top;\n",
       "    }\n",
       "\n",
       "    .dataframe thead th {\n",
       "        text-align: right;\n",
       "    }\n",
       "</style>\n",
       "<table border=\"1\" class=\"dataframe\">\n",
       "  <thead>\n",
       "    <tr style=\"text-align: right;\">\n",
       "      <th></th>\n",
       "      <th>UsuarioID</th>\n",
       "      <th>FilmeID</th>\n",
       "      <th>Notas</th>\n",
       "      <th>Momento</th>\n",
       "    </tr>\n",
       "  </thead>\n",
       "  <tbody>\n",
       "    <tr>\n",
       "      <td>count</td>\n",
       "      <td>100836.000000</td>\n",
       "      <td>100836.000000</td>\n",
       "      <td>100836.000000</td>\n",
       "      <td>1.008360e+05</td>\n",
       "    </tr>\n",
       "    <tr>\n",
       "      <td>mean</td>\n",
       "      <td>326.127564</td>\n",
       "      <td>19435.295718</td>\n",
       "      <td>3.501557</td>\n",
       "      <td>1.205946e+09</td>\n",
       "    </tr>\n",
       "    <tr>\n",
       "      <td>std</td>\n",
       "      <td>182.618491</td>\n",
       "      <td>35530.987199</td>\n",
       "      <td>1.042529</td>\n",
       "      <td>2.162610e+08</td>\n",
       "    </tr>\n",
       "    <tr>\n",
       "      <td>min</td>\n",
       "      <td>1.000000</td>\n",
       "      <td>1.000000</td>\n",
       "      <td>0.500000</td>\n",
       "      <td>8.281246e+08</td>\n",
       "    </tr>\n",
       "    <tr>\n",
       "      <td>25%</td>\n",
       "      <td>177.000000</td>\n",
       "      <td>1199.000000</td>\n",
       "      <td>3.000000</td>\n",
       "      <td>1.019124e+09</td>\n",
       "    </tr>\n",
       "    <tr>\n",
       "      <td>50%</td>\n",
       "      <td>325.000000</td>\n",
       "      <td>2991.000000</td>\n",
       "      <td>3.500000</td>\n",
       "      <td>1.186087e+09</td>\n",
       "    </tr>\n",
       "    <tr>\n",
       "      <td>75%</td>\n",
       "      <td>477.000000</td>\n",
       "      <td>8122.000000</td>\n",
       "      <td>4.000000</td>\n",
       "      <td>1.435994e+09</td>\n",
       "    </tr>\n",
       "    <tr>\n",
       "      <td>max</td>\n",
       "      <td>610.000000</td>\n",
       "      <td>193609.000000</td>\n",
       "      <td>5.000000</td>\n",
       "      <td>1.537799e+09</td>\n",
       "    </tr>\n",
       "  </tbody>\n",
       "</table>\n",
       "</div>"
      ],
      "text/plain": [
       "           UsuarioID        FilmeID          Notas       Momento\n",
       "count  100836.000000  100836.000000  100836.000000  1.008360e+05\n",
       "mean      326.127564   19435.295718       3.501557  1.205946e+09\n",
       "std       182.618491   35530.987199       1.042529  2.162610e+08\n",
       "min         1.000000       1.000000       0.500000  8.281246e+08\n",
       "25%       177.000000    1199.000000       3.000000  1.019124e+09\n",
       "50%       325.000000    2991.000000       3.500000  1.186087e+09\n",
       "75%       477.000000    8122.000000       4.000000  1.435994e+09\n",
       "max       610.000000  193609.000000       5.000000  1.537799e+09"
      ]
     },
     "execution_count": 8,
     "metadata": {},
     "output_type": "execute_result"
    }
   ],
   "source": [
    "notas.describe()"
   ]
  },
  {
   "cell_type": "code",
   "execution_count": 9,
   "metadata": {},
   "outputs": [
    {
     "data": {
      "text/plain": [
       "UsuarioID    3.065302e+02\n",
       "FilmeID      1.000000e+00\n",
       "Notas        3.920930e+00\n",
       "Momento      1.129835e+09\n",
       "dtype: float64"
      ]
     },
     "execution_count": 9,
     "metadata": {},
     "output_type": "execute_result"
    }
   ],
   "source": [
    "notas.query('FilmeID == 1').mean()"
   ]
  },
  {
   "cell_type": "code",
   "execution_count": 10,
   "metadata": {},
   "outputs": [
    {
     "data": {
      "text/plain": [
       "3.9209302325581397"
      ]
     },
     "execution_count": 10,
     "metadata": {},
     "output_type": "execute_result"
    }
   ],
   "source": [
    "notas.query('FilmeID == 1')['Notas'].mean()"
   ]
  },
  {
   "cell_type": "code",
   "execution_count": 11,
   "metadata": {},
   "outputs": [],
   "source": [
    "av1 = notas.query('FilmeID == 1')\n",
    "av2 = notas.query('FilmeID == 2')\n",
    "av3 = notas.query('FilmeID == 3')\n",
    "av4 = notas.query('FilmeID == 4')\n",
    "av5 = notas.query('FilmeID == 5')"
   ]
  },
  {
   "cell_type": "code",
   "execution_count": 43,
   "metadata": {
    "collapsed": true
   },
   "outputs": [
    {
     "data": {
      "text/html": [
       "<div>\n",
       "<style scoped>\n",
       "    .dataframe tbody tr th:only-of-type {\n",
       "        vertical-align: middle;\n",
       "    }\n",
       "\n",
       "    .dataframe tbody tr th {\n",
       "        vertical-align: top;\n",
       "    }\n",
       "\n",
       "    .dataframe thead th {\n",
       "        text-align: right;\n",
       "    }\n",
       "</style>\n",
       "<table border=\"1\" class=\"dataframe\">\n",
       "  <thead>\n",
       "    <tr style=\"text-align: right;\">\n",
       "      <th></th>\n",
       "      <th>UsuarioID</th>\n",
       "      <th>FilmeID</th>\n",
       "      <th>Notas</th>\n",
       "      <th>Momento</th>\n",
       "    </tr>\n",
       "  </thead>\n",
       "  <tbody>\n",
       "    <tr>\n",
       "      <td>563</td>\n",
       "      <td>6</td>\n",
       "      <td>5</td>\n",
       "      <td>5.0</td>\n",
       "      <td>845553938</td>\n",
       "    </tr>\n",
       "    <tr>\n",
       "      <td>4880</td>\n",
       "      <td>31</td>\n",
       "      <td>5</td>\n",
       "      <td>3.0</td>\n",
       "      <td>850466642</td>\n",
       "    </tr>\n",
       "    <tr>\n",
       "      <td>6317</td>\n",
       "      <td>43</td>\n",
       "      <td>5</td>\n",
       "      <td>5.0</td>\n",
       "      <td>848994281</td>\n",
       "    </tr>\n",
       "    <tr>\n",
       "      <td>6478</td>\n",
       "      <td>45</td>\n",
       "      <td>5</td>\n",
       "      <td>3.0</td>\n",
       "      <td>959625102</td>\n",
       "    </tr>\n",
       "    <tr>\n",
       "      <td>8512</td>\n",
       "      <td>58</td>\n",
       "      <td>5</td>\n",
       "      <td>4.0</td>\n",
       "      <td>847719151</td>\n",
       "    </tr>\n",
       "    <tr>\n",
       "      <td>9980</td>\n",
       "      <td>66</td>\n",
       "      <td>5</td>\n",
       "      <td>4.0</td>\n",
       "      <td>1113190367</td>\n",
       "    </tr>\n",
       "    <tr>\n",
       "      <td>10363</td>\n",
       "      <td>68</td>\n",
       "      <td>5</td>\n",
       "      <td>2.0</td>\n",
       "      <td>1158533624</td>\n",
       "    </tr>\n",
       "    <tr>\n",
       "      <td>13076</td>\n",
       "      <td>84</td>\n",
       "      <td>5</td>\n",
       "      <td>3.0</td>\n",
       "      <td>857653289</td>\n",
       "    </tr>\n",
       "    <tr>\n",
       "      <td>15567</td>\n",
       "      <td>103</td>\n",
       "      <td>5</td>\n",
       "      <td>4.0</td>\n",
       "      <td>1431957598</td>\n",
       "    </tr>\n",
       "    <tr>\n",
       "      <td>16972</td>\n",
       "      <td>107</td>\n",
       "      <td>5</td>\n",
       "      <td>4.0</td>\n",
       "      <td>829322340</td>\n",
       "    </tr>\n",
       "    <tr>\n",
       "      <td>17258</td>\n",
       "      <td>111</td>\n",
       "      <td>5</td>\n",
       "      <td>3.5</td>\n",
       "      <td>1517441319</td>\n",
       "    </tr>\n",
       "    <tr>\n",
       "      <td>18351</td>\n",
       "      <td>117</td>\n",
       "      <td>5</td>\n",
       "      <td>3.0</td>\n",
       "      <td>844163754</td>\n",
       "    </tr>\n",
       "    <tr>\n",
       "      <td>18751</td>\n",
       "      <td>120</td>\n",
       "      <td>5</td>\n",
       "      <td>4.0</td>\n",
       "      <td>860070029</td>\n",
       "    </tr>\n",
       "    <tr>\n",
       "      <td>18774</td>\n",
       "      <td>121</td>\n",
       "      <td>5</td>\n",
       "      <td>3.0</td>\n",
       "      <td>847656405</td>\n",
       "    </tr>\n",
       "    <tr>\n",
       "      <td>22151</td>\n",
       "      <td>147</td>\n",
       "      <td>5</td>\n",
       "      <td>4.5</td>\n",
       "      <td>1203267700</td>\n",
       "    </tr>\n",
       "    <tr>\n",
       "      <td>22278</td>\n",
       "      <td>150</td>\n",
       "      <td>5</td>\n",
       "      <td>3.0</td>\n",
       "      <td>854203124</td>\n",
       "    </tr>\n",
       "    <tr>\n",
       "      <td>24324</td>\n",
       "      <td>169</td>\n",
       "      <td>5</td>\n",
       "      <td>5.0</td>\n",
       "      <td>1078284788</td>\n",
       "    </tr>\n",
       "    <tr>\n",
       "      <td>24590</td>\n",
       "      <td>170</td>\n",
       "      <td>5</td>\n",
       "      <td>3.0</td>\n",
       "      <td>840473290</td>\n",
       "    </tr>\n",
       "    <tr>\n",
       "      <td>25974</td>\n",
       "      <td>181</td>\n",
       "      <td>5</td>\n",
       "      <td>3.0</td>\n",
       "      <td>845470124</td>\n",
       "    </tr>\n",
       "    <tr>\n",
       "      <td>28935</td>\n",
       "      <td>200</td>\n",
       "      <td>5</td>\n",
       "      <td>4.0</td>\n",
       "      <td>1229876436</td>\n",
       "    </tr>\n",
       "    <tr>\n",
       "      <td>33671</td>\n",
       "      <td>229</td>\n",
       "      <td>5</td>\n",
       "      <td>3.0</td>\n",
       "      <td>838143681</td>\n",
       "    </tr>\n",
       "    <tr>\n",
       "      <td>39033</td>\n",
       "      <td>269</td>\n",
       "      <td>5</td>\n",
       "      <td>3.0</td>\n",
       "      <td>850865480</td>\n",
       "    </tr>\n",
       "    <tr>\n",
       "      <td>39062</td>\n",
       "      <td>270</td>\n",
       "      <td>5</td>\n",
       "      <td>3.0</td>\n",
       "      <td>853918793</td>\n",
       "    </tr>\n",
       "    <tr>\n",
       "      <td>40980</td>\n",
       "      <td>276</td>\n",
       "      <td>5</td>\n",
       "      <td>3.0</td>\n",
       "      <td>858350427</td>\n",
       "    </tr>\n",
       "    <tr>\n",
       "      <td>42117</td>\n",
       "      <td>288</td>\n",
       "      <td>5</td>\n",
       "      <td>2.0</td>\n",
       "      <td>978622571</td>\n",
       "    </tr>\n",
       "    <tr>\n",
       "      <td>49920</td>\n",
       "      <td>321</td>\n",
       "      <td>5</td>\n",
       "      <td>3.0</td>\n",
       "      <td>843212719</td>\n",
       "    </tr>\n",
       "    <tr>\n",
       "      <td>51895</td>\n",
       "      <td>337</td>\n",
       "      <td>5</td>\n",
       "      <td>4.0</td>\n",
       "      <td>860255784</td>\n",
       "    </tr>\n",
       "    <tr>\n",
       "      <td>53494</td>\n",
       "      <td>353</td>\n",
       "      <td>5</td>\n",
       "      <td>3.0</td>\n",
       "      <td>831939914</td>\n",
       "    </tr>\n",
       "    <tr>\n",
       "      <td>60291</td>\n",
       "      <td>389</td>\n",
       "      <td>5</td>\n",
       "      <td>4.0</td>\n",
       "      <td>857934242</td>\n",
       "    </tr>\n",
       "    <tr>\n",
       "      <td>61271</td>\n",
       "      <td>402</td>\n",
       "      <td>5</td>\n",
       "      <td>3.0</td>\n",
       "      <td>849598135</td>\n",
       "    </tr>\n",
       "    <tr>\n",
       "      <td>62297</td>\n",
       "      <td>414</td>\n",
       "      <td>5</td>\n",
       "      <td>2.0</td>\n",
       "      <td>961437647</td>\n",
       "    </tr>\n",
       "    <tr>\n",
       "      <td>67461</td>\n",
       "      <td>437</td>\n",
       "      <td>5</td>\n",
       "      <td>2.0</td>\n",
       "      <td>859721015</td>\n",
       "    </tr>\n",
       "    <tr>\n",
       "      <td>68658</td>\n",
       "      <td>448</td>\n",
       "      <td>5</td>\n",
       "      <td>3.0</td>\n",
       "      <td>1019128415</td>\n",
       "    </tr>\n",
       "    <tr>\n",
       "      <td>70609</td>\n",
       "      <td>451</td>\n",
       "      <td>5</td>\n",
       "      <td>3.0</td>\n",
       "      <td>854089243</td>\n",
       "    </tr>\n",
       "    <tr>\n",
       "      <td>71259</td>\n",
       "      <td>456</td>\n",
       "      <td>5</td>\n",
       "      <td>3.0</td>\n",
       "      <td>856883349</td>\n",
       "    </tr>\n",
       "    <tr>\n",
       "      <td>71351</td>\n",
       "      <td>458</td>\n",
       "      <td>5</td>\n",
       "      <td>3.0</td>\n",
       "      <td>845652992</td>\n",
       "    </tr>\n",
       "    <tr>\n",
       "      <td>72921</td>\n",
       "      <td>470</td>\n",
       "      <td>5</td>\n",
       "      <td>3.0</td>\n",
       "      <td>849370453</td>\n",
       "    </tr>\n",
       "    <tr>\n",
       "      <td>73094</td>\n",
       "      <td>474</td>\n",
       "      <td>5</td>\n",
       "      <td>1.5</td>\n",
       "      <td>1053021982</td>\n",
       "    </tr>\n",
       "    <tr>\n",
       "      <td>77224</td>\n",
       "      <td>483</td>\n",
       "      <td>5</td>\n",
       "      <td>2.5</td>\n",
       "      <td>1327277284</td>\n",
       "    </tr>\n",
       "    <tr>\n",
       "      <td>78472</td>\n",
       "      <td>489</td>\n",
       "      <td>5</td>\n",
       "      <td>2.0</td>\n",
       "      <td>1385823772</td>\n",
       "    </tr>\n",
       "    <tr>\n",
       "      <td>79120</td>\n",
       "      <td>490</td>\n",
       "      <td>5</td>\n",
       "      <td>0.5</td>\n",
       "      <td>1324370305</td>\n",
       "    </tr>\n",
       "    <tr>\n",
       "      <td>79298</td>\n",
       "      <td>492</td>\n",
       "      <td>5</td>\n",
       "      <td>3.0</td>\n",
       "      <td>863976004</td>\n",
       "    </tr>\n",
       "    <tr>\n",
       "      <td>79995</td>\n",
       "      <td>501</td>\n",
       "      <td>5</td>\n",
       "      <td>3.0</td>\n",
       "      <td>844973535</td>\n",
       "    </tr>\n",
       "    <tr>\n",
       "      <td>80374</td>\n",
       "      <td>509</td>\n",
       "      <td>5</td>\n",
       "      <td>1.5</td>\n",
       "      <td>1435992893</td>\n",
       "    </tr>\n",
       "    <tr>\n",
       "      <td>82167</td>\n",
       "      <td>521</td>\n",
       "      <td>5</td>\n",
       "      <td>3.0</td>\n",
       "      <td>852713143</td>\n",
       "    </tr>\n",
       "    <tr>\n",
       "      <td>86584</td>\n",
       "      <td>561</td>\n",
       "      <td>5</td>\n",
       "      <td>3.0</td>\n",
       "      <td>1491094488</td>\n",
       "    </tr>\n",
       "    <tr>\n",
       "      <td>90520</td>\n",
       "      <td>590</td>\n",
       "      <td>5</td>\n",
       "      <td>2.0</td>\n",
       "      <td>1258421220</td>\n",
       "    </tr>\n",
       "    <tr>\n",
       "      <td>95104</td>\n",
       "      <td>600</td>\n",
       "      <td>5</td>\n",
       "      <td>2.5</td>\n",
       "      <td>1237759452</td>\n",
       "    </tr>\n",
       "    <tr>\n",
       "      <td>97045</td>\n",
       "      <td>604</td>\n",
       "      <td>5</td>\n",
       "      <td>3.0</td>\n",
       "      <td>832080355</td>\n",
       "    </tr>\n",
       "  </tbody>\n",
       "</table>\n",
       "</div>"
      ],
      "text/plain": [
       "       UsuarioID  FilmeID  Notas     Momento\n",
       "563            6        5    5.0   845553938\n",
       "4880          31        5    3.0   850466642\n",
       "6317          43        5    5.0   848994281\n",
       "6478          45        5    3.0   959625102\n",
       "8512          58        5    4.0   847719151\n",
       "9980          66        5    4.0  1113190367\n",
       "10363         68        5    2.0  1158533624\n",
       "13076         84        5    3.0   857653289\n",
       "15567        103        5    4.0  1431957598\n",
       "16972        107        5    4.0   829322340\n",
       "17258        111        5    3.5  1517441319\n",
       "18351        117        5    3.0   844163754\n",
       "18751        120        5    4.0   860070029\n",
       "18774        121        5    3.0   847656405\n",
       "22151        147        5    4.5  1203267700\n",
       "22278        150        5    3.0   854203124\n",
       "24324        169        5    5.0  1078284788\n",
       "24590        170        5    3.0   840473290\n",
       "25974        181        5    3.0   845470124\n",
       "28935        200        5    4.0  1229876436\n",
       "33671        229        5    3.0   838143681\n",
       "39033        269        5    3.0   850865480\n",
       "39062        270        5    3.0   853918793\n",
       "40980        276        5    3.0   858350427\n",
       "42117        288        5    2.0   978622571\n",
       "49920        321        5    3.0   843212719\n",
       "51895        337        5    4.0   860255784\n",
       "53494        353        5    3.0   831939914\n",
       "60291        389        5    4.0   857934242\n",
       "61271        402        5    3.0   849598135\n",
       "62297        414        5    2.0   961437647\n",
       "67461        437        5    2.0   859721015\n",
       "68658        448        5    3.0  1019128415\n",
       "70609        451        5    3.0   854089243\n",
       "71259        456        5    3.0   856883349\n",
       "71351        458        5    3.0   845652992\n",
       "72921        470        5    3.0   849370453\n",
       "73094        474        5    1.5  1053021982\n",
       "77224        483        5    2.5  1327277284\n",
       "78472        489        5    2.0  1385823772\n",
       "79120        490        5    0.5  1324370305\n",
       "79298        492        5    3.0   863976004\n",
       "79995        501        5    3.0   844973535\n",
       "80374        509        5    1.5  1435992893\n",
       "82167        521        5    3.0   852713143\n",
       "86584        561        5    3.0  1491094488\n",
       "90520        590        5    2.0  1258421220\n",
       "95104        600        5    2.5  1237759452\n",
       "97045        604        5    3.0   832080355"
      ]
     },
     "execution_count": 43,
     "metadata": {},
     "output_type": "execute_result"
    }
   ],
   "source": [
    "av1\n",
    "av2\n",
    "av3\n",
    "av4\n",
    "av5"
   ]
  },
  {
   "cell_type": "code",
   "execution_count": 12,
   "metadata": {},
   "outputs": [
    {
     "data": {
      "text/html": [
       "<div>\n",
       "<style scoped>\n",
       "    .dataframe tbody tr th:only-of-type {\n",
       "        vertical-align: middle;\n",
       "    }\n",
       "\n",
       "    .dataframe tbody tr th {\n",
       "        vertical-align: top;\n",
       "    }\n",
       "\n",
       "    .dataframe thead th {\n",
       "        text-align: right;\n",
       "    }\n",
       "</style>\n",
       "<table border=\"1\" class=\"dataframe\">\n",
       "  <thead>\n",
       "    <tr style=\"text-align: right;\">\n",
       "      <th></th>\n",
       "      <th>UsuarioID</th>\n",
       "      <th>FilmeID</th>\n",
       "      <th>Notas</th>\n",
       "      <th>Momento</th>\n",
       "    </tr>\n",
       "  </thead>\n",
       "  <tbody>\n",
       "    <tr>\n",
       "      <td>0</td>\n",
       "      <td>1</td>\n",
       "      <td>1</td>\n",
       "      <td>4.0</td>\n",
       "      <td>964982703</td>\n",
       "    </tr>\n",
       "    <tr>\n",
       "      <td>516</td>\n",
       "      <td>5</td>\n",
       "      <td>1</td>\n",
       "      <td>4.0</td>\n",
       "      <td>847434962</td>\n",
       "    </tr>\n",
       "    <tr>\n",
       "      <td>874</td>\n",
       "      <td>7</td>\n",
       "      <td>1</td>\n",
       "      <td>4.5</td>\n",
       "      <td>1106635946</td>\n",
       "    </tr>\n",
       "    <tr>\n",
       "      <td>1434</td>\n",
       "      <td>15</td>\n",
       "      <td>1</td>\n",
       "      <td>2.5</td>\n",
       "      <td>1510577970</td>\n",
       "    </tr>\n",
       "    <tr>\n",
       "      <td>1667</td>\n",
       "      <td>17</td>\n",
       "      <td>1</td>\n",
       "      <td>4.5</td>\n",
       "      <td>1305696483</td>\n",
       "    </tr>\n",
       "  </tbody>\n",
       "</table>\n",
       "</div>"
      ],
      "text/plain": [
       "      UsuarioID  FilmeID  Notas     Momento\n",
       "0             1        1    4.0   964982703\n",
       "516           5        1    4.0   847434962\n",
       "874           7        1    4.5  1106635946\n",
       "1434         15        1    2.5  1510577970\n",
       "1667         17        1    4.5  1305696483"
      ]
     },
     "execution_count": 12,
     "metadata": {},
     "output_type": "execute_result"
    }
   ],
   "source": [
    "av1.head()"
   ]
  },
  {
   "cell_type": "code",
   "execution_count": 13,
   "metadata": {},
   "outputs": [
    {
     "data": {
      "text/html": [
       "<div>\n",
       "<style scoped>\n",
       "    .dataframe tbody tr th:only-of-type {\n",
       "        vertical-align: middle;\n",
       "    }\n",
       "\n",
       "    .dataframe tbody tr th {\n",
       "        vertical-align: top;\n",
       "    }\n",
       "\n",
       "    .dataframe thead th {\n",
       "        text-align: right;\n",
       "    }\n",
       "</style>\n",
       "<table border=\"1\" class=\"dataframe\">\n",
       "  <thead>\n",
       "    <tr style=\"text-align: right;\">\n",
       "      <th></th>\n",
       "      <th>UsuarioID</th>\n",
       "      <th>FilmeID</th>\n",
       "      <th>Notas</th>\n",
       "      <th>Momento</th>\n",
       "    </tr>\n",
       "  </thead>\n",
       "  <tbody>\n",
       "    <tr>\n",
       "      <td>560</td>\n",
       "      <td>6</td>\n",
       "      <td>2</td>\n",
       "      <td>4.0</td>\n",
       "      <td>845553522</td>\n",
       "    </tr>\n",
       "    <tr>\n",
       "      <td>1026</td>\n",
       "      <td>8</td>\n",
       "      <td>2</td>\n",
       "      <td>4.0</td>\n",
       "      <td>839463806</td>\n",
       "    </tr>\n",
       "    <tr>\n",
       "      <td>1773</td>\n",
       "      <td>18</td>\n",
       "      <td>2</td>\n",
       "      <td>3.0</td>\n",
       "      <td>1455617462</td>\n",
       "    </tr>\n",
       "    <tr>\n",
       "      <td>2275</td>\n",
       "      <td>19</td>\n",
       "      <td>2</td>\n",
       "      <td>3.0</td>\n",
       "      <td>965704331</td>\n",
       "    </tr>\n",
       "    <tr>\n",
       "      <td>2977</td>\n",
       "      <td>20</td>\n",
       "      <td>2</td>\n",
       "      <td>3.0</td>\n",
       "      <td>1054038313</td>\n",
       "    </tr>\n",
       "  </tbody>\n",
       "</table>\n",
       "</div>"
      ],
      "text/plain": [
       "      UsuarioID  FilmeID  Notas     Momento\n",
       "560           6        2    4.0   845553522\n",
       "1026          8        2    4.0   839463806\n",
       "1773         18        2    3.0  1455617462\n",
       "2275         19        2    3.0   965704331\n",
       "2977         20        2    3.0  1054038313"
      ]
     },
     "execution_count": 13,
     "metadata": {},
     "output_type": "execute_result"
    }
   ],
   "source": [
    "av2.head()"
   ]
  },
  {
   "cell_type": "code",
   "execution_count": 14,
   "metadata": {},
   "outputs": [
    {
     "data": {
      "text/html": [
       "<div>\n",
       "<style scoped>\n",
       "    .dataframe tbody tr th:only-of-type {\n",
       "        vertical-align: middle;\n",
       "    }\n",
       "\n",
       "    .dataframe tbody tr th {\n",
       "        vertical-align: top;\n",
       "    }\n",
       "\n",
       "    .dataframe thead th {\n",
       "        text-align: right;\n",
       "    }\n",
       "</style>\n",
       "<table border=\"1\" class=\"dataframe\">\n",
       "  <thead>\n",
       "    <tr style=\"text-align: right;\">\n",
       "      <th></th>\n",
       "      <th>UsuarioID</th>\n",
       "      <th>FilmeID</th>\n",
       "      <th>Notas</th>\n",
       "      <th>Momento</th>\n",
       "    </tr>\n",
       "  </thead>\n",
       "  <tbody>\n",
       "    <tr>\n",
       "      <td>1</td>\n",
       "      <td>1</td>\n",
       "      <td>3</td>\n",
       "      <td>4.0</td>\n",
       "      <td>964981247</td>\n",
       "    </tr>\n",
       "    <tr>\n",
       "      <td>561</td>\n",
       "      <td>6</td>\n",
       "      <td>3</td>\n",
       "      <td>5.0</td>\n",
       "      <td>845554296</td>\n",
       "    </tr>\n",
       "    <tr>\n",
       "      <td>2276</td>\n",
       "      <td>19</td>\n",
       "      <td>3</td>\n",
       "      <td>3.0</td>\n",
       "      <td>965707636</td>\n",
       "    </tr>\n",
       "    <tr>\n",
       "      <td>4930</td>\n",
       "      <td>32</td>\n",
       "      <td>3</td>\n",
       "      <td>3.0</td>\n",
       "      <td>856736172</td>\n",
       "    </tr>\n",
       "    <tr>\n",
       "      <td>5875</td>\n",
       "      <td>42</td>\n",
       "      <td>3</td>\n",
       "      <td>4.0</td>\n",
       "      <td>996221045</td>\n",
       "    </tr>\n",
       "  </tbody>\n",
       "</table>\n",
       "</div>"
      ],
      "text/plain": [
       "      UsuarioID  FilmeID  Notas    Momento\n",
       "1             1        3    4.0  964981247\n",
       "561           6        3    5.0  845554296\n",
       "2276         19        3    3.0  965707636\n",
       "4930         32        3    3.0  856736172\n",
       "5875         42        3    4.0  996221045"
      ]
     },
     "execution_count": 14,
     "metadata": {},
     "output_type": "execute_result"
    }
   ],
   "source": [
    "av3.head()"
   ]
  },
  {
   "cell_type": "code",
   "execution_count": 15,
   "metadata": {},
   "outputs": [
    {
     "data": {
      "text/html": [
       "<div>\n",
       "<style scoped>\n",
       "    .dataframe tbody tr th:only-of-type {\n",
       "        vertical-align: middle;\n",
       "    }\n",
       "\n",
       "    .dataframe tbody tr th {\n",
       "        vertical-align: top;\n",
       "    }\n",
       "\n",
       "    .dataframe thead th {\n",
       "        text-align: right;\n",
       "    }\n",
       "</style>\n",
       "<table border=\"1\" class=\"dataframe\">\n",
       "  <thead>\n",
       "    <tr style=\"text-align: right;\">\n",
       "      <th></th>\n",
       "      <th>UsuarioID</th>\n",
       "      <th>FilmeID</th>\n",
       "      <th>Notas</th>\n",
       "      <th>Momento</th>\n",
       "    </tr>\n",
       "  </thead>\n",
       "  <tbody>\n",
       "    <tr>\n",
       "      <td>562</td>\n",
       "      <td>6</td>\n",
       "      <td>4</td>\n",
       "      <td>3.0</td>\n",
       "      <td>845554349</td>\n",
       "    </tr>\n",
       "    <tr>\n",
       "      <td>1386</td>\n",
       "      <td>14</td>\n",
       "      <td>4</td>\n",
       "      <td>3.0</td>\n",
       "      <td>835441653</td>\n",
       "    </tr>\n",
       "    <tr>\n",
       "      <td>13075</td>\n",
       "      <td>84</td>\n",
       "      <td>4</td>\n",
       "      <td>3.0</td>\n",
       "      <td>858772461</td>\n",
       "    </tr>\n",
       "    <tr>\n",
       "      <td>23702</td>\n",
       "      <td>162</td>\n",
       "      <td>4</td>\n",
       "      <td>3.0</td>\n",
       "      <td>836684306</td>\n",
       "    </tr>\n",
       "    <tr>\n",
       "      <td>38179</td>\n",
       "      <td>262</td>\n",
       "      <td>4</td>\n",
       "      <td>1.0</td>\n",
       "      <td>840306203</td>\n",
       "    </tr>\n",
       "  </tbody>\n",
       "</table>\n",
       "</div>"
      ],
      "text/plain": [
       "       UsuarioID  FilmeID  Notas    Momento\n",
       "562            6        4    3.0  845554349\n",
       "1386          14        4    3.0  835441653\n",
       "13075         84        4    3.0  858772461\n",
       "23702        162        4    3.0  836684306\n",
       "38179        262        4    1.0  840306203"
      ]
     },
     "execution_count": 15,
     "metadata": {},
     "output_type": "execute_result"
    }
   ],
   "source": [
    "av4.head()"
   ]
  },
  {
   "cell_type": "code",
   "execution_count": 16,
   "metadata": {},
   "outputs": [
    {
     "data": {
      "text/html": [
       "<div>\n",
       "<style scoped>\n",
       "    .dataframe tbody tr th:only-of-type {\n",
       "        vertical-align: middle;\n",
       "    }\n",
       "\n",
       "    .dataframe tbody tr th {\n",
       "        vertical-align: top;\n",
       "    }\n",
       "\n",
       "    .dataframe thead th {\n",
       "        text-align: right;\n",
       "    }\n",
       "</style>\n",
       "<table border=\"1\" class=\"dataframe\">\n",
       "  <thead>\n",
       "    <tr style=\"text-align: right;\">\n",
       "      <th></th>\n",
       "      <th>UsuarioID</th>\n",
       "      <th>FilmeID</th>\n",
       "      <th>Notas</th>\n",
       "      <th>Momento</th>\n",
       "    </tr>\n",
       "  </thead>\n",
       "  <tbody>\n",
       "    <tr>\n",
       "      <td>563</td>\n",
       "      <td>6</td>\n",
       "      <td>5</td>\n",
       "      <td>5.0</td>\n",
       "      <td>845553938</td>\n",
       "    </tr>\n",
       "    <tr>\n",
       "      <td>4880</td>\n",
       "      <td>31</td>\n",
       "      <td>5</td>\n",
       "      <td>3.0</td>\n",
       "      <td>850466642</td>\n",
       "    </tr>\n",
       "    <tr>\n",
       "      <td>6317</td>\n",
       "      <td>43</td>\n",
       "      <td>5</td>\n",
       "      <td>5.0</td>\n",
       "      <td>848994281</td>\n",
       "    </tr>\n",
       "    <tr>\n",
       "      <td>6478</td>\n",
       "      <td>45</td>\n",
       "      <td>5</td>\n",
       "      <td>3.0</td>\n",
       "      <td>959625102</td>\n",
       "    </tr>\n",
       "    <tr>\n",
       "      <td>8512</td>\n",
       "      <td>58</td>\n",
       "      <td>5</td>\n",
       "      <td>4.0</td>\n",
       "      <td>847719151</td>\n",
       "    </tr>\n",
       "  </tbody>\n",
       "</table>\n",
       "</div>"
      ],
      "text/plain": [
       "      UsuarioID  FilmeID  Notas    Momento\n",
       "563           6        5    5.0  845553938\n",
       "4880         31        5    3.0  850466642\n",
       "6317         43        5    5.0  848994281\n",
       "6478         45        5    3.0  959625102\n",
       "8512         58        5    4.0  847719151"
      ]
     },
     "execution_count": 16,
     "metadata": {},
     "output_type": "execute_result"
    }
   ],
   "source": [
    "av5.head()"
   ]
  },
  {
   "cell_type": "markdown",
   "metadata": {},
   "source": [
    "## Notas Visualizadas com sucesso. Vamos prosseguir:"
   ]
  },
  {
   "cell_type": "code",
   "execution_count": 17,
   "metadata": {
    "scrolled": true
   },
   "outputs": [
    {
     "data": {
      "text/plain": [
       "<pandas.core.groupby.generic.DataFrameGroupBy object at 0x00000000095F8A88>"
      ]
     },
     "execution_count": 17,
     "metadata": {},
     "output_type": "execute_result"
    }
   ],
   "source": [
    "notas.groupby(\"FilmeID\")"
   ]
  },
  {
   "cell_type": "code",
   "execution_count": 18,
   "metadata": {},
   "outputs": [
    {
     "data": {
      "text/html": [
       "<div>\n",
       "<style scoped>\n",
       "    .dataframe tbody tr th:only-of-type {\n",
       "        vertical-align: middle;\n",
       "    }\n",
       "\n",
       "    .dataframe tbody tr th {\n",
       "        vertical-align: top;\n",
       "    }\n",
       "\n",
       "    .dataframe thead th {\n",
       "        text-align: right;\n",
       "    }\n",
       "</style>\n",
       "<table border=\"1\" class=\"dataframe\">\n",
       "  <thead>\n",
       "    <tr style=\"text-align: right;\">\n",
       "      <th></th>\n",
       "      <th>UsuarioID</th>\n",
       "      <th>Notas</th>\n",
       "      <th>Momento</th>\n",
       "    </tr>\n",
       "    <tr>\n",
       "      <th>FilmeID</th>\n",
       "      <th></th>\n",
       "      <th></th>\n",
       "      <th></th>\n",
       "    </tr>\n",
       "  </thead>\n",
       "  <tbody>\n",
       "    <tr>\n",
       "      <td>1</td>\n",
       "      <td>306.530233</td>\n",
       "      <td>3.920930</td>\n",
       "      <td>1.129835e+09</td>\n",
       "    </tr>\n",
       "    <tr>\n",
       "      <td>2</td>\n",
       "      <td>329.554545</td>\n",
       "      <td>3.431818</td>\n",
       "      <td>1.135805e+09</td>\n",
       "    </tr>\n",
       "    <tr>\n",
       "      <td>3</td>\n",
       "      <td>283.596154</td>\n",
       "      <td>3.259615</td>\n",
       "      <td>1.005110e+09</td>\n",
       "    </tr>\n",
       "    <tr>\n",
       "      <td>4</td>\n",
       "      <td>219.857143</td>\n",
       "      <td>2.357143</td>\n",
       "      <td>8.985789e+08</td>\n",
       "    </tr>\n",
       "    <tr>\n",
       "      <td>5</td>\n",
       "      <td>299.571429</td>\n",
       "      <td>3.071429</td>\n",
       "      <td>9.926643e+08</td>\n",
       "    </tr>\n",
       "  </tbody>\n",
       "</table>\n",
       "</div>"
      ],
      "text/plain": [
       "          UsuarioID     Notas       Momento\n",
       "FilmeID                                    \n",
       "1        306.530233  3.920930  1.129835e+09\n",
       "2        329.554545  3.431818  1.135805e+09\n",
       "3        283.596154  3.259615  1.005110e+09\n",
       "4        219.857143  2.357143  8.985789e+08\n",
       "5        299.571429  3.071429  9.926643e+08"
      ]
     },
     "execution_count": 18,
     "metadata": {},
     "output_type": "execute_result"
    }
   ],
   "source": [
    "notas.groupby(\"FilmeID\").mean().head()"
   ]
  },
  {
   "cell_type": "code",
   "execution_count": 19,
   "metadata": {},
   "outputs": [
    {
     "data": {
      "text/plain": [
       "FilmeID\n",
       "1    3.920930\n",
       "2    3.431818\n",
       "3    3.259615\n",
       "4    2.357143\n",
       "5    3.071429\n",
       "Name: Notas, dtype: float64"
      ]
     },
     "execution_count": 19,
     "metadata": {},
     "output_type": "execute_result"
    }
   ],
   "source": [
    "nota_geral_filmes = notas.groupby(\"FilmeID\")[\"Notas\"].mean()\n",
    "nota_geral_filmes.head()"
   ]
  },
  {
   "cell_type": "code",
   "execution_count": 20,
   "metadata": {},
   "outputs": [
    {
     "data": {
      "text/plain": [
       "3.9209302325581397"
      ]
     },
     "execution_count": 20,
     "metadata": {},
     "output_type": "execute_result"
    }
   ],
   "source": [
    "av1['Notas'].mean()"
   ]
  },
  {
   "cell_type": "code",
   "execution_count": 21,
   "metadata": {},
   "outputs": [
    {
     "data": {
      "text/plain": [
       "3.4318181818181817"
      ]
     },
     "execution_count": 21,
     "metadata": {},
     "output_type": "execute_result"
    }
   ],
   "source": [
    "av2['Notas'].mean()"
   ]
  },
  {
   "cell_type": "code",
   "execution_count": 22,
   "metadata": {},
   "outputs": [
    {
     "data": {
      "text/plain": [
       "3.2596153846153846"
      ]
     },
     "execution_count": 22,
     "metadata": {},
     "output_type": "execute_result"
    }
   ],
   "source": [
    "av3['Notas'].mean()"
   ]
  },
  {
   "cell_type": "code",
   "execution_count": 23,
   "metadata": {},
   "outputs": [
    {
     "data": {
      "text/plain": [
       "2.357142857142857"
      ]
     },
     "execution_count": 23,
     "metadata": {},
     "output_type": "execute_result"
    }
   ],
   "source": [
    "av4['Notas'].mean()"
   ]
  },
  {
   "cell_type": "code",
   "execution_count": 24,
   "metadata": {
    "scrolled": true
   },
   "outputs": [
    {
     "data": {
      "text/plain": [
       "3.0714285714285716"
      ]
     },
     "execution_count": 24,
     "metadata": {},
     "output_type": "execute_result"
    }
   ],
   "source": [
    "av5['Notas'].mean()"
   ]
  },
  {
   "cell_type": "code",
   "execution_count": 25,
   "metadata": {},
   "outputs": [
    {
     "data": {
      "text/html": [
       "<div>\n",
       "<style scoped>\n",
       "    .dataframe tbody tr th:only-of-type {\n",
       "        vertical-align: middle;\n",
       "    }\n",
       "\n",
       "    .dataframe tbody tr th {\n",
       "        vertical-align: top;\n",
       "    }\n",
       "\n",
       "    .dataframe thead th {\n",
       "        text-align: right;\n",
       "    }\n",
       "</style>\n",
       "<table border=\"1\" class=\"dataframe\">\n",
       "  <thead>\n",
       "    <tr style=\"text-align: right;\">\n",
       "      <th></th>\n",
       "      <th>movieId</th>\n",
       "      <th>title</th>\n",
       "      <th>genres</th>\n",
       "    </tr>\n",
       "  </thead>\n",
       "  <tbody>\n",
       "    <tr>\n",
       "      <td>0</td>\n",
       "      <td>1</td>\n",
       "      <td>Toy Story (1995)</td>\n",
       "      <td>Adventure|Animation|Children|Comedy|Fantasy</td>\n",
       "    </tr>\n",
       "    <tr>\n",
       "      <td>1</td>\n",
       "      <td>2</td>\n",
       "      <td>Jumanji (1995)</td>\n",
       "      <td>Adventure|Children|Fantasy</td>\n",
       "    </tr>\n",
       "    <tr>\n",
       "      <td>2</td>\n",
       "      <td>3</td>\n",
       "      <td>Grumpier Old Men (1995)</td>\n",
       "      <td>Comedy|Romance</td>\n",
       "    </tr>\n",
       "    <tr>\n",
       "      <td>3</td>\n",
       "      <td>4</td>\n",
       "      <td>Waiting to Exhale (1995)</td>\n",
       "      <td>Comedy|Drama|Romance</td>\n",
       "    </tr>\n",
       "    <tr>\n",
       "      <td>4</td>\n",
       "      <td>5</td>\n",
       "      <td>Father of the Bride Part II (1995)</td>\n",
       "      <td>Comedy</td>\n",
       "    </tr>\n",
       "  </tbody>\n",
       "</table>\n",
       "</div>"
      ],
      "text/plain": [
       "   movieId                               title  \\\n",
       "0        1                    Toy Story (1995)   \n",
       "1        2                      Jumanji (1995)   \n",
       "2        3             Grumpier Old Men (1995)   \n",
       "3        4            Waiting to Exhale (1995)   \n",
       "4        5  Father of the Bride Part II (1995)   \n",
       "\n",
       "                                        genres  \n",
       "0  Adventure|Animation|Children|Comedy|Fantasy  \n",
       "1                   Adventure|Children|Fantasy  \n",
       "2                               Comedy|Romance  \n",
       "3                         Comedy|Drama|Romance  \n",
       "4                                       Comedy  "
      ]
     },
     "execution_count": 25,
     "metadata": {},
     "output_type": "execute_result"
    }
   ],
   "source": [
    "filmes = films\n",
    "filmes.head()"
   ]
  },
  {
   "cell_type": "code",
   "execution_count": 26,
   "metadata": {},
   "outputs": [
    {
     "data": {
      "text/plain": [
       "FilmeID\n",
       "1         3.920930\n",
       "2         3.431818\n",
       "3         3.259615\n",
       "4         2.357143\n",
       "5         3.071429\n",
       "            ...   \n",
       "193581    4.000000\n",
       "193583    3.500000\n",
       "193585    3.500000\n",
       "193587    3.500000\n",
       "193609    4.000000\n",
       "Name: Notas, Length: 9724, dtype: float64"
      ]
     },
     "execution_count": 26,
     "metadata": {},
     "output_type": "execute_result"
    }
   ],
   "source": [
    "nota_media_porFilmes = nota_geral_filmes\n",
    "nota_media_porFilmes"
   ]
  },
  {
   "cell_type": "code",
   "execution_count": 69,
   "metadata": {},
   "outputs": [],
   "source": [
    "#Não execute esse comando!!!\n",
    "#filmes['nota_media'] = nota_media_porFilmes\n",
    "#filmes.head()"
   ]
  },
  {
   "cell_type": "code",
   "execution_count": 29,
   "metadata": {},
   "outputs": [
    {
     "data": {
      "text/html": [
       "<div>\n",
       "<style scoped>\n",
       "    .dataframe tbody tr th:only-of-type {\n",
       "        vertical-align: middle;\n",
       "    }\n",
       "\n",
       "    .dataframe tbody tr th {\n",
       "        vertical-align: top;\n",
       "    }\n",
       "\n",
       "    .dataframe thead th {\n",
       "        text-align: right;\n",
       "    }\n",
       "</style>\n",
       "<table border=\"1\" class=\"dataframe\">\n",
       "  <thead>\n",
       "    <tr style=\"text-align: right;\">\n",
       "      <th></th>\n",
       "      <th>filmeID</th>\n",
       "      <th>Título</th>\n",
       "      <th>generos</th>\n",
       "      <th>Notas</th>\n",
       "    </tr>\n",
       "  </thead>\n",
       "  <tbody>\n",
       "    <tr>\n",
       "      <td>0</td>\n",
       "      <td>1</td>\n",
       "      <td>Toy Story (1995)</td>\n",
       "      <td>Adventure|Animation|Children|Comedy|Fantasy</td>\n",
       "      <td>3.920930</td>\n",
       "    </tr>\n",
       "    <tr>\n",
       "      <td>1</td>\n",
       "      <td>2</td>\n",
       "      <td>Jumanji (1995)</td>\n",
       "      <td>Adventure|Children|Fantasy</td>\n",
       "      <td>3.431818</td>\n",
       "    </tr>\n",
       "    <tr>\n",
       "      <td>2</td>\n",
       "      <td>3</td>\n",
       "      <td>Grumpier Old Men (1995)</td>\n",
       "      <td>Comedy|Romance</td>\n",
       "      <td>3.259615</td>\n",
       "    </tr>\n",
       "    <tr>\n",
       "      <td>3</td>\n",
       "      <td>4</td>\n",
       "      <td>Waiting to Exhale (1995)</td>\n",
       "      <td>Comedy|Drama|Romance</td>\n",
       "      <td>2.357143</td>\n",
       "    </tr>\n",
       "    <tr>\n",
       "      <td>4</td>\n",
       "      <td>5</td>\n",
       "      <td>Father of the Bride Part II (1995)</td>\n",
       "      <td>Comedy</td>\n",
       "      <td>3.071429</td>\n",
       "    </tr>\n",
       "  </tbody>\n",
       "</table>\n",
       "</div>"
      ],
      "text/plain": [
       "   filmeID                              Título  \\\n",
       "0        1                    Toy Story (1995)   \n",
       "1        2                      Jumanji (1995)   \n",
       "2        3             Grumpier Old Men (1995)   \n",
       "3        4            Waiting to Exhale (1995)   \n",
       "4        5  Father of the Bride Part II (1995)   \n",
       "\n",
       "                                       generos     Notas  \n",
       "0  Adventure|Animation|Children|Comedy|Fantasy  3.920930  \n",
       "1                   Adventure|Children|Fantasy  3.431818  \n",
       "2                               Comedy|Romance  3.259615  \n",
       "3                         Comedy|Drama|Romance  2.357143  \n",
       "4                                       Comedy  3.071429  "
      ]
     },
     "execution_count": 29,
     "metadata": {},
     "output_type": "execute_result"
    }
   ],
   "source": [
    "filmes_com_media = filmes.join(nota_media_porFilmes, on=\"filmeID\")\n",
    "filmes_com_media.head()"
   ]
  },
  {
   "cell_type": "code",
   "execution_count": 30,
   "metadata": {
    "scrolled": true
   },
   "outputs": [
    {
     "data": {
      "text/html": [
       "<div>\n",
       "<style scoped>\n",
       "    .dataframe tbody tr th:only-of-type {\n",
       "        vertical-align: middle;\n",
       "    }\n",
       "\n",
       "    .dataframe tbody tr th {\n",
       "        vertical-align: top;\n",
       "    }\n",
       "\n",
       "    .dataframe thead th {\n",
       "        text-align: right;\n",
       "    }\n",
       "</style>\n",
       "<table border=\"1\" class=\"dataframe\">\n",
       "  <thead>\n",
       "    <tr style=\"text-align: right;\">\n",
       "      <th></th>\n",
       "      <th>filmeID</th>\n",
       "      <th>Título</th>\n",
       "      <th>generos</th>\n",
       "      <th>Notas</th>\n",
       "    </tr>\n",
       "  </thead>\n",
       "  <tbody>\n",
       "    <tr>\n",
       "      <td>7656</td>\n",
       "      <td>88448</td>\n",
       "      <td>Paper Birds (Pájaros de papel) (2010)</td>\n",
       "      <td>Comedy|Drama</td>\n",
       "      <td>5.0</td>\n",
       "    </tr>\n",
       "    <tr>\n",
       "      <td>8107</td>\n",
       "      <td>100556</td>\n",
       "      <td>Act of Killing, The (2012)</td>\n",
       "      <td>Documentary</td>\n",
       "      <td>5.0</td>\n",
       "    </tr>\n",
       "    <tr>\n",
       "      <td>9083</td>\n",
       "      <td>143031</td>\n",
       "      <td>Jump In! (2007)</td>\n",
       "      <td>Comedy|Drama|Romance</td>\n",
       "      <td>5.0</td>\n",
       "    </tr>\n",
       "    <tr>\n",
       "      <td>9094</td>\n",
       "      <td>143511</td>\n",
       "      <td>Human (2015)</td>\n",
       "      <td>Documentary</td>\n",
       "      <td>5.0</td>\n",
       "    </tr>\n",
       "    <tr>\n",
       "      <td>9096</td>\n",
       "      <td>143559</td>\n",
       "      <td>L.A. Slasher (2015)</td>\n",
       "      <td>Comedy|Crime|Fantasy</td>\n",
       "      <td>5.0</td>\n",
       "    </tr>\n",
       "    <tr>\n",
       "      <td>4251</td>\n",
       "      <td>6201</td>\n",
       "      <td>Lady Jane (1986)</td>\n",
       "      <td>Drama|Romance</td>\n",
       "      <td>5.0</td>\n",
       "    </tr>\n",
       "    <tr>\n",
       "      <td>8154</td>\n",
       "      <td>102217</td>\n",
       "      <td>Bill Hicks: Revelations (1993)</td>\n",
       "      <td>Comedy</td>\n",
       "      <td>5.0</td>\n",
       "    </tr>\n",
       "    <tr>\n",
       "      <td>8148</td>\n",
       "      <td>102084</td>\n",
       "      <td>Justice League: Doom (2012)</td>\n",
       "      <td>Action|Animation|Fantasy</td>\n",
       "      <td>5.0</td>\n",
       "    </tr>\n",
       "    <tr>\n",
       "      <td>4246</td>\n",
       "      <td>6192</td>\n",
       "      <td>Open Hearts (Elsker dig for evigt) (2002)</td>\n",
       "      <td>Romance</td>\n",
       "      <td>5.0</td>\n",
       "    </tr>\n",
       "    <tr>\n",
       "      <td>9122</td>\n",
       "      <td>145994</td>\n",
       "      <td>Formula of Love (1984)</td>\n",
       "      <td>Comedy</td>\n",
       "      <td>5.0</td>\n",
       "    </tr>\n",
       "    <tr>\n",
       "      <td>8115</td>\n",
       "      <td>100906</td>\n",
       "      <td>Maniac Cop 2 (1990)</td>\n",
       "      <td>Action|Horror|Thriller</td>\n",
       "      <td>5.0</td>\n",
       "    </tr>\n",
       "    <tr>\n",
       "      <td>9129</td>\n",
       "      <td>146662</td>\n",
       "      <td>Dragons: Gift of the Night Fury (2011)</td>\n",
       "      <td>Adventure|Animation|Comedy</td>\n",
       "      <td>5.0</td>\n",
       "    </tr>\n",
       "    <tr>\n",
       "      <td>8074</td>\n",
       "      <td>99636</td>\n",
       "      <td>English Vinglish (2012)</td>\n",
       "      <td>Comedy|Drama</td>\n",
       "      <td>5.0</td>\n",
       "    </tr>\n",
       "    <tr>\n",
       "      <td>5785</td>\n",
       "      <td>31522</td>\n",
       "      <td>Marriage of Maria Braun, The (Ehe der Maria Br...</td>\n",
       "      <td>Drama</td>\n",
       "      <td>5.0</td>\n",
       "    </tr>\n",
       "    <tr>\n",
       "      <td>9131</td>\n",
       "      <td>146684</td>\n",
       "      <td>Cosmic Scrat-tastrophe (2015)</td>\n",
       "      <td>Animation|Children|Comedy</td>\n",
       "      <td>5.0</td>\n",
       "    </tr>\n",
       "    <tr>\n",
       "      <td>9137</td>\n",
       "      <td>147196</td>\n",
       "      <td>The Girls (1961)</td>\n",
       "      <td>Comedy|Romance</td>\n",
       "      <td>5.0</td>\n",
       "    </tr>\n",
       "    <tr>\n",
       "      <td>9138</td>\n",
       "      <td>147250</td>\n",
       "      <td>The Adventures of Sherlock Holmes and Doctor W...</td>\n",
       "      <td>(no genres listed)</td>\n",
       "      <td>5.0</td>\n",
       "    </tr>\n",
       "    <tr>\n",
       "      <td>9140</td>\n",
       "      <td>147286</td>\n",
       "      <td>The Adventures of Sherlock Holmes and Doctor W...</td>\n",
       "      <td>Crime|Mystery</td>\n",
       "      <td>5.0</td>\n",
       "    </tr>\n",
       "    <tr>\n",
       "      <td>9141</td>\n",
       "      <td>147300</td>\n",
       "      <td>Adventures Of Sherlock Holmes And Dr. Watson: ...</td>\n",
       "      <td>Crime|Mystery</td>\n",
       "      <td>5.0</td>\n",
       "    </tr>\n",
       "    <tr>\n",
       "      <td>9142</td>\n",
       "      <td>147326</td>\n",
       "      <td>The Adventures of Sherlock Holmes and Doctor W...</td>\n",
       "      <td>Crime|Mystery</td>\n",
       "      <td>5.0</td>\n",
       "    </tr>\n",
       "  </tbody>\n",
       "</table>\n",
       "</div>"
      ],
      "text/plain": [
       "      filmeID                                             Título  \\\n",
       "7656    88448              Paper Birds (Pájaros de papel) (2010)   \n",
       "8107   100556                         Act of Killing, The (2012)   \n",
       "9083   143031                                    Jump In! (2007)   \n",
       "9094   143511                                       Human (2015)   \n",
       "9096   143559                                L.A. Slasher (2015)   \n",
       "4251     6201                                   Lady Jane (1986)   \n",
       "8154   102217                     Bill Hicks: Revelations (1993)   \n",
       "8148   102084                       Justice League: Doom (2012)    \n",
       "4246     6192          Open Hearts (Elsker dig for evigt) (2002)   \n",
       "9122   145994                             Formula of Love (1984)   \n",
       "8115   100906                                Maniac Cop 2 (1990)   \n",
       "9129   146662             Dragons: Gift of the Night Fury (2011)   \n",
       "8074    99636                            English Vinglish (2012)   \n",
       "5785    31522  Marriage of Maria Braun, The (Ehe der Maria Br...   \n",
       "9131   146684                      Cosmic Scrat-tastrophe (2015)   \n",
       "9137   147196                                   The Girls (1961)   \n",
       "9138   147250  The Adventures of Sherlock Holmes and Doctor W...   \n",
       "9140   147286  The Adventures of Sherlock Holmes and Doctor W...   \n",
       "9141   147300  Adventures Of Sherlock Holmes And Dr. Watson: ...   \n",
       "9142   147326  The Adventures of Sherlock Holmes and Doctor W...   \n",
       "\n",
       "                         generos  Notas  \n",
       "7656                Comedy|Drama    5.0  \n",
       "8107                 Documentary    5.0  \n",
       "9083        Comedy|Drama|Romance    5.0  \n",
       "9094                 Documentary    5.0  \n",
       "9096        Comedy|Crime|Fantasy    5.0  \n",
       "4251               Drama|Romance    5.0  \n",
       "8154                      Comedy    5.0  \n",
       "8148    Action|Animation|Fantasy    5.0  \n",
       "4246                     Romance    5.0  \n",
       "9122                      Comedy    5.0  \n",
       "8115      Action|Horror|Thriller    5.0  \n",
       "9129  Adventure|Animation|Comedy    5.0  \n",
       "8074                Comedy|Drama    5.0  \n",
       "5785                       Drama    5.0  \n",
       "9131   Animation|Children|Comedy    5.0  \n",
       "9137              Comedy|Romance    5.0  \n",
       "9138          (no genres listed)    5.0  \n",
       "9140               Crime|Mystery    5.0  \n",
       "9141               Crime|Mystery    5.0  \n",
       "9142               Crime|Mystery    5.0  "
      ]
     },
     "execution_count": 30,
     "metadata": {},
     "output_type": "execute_result"
    }
   ],
   "source": [
    "filmes_com_media.sort_values('Notas', ascending=False).head(20)"
   ]
  },
  {
   "cell_type": "code",
   "execution_count": 31,
   "metadata": {
    "scrolled": false
   },
   "outputs": [
    {
     "data": {
      "text/plain": [
       "<matplotlib.axes._subplots.AxesSubplot at 0x3d1a1c8>"
      ]
     },
     "execution_count": 31,
     "metadata": {},
     "output_type": "execute_result"
    },
    {
     "data": {
      "image/png": "[encoded data removed]",
      "text/plain": [
       "<Figure size 432x288 with 1 Axes>"
      ]
     },
     "metadata": {
      "needs_background": "light"
     },
     "output_type": "display_data"
    }
   ],
   "source": [
    "notas.query(\"Notas == 5.0\").plot(kind='hist')"
   ]
  },
  {
   "cell_type": "code",
   "execution_count": 36,
   "metadata": {
    "scrolled": true
   },
   "outputs": [
    {
     "data": {
      "text/plain": [
       "(no genres listed)      34\n",
       "Action                1828\n",
       "Adventure             1263\n",
       "Animation              611\n",
       "Children               664\n",
       "Comedy                3756\n",
       "Crime                 1199\n",
       "Documentary            440\n",
       "Drama                 4361\n",
       "Fantasy                779\n",
       "Film-Noir               87\n",
       "Horror                 978\n",
       "IMAX                   158\n",
       "Musical                334\n",
       "Mystery                573\n",
       "Romance               1596\n",
       "Sci-Fi                 980\n",
       "Thriller              1894\n",
       "War                    382\n",
       "Western                167\n",
       "dtype: int64"
      ]
     },
     "execution_count": 36,
     "metadata": {},
     "output_type": "execute_result"
    }
   ],
   "source": [
    "filmes[\"generos\"].str.get_dummies('|').sum()"
   ]
  },
  {
   "cell_type": "code",
   "execution_count": 37,
   "metadata": {
    "scrolled": true
   },
   "outputs": [
    {
     "data": {
      "text/plain": [
       "Drama                 4361\n",
       "Comedy                3756\n",
       "Thriller              1894\n",
       "Action                1828\n",
       "Romance               1596\n",
       "Adventure             1263\n",
       "Crime                 1199\n",
       "Sci-Fi                 980\n",
       "Horror                 978\n",
       "Fantasy                779\n",
       "Children               664\n",
       "Animation              611\n",
       "Mystery                573\n",
       "Documentary            440\n",
       "War                    382\n",
       "Musical                334\n",
       "Western                167\n",
       "IMAX                   158\n",
       "Film-Noir               87\n",
       "(no genres listed)      34\n",
       "dtype: int64"
      ]
     },
     "execution_count": 37,
     "metadata": {},
     "output_type": "execute_result"
    }
   ],
   "source": [
    "filmes[\"generos\"].str.get_dummies('|').sum().sort_values(ascending=False)"
   ]
  },
  {
   "cell_type": "code",
   "execution_count": 40,
   "metadata": {
    "scrolled": true
   },
   "outputs": [
    {
     "data": {
      "text/plain": [
       "array([[1, 'Toy Story (1995)',\n",
       "        'Adventure|Animation|Children|Comedy|Fantasy'],\n",
       "       [2, 'Jumanji (1995)', 'Adventure|Children|Fantasy'],\n",
       "       [3, 'Grumpier Old Men (1995)', 'Comedy|Romance'],\n",
       "       ...,\n",
       "       [193585, 'Flint (2017)', 'Drama'],\n",
       "       [193587, 'Bungo Stray Dogs: Dead Apple (2018)',\n",
       "        'Action|Animation'],\n",
       "       [193609, 'Andrew Dice Clay: Dice Rules (1991)', 'Comedy']],\n",
       "      dtype=object)"
      ]
     },
     "execution_count": 40,
     "metadata": {},
     "output_type": "execute_result"
    }
   ],
   "source": [
    "filmes.values"
   ]
  },
  {
   "cell_type": "code",
   "execution_count": 41,
   "metadata": {
    "scrolled": true
   },
   "outputs": [
    {
     "data": {
      "text/plain": [
       "Index(['Drama', 'Comedy', 'Thriller', 'Action', 'Romance', 'Adventure',\n",
       "       'Crime', 'Sci-Fi', 'Horror', 'Fantasy', 'Children', 'Animation',\n",
       "       'Mystery', 'Documentary', 'War', 'Musical', 'Western', 'IMAX',\n",
       "       'Film-Noir', '(no genres listed)'],\n",
       "      dtype='object')"
      ]
     },
     "execution_count": 41,
     "metadata": {},
     "output_type": "execute_result"
    }
   ],
   "source": [
    "filmes[\"generos\"].str.get_dummies('|').sum().sort_values(ascending=False).index"
   ]
  },
  {
   "cell_type": "code",
   "execution_count": 42,
   "metadata": {},
   "outputs": [
    {
     "data": {
      "text/plain": [
       "array([4361, 3756, 1894, 1828, 1596, 1263, 1199,  980,  978,  779,  664,\n",
       "        611,  573,  440,  382,  334,  167,  158,   87,   34], dtype=int64)"
      ]
     },
     "execution_count": 42,
     "metadata": {},
     "output_type": "execute_result"
    }
   ],
   "source": [
    "filmes[\"generos\"].str.get_dummies('|').sum().sort_values(ascending=False).values"
   ]
  },
  {
   "cell_type": "code",
   "execution_count": 44,
   "metadata": {
    "scrolled": true
   },
   "outputs": [
    {
     "data": {
      "text/plain": [
       "<bound method Series.sort_index of (no genres listed)      34\n",
       "Action                1828\n",
       "Adventure             1263\n",
       "Animation              611\n",
       "Children               664\n",
       "Comedy                3756\n",
       "Crime                 1199\n",
       "Documentary            440\n",
       "Drama                 4361\n",
       "Fantasy                779\n",
       "Film-Noir               87\n",
       "Horror                 978\n",
       "IMAX                   158\n",
       "Musical                334\n",
       "Mystery                573\n",
       "Romance               1596\n",
       "Sci-Fi                 980\n",
       "Thriller              1894\n",
       "War                    382\n",
       "Western                167\n",
       "dtype: int64>"
      ]
     },
     "execution_count": 44,
     "metadata": {},
     "output_type": "execute_result"
    }
   ],
   "source": [
    "filmes[\"generos\"].str.get_dummies('|').sum().sort_index #Deixa em Ordem Alfabética;"
   ]
  },
  {
   "cell_type": "code",
   "execution_count": 53,
   "metadata": {},
   "outputs": [
    {
     "data": {
      "image/png": "[encoded data removed]",
      "text/plain": [
       "<Figure size 504x504 with 1 Axes>"
      ]
     },
     "metadata": {},
     "output_type": "display_data"
    }
   ],
   "source": [
    "filmes[\"generos\"].str.get_dummies('|').sum().sort_values(ascending=False).plot(\n",
    "    kind='pie',\n",
    "    title = \"Categorias de filmes e suas quantidades\",\n",
    "    figsize=(7,7)) #Gerando 1* gráfico\n",
    "plt.show() # Não é recomendado para esse tipo de análise!"
   ]
  },
  {
   "cell_type": "code",
   "execution_count": 54,
   "metadata": {},
   "outputs": [
    {
     "data": {
      "image/png": "[encoded data removed]",
      "text/plain": [
       "<Figure size 504x504 with 1 Axes>"
      ]
     },
     "metadata": {
      "needs_background": "light"
     },
     "output_type": "display_data"
    }
   ],
   "source": [
    "filmes[\"generos\"].str.get_dummies('|').sum().sort_values(ascending=False).plot(\n",
    "    kind='bar',\n",
    "    title = \"Filmes por categoria\",\n",
    "    figsize=(7,7)) #Gerando 2* gráfico\n",
    "plt.show() # Mais Recomendado"
   ]
  },
  {
   "cell_type": "code",
   "execution_count": 69,
   "metadata": {
    "scrolled": true
   },
   "outputs": [
    {
     "data": {
      "image/png": "[encoded data removed]",
      "text/plain": [
       "<Figure size 1728x720 with 1 Axes>"
      ]
     },
     "metadata": {
      "needs_background": "light"
     },
     "output_type": "display_data"
    }
   ],
   "source": [
    "import seaborn as sns\n",
    "\n",
    "filmes_PorGenero = filmes[\"generos\"].str.get_dummies('|').sum().sort_values(ascending=False)\n",
    "plt.figure(figsize=(24,10))\n",
    "sns.barplot(x = filmes_PorGenero.index,\n",
    "            y = filmes_PorGenero.values,\n",
    "            palette = sns.color_palette(\"GnBu_d\", n_colors = len(filmes_PorGenero)+8))\n",
    "plt.show()"
   ]
  },
  {
   "cell_type": "code",
   "execution_count": 74,
   "metadata": {
    "scrolled": true
   },
   "outputs": [
    {
     "name": "stdout",
     "output_type": "stream",
     "text": [
      "3.9209302325581397\n"
     ]
    },
    {
     "data": {
      "text/plain": [
       "<matplotlib.axes._subplots.AxesSubplot at 0xcfd9648>"
      ]
     },
     "execution_count": 74,
     "metadata": {},
     "output_type": "execute_result"
    },
    {
     "data": {
      "image/png": "[encoded data removed]",
      "text/plain": [
       "<Figure size 432x288 with 1 Axes>"
      ]
     },
     "metadata": {
      "needs_background": "light"
     },
     "output_type": "display_data"
    }
   ],
   "source": [
    "av1 = notas.query(\"FilmeID == 1\")[\"Notas\"]\n",
    "print(av1.mean())\n",
    "av1.plot(kind=\"hist\")"
   ]
  },
  {
   "cell_type": "code",
   "execution_count": 75,
   "metadata": {
    "scrolled": true
   },
   "outputs": [
    {
     "name": "stdout",
     "output_type": "stream",
     "text": [
      "3.4318181818181817\n"
     ]
    },
    {
     "data": {
      "text/plain": [
       "<matplotlib.axes._subplots.AxesSubplot at 0xd028ec8>"
      ]
     },
     "execution_count": 75,
     "metadata": {},
     "output_type": "execute_result"
    },
    {
     "data": {
      "image/png": "[encoded data removed]",
      "text/plain": [
       "<Figure size 432x288 with 1 Axes>"
      ]
     },
     "metadata": {
      "needs_background": "light"
     },
     "output_type": "display_data"
    }
   ],
   "source": [
    "av2 = notas.query(\"FilmeID == 2\")[\"Notas\"]\n",
    "print(av2.mean())\n",
    "av2.plot(kind=\"hist\")"
   ]
  },
  {
   "cell_type": "code",
   "execution_count": 76,
   "metadata": {
    "scrolled": true
   },
   "outputs": [
    {
     "name": "stdout",
     "output_type": "stream",
     "text": [
      "3.2596153846153846\n"
     ]
    },
    {
     "data": {
      "text/plain": [
       "<matplotlib.axes._subplots.AxesSubplot at 0xc7d0b08>"
      ]
     },
     "execution_count": 76,
     "metadata": {},
     "output_type": "execute_result"
    },
    {
     "data": {
      "image/png": "[encoded data removed]",
      "text/plain": [
       "<Figure size 432x288 with 1 Axes>"
      ]
     },
     "metadata": {
      "needs_background": "light"
     },
     "output_type": "display_data"
    }
   ],
   "source": [
    "av3 = notas.query(\"FilmeID == 3\")[\"Notas\"]\n",
    "print(av3.mean())\n",
    "av3.plot(kind=\"hist\")"
   ]
  },
  {
   "cell_type": "markdown",
   "metadata": {},
   "source": [
    "## Vejamos a demonstração da Mediana:"
   ]
  },
  {
   "cell_type": "code",
   "execution_count": 77,
   "metadata": {
    "scrolled": true
   },
   "outputs": [
    {
     "data": {
      "text/html": [
       "<div>\n",
       "<style scoped>\n",
       "    .dataframe tbody tr th:only-of-type {\n",
       "        vertical-align: middle;\n",
       "    }\n",
       "\n",
       "    .dataframe tbody tr th {\n",
       "        vertical-align: top;\n",
       "    }\n",
       "\n",
       "    .dataframe thead th {\n",
       "        text-align: right;\n",
       "    }\n",
       "</style>\n",
       "<table border=\"1\" class=\"dataframe\">\n",
       "  <thead>\n",
       "    <tr style=\"text-align: right;\">\n",
       "      <th></th>\n",
       "      <th>filmeID</th>\n",
       "      <th>Título</th>\n",
       "      <th>generos</th>\n",
       "      <th>Notas</th>\n",
       "    </tr>\n",
       "  </thead>\n",
       "  <tbody>\n",
       "    <tr>\n",
       "      <td>3451</td>\n",
       "      <td>4708</td>\n",
       "      <td>Marat/Sade (1966)</td>\n",
       "      <td>Drama|Musical</td>\n",
       "      <td>4.500000</td>\n",
       "    </tr>\n",
       "    <tr>\n",
       "      <td>8048</td>\n",
       "      <td>98607</td>\n",
       "      <td>Redline (2009)</td>\n",
       "      <td>Action|Animation|Sci-Fi</td>\n",
       "      <td>4.500000</td>\n",
       "    </tr>\n",
       "    <tr>\n",
       "      <td>3272</td>\n",
       "      <td>4429</td>\n",
       "      <td>Moby Dick (1956)</td>\n",
       "      <td>Drama</td>\n",
       "      <td>4.500000</td>\n",
       "    </tr>\n",
       "    <tr>\n",
       "      <td>6187</td>\n",
       "      <td>44931</td>\n",
       "      <td>Secrets of a Soul (Geheimnisse einer Seele) (1...</td>\n",
       "      <td>Drama</td>\n",
       "      <td>4.500000</td>\n",
       "    </tr>\n",
       "    <tr>\n",
       "      <td>6403</td>\n",
       "      <td>50842</td>\n",
       "      <td>Boss of It All, The (Direktøren for det hele) ...</td>\n",
       "      <td>Comedy|Drama</td>\n",
       "      <td>4.500000</td>\n",
       "    </tr>\n",
       "    <tr>\n",
       "      <td>...</td>\n",
       "      <td>...</td>\n",
       "      <td>...</td>\n",
       "      <td>...</td>\n",
       "      <td>...</td>\n",
       "    </tr>\n",
       "    <tr>\n",
       "      <td>7916</td>\n",
       "      <td>95309</td>\n",
       "      <td>Seeking a Friend for the End of the World (2012)</td>\n",
       "      <td>Comedy|Drama|Romance</td>\n",
       "      <td>4.166667</td>\n",
       "    </tr>\n",
       "    <tr>\n",
       "      <td>2721</td>\n",
       "      <td>3653</td>\n",
       "      <td>Endless Summer, The (1966)</td>\n",
       "      <td>Documentary</td>\n",
       "      <td>4.166667</td>\n",
       "    </tr>\n",
       "    <tr>\n",
       "      <td>3281</td>\n",
       "      <td>4441</td>\n",
       "      <td>Game of Death (1978)</td>\n",
       "      <td>Action</td>\n",
       "      <td>4.166667</td>\n",
       "    </tr>\n",
       "    <tr>\n",
       "      <td>5684</td>\n",
       "      <td>27722</td>\n",
       "      <td>Last Life in the Universe (Ruang rak noi nid m...</td>\n",
       "      <td>Drama|Romance</td>\n",
       "      <td>4.166667</td>\n",
       "    </tr>\n",
       "    <tr>\n",
       "      <td>5143</td>\n",
       "      <td>8261</td>\n",
       "      <td>3 Women (Three Women) (1977)</td>\n",
       "      <td>Drama</td>\n",
       "      <td>4.166667</td>\n",
       "    </tr>\n",
       "  </tbody>\n",
       "</table>\n",
       "<p>500 rows × 4 columns</p>\n",
       "</div>"
      ],
      "text/plain": [
       "      filmeID                                             Título  \\\n",
       "3451     4708                                  Marat/Sade (1966)   \n",
       "8048    98607                                     Redline (2009)   \n",
       "3272     4429                                   Moby Dick (1956)   \n",
       "6187    44931  Secrets of a Soul (Geheimnisse einer Seele) (1...   \n",
       "6403    50842  Boss of It All, The (Direktøren for det hele) ...   \n",
       "...       ...                                                ...   \n",
       "7916    95309   Seeking a Friend for the End of the World (2012)   \n",
       "2721     3653                         Endless Summer, The (1966)   \n",
       "3281     4441                               Game of Death (1978)   \n",
       "5684    27722  Last Life in the Universe (Ruang rak noi nid m...   \n",
       "5143     8261                       3 Women (Three Women) (1977)   \n",
       "\n",
       "                      generos     Notas  \n",
       "3451            Drama|Musical  4.500000  \n",
       "8048  Action|Animation|Sci-Fi  4.500000  \n",
       "3272                    Drama  4.500000  \n",
       "6187                    Drama  4.500000  \n",
       "6403             Comedy|Drama  4.500000  \n",
       "...                       ...       ...  \n",
       "7916     Comedy|Drama|Romance  4.166667  \n",
       "2721              Documentary  4.166667  \n",
       "3281                   Action  4.166667  \n",
       "5684            Drama|Romance  4.166667  \n",
       "5143                    Drama  4.166667  \n",
       "\n",
       "[500 rows x 4 columns]"
      ]
     },
     "execution_count": 77,
     "metadata": {},
     "output_type": "execute_result"
    }
   ],
   "source": [
    "filmes_com_media.sort_values('Notas', ascending=False)[500:1000]"
   ]
  },
  {
   "cell_type": "code",
   "execution_count": 90,
   "metadata": {},
   "outputs": [],
   "source": [
    "def plot_filmes(n):\n",
    "    notas_do_filme = notas.query(f\"FilmeID == {n}\")[\"Notas\"]\n",
    "    notas_do_filme.plot(kind=\"hist\")\n",
    "    return notas_do_filme.describe()"
   ]
  },
  {
   "cell_type": "code",
   "execution_count": 91,
   "metadata": {
    "scrolled": false
   },
   "outputs": [
    {
     "data": {
      "text/plain": [
       "count    92.000000\n",
       "mean      3.880435\n",
       "std       1.025418\n",
       "min       1.000000\n",
       "25%       3.000000\n",
       "50%       4.000000\n",
       "75%       5.000000\n",
       "max       5.000000\n",
       "Name: Notas, dtype: float64"
      ]
     },
     "execution_count": 91,
     "metadata": {},
     "output_type": "execute_result"
    },
    {
     "data": {
      "image/png": "[encoded data removed]",
      "text/plain": [
       "<Figure size 432x288 with 1 Axes>"
      ]
     },
     "metadata": {
      "needs_background": "light"
     },
     "output_type": "display_data"
    }
   ],
   "source": [
    "plot_filmes(919)"
   ]
  },
  {
   "cell_type": "code",
   "execution_count": 94,
   "metadata": {
    "scrolled": true
   },
   "outputs": [
    {
     "data": {
      "image/png": "[encoded data removed]",
      "text/plain": [
       "<Figure size 432x288 with 1 Axes>"
      ]
     },
     "metadata": {
      "needs_background": "light"
     },
     "output_type": "display_data"
    },
    {
     "data": {
      "image/png": "[encoded data removed]",
      "text/plain": [
       "<Figure size 432x288 with 1 Axes>"
      ]
     },
     "metadata": {
      "needs_background": "light"
     },
     "output_type": "display_data"
    },
    {
     "data": {
      "text/plain": [
       "count    92.000000\n",
       "mean      3.880435\n",
       "std       1.025418\n",
       "min       1.000000\n",
       "25%       3.000000\n",
       "50%       4.000000\n",
       "75%       5.000000\n",
       "max       5.000000\n",
       "Name: Notas, dtype: float64"
      ]
     },
     "execution_count": 94,
     "metadata": {},
     "output_type": "execute_result"
    }
   ],
   "source": [
    "def plot_filmes(n):\n",
    "    notas_do_filme = notas.query(f\"FilmeID == {n}\")[\"Notas\"]\n",
    "    notas_do_filme.plot(kind=\"hist\")\n",
    "    plt.show()\n",
    "    notas_do_filme.plot.box()\n",
    "    plt.show()\n",
    "    return notas_do_filme.describe()\n",
    "plot_filmes(919)"
   ]
  },
  {
   "cell_type": "code",
   "execution_count": 95,
   "metadata": {},
   "outputs": [
    {
     "data": {
      "text/plain": [
       "<matplotlib.axes._subplots.AxesSubplot at 0xc85d048>"
      ]
     },
     "execution_count": 95,
     "metadata": {},
     "output_type": "execute_result"
    },
    {
     "data": {
      "image/png": "[encoded data removed]",
      "text/plain": [
       "<Figure size 432x288 with 1 Axes>"
      ]
     },
     "metadata": {
      "needs_background": "light"
     },
     "output_type": "display_data"
    }
   ],
   "source": [
    "sns.boxplot(data = notas.query(\"FilmeID in [1,2,919,46578]\"), x = \"FilmeID\", y = \"Notas\")"
   ]
  },
  {
   "cell_type": "markdown",
   "metadata": {},
   "source": [
    "# Caderno da Aula 2: https://colab.research.google.com/drive/1pWce_y_rcVMyyjcqYnOC1Vur4CtuJp97"
   ]
  }
 ],
 "metadata": {
  "kernelspec": {
   "display_name": "Python 3",
   "language": "python",
   "name": "python3"
  },
  "language_info": {
   "codemirror_mode": {
    "name": "ipython",
    "version": 3
   },
   "file_extension": ".py",
   "mimetype": "text/x-python",
   "name": "python",
   "nbconvert_exporter": "python",
   "pygments_lexer": "ipython3",
   "version": "3.7.4"
  }
 },
 "nbformat": 4,
 "nbformat_minor": 2
}
