{
 "cells": [
  {
   "cell_type": "code",
   "execution_count": 1,
   "metadata": {},
   "outputs": [],
   "source": [
    "#Bibliotecas essenciais :\n",
    "import numpy as np # cálculos numéricos\n",
    "import pandas as pd # visualização de dados\n",
    "import seaborn as sns # plotagem de gráficos\n",
    "import matplotlib\n",
    "import matplotlib.pyplot as plt # criação de gráficos"
   ]
  },
  {
   "cell_type": "markdown",
   "metadata": {},
   "source": [
    "# Vamos iniciar com a abertura  do banco de dados disponibilizado pela World Health Organization.\n",
    "# Siga esse link : https://covid19.who.int/"
   ]
  },
  {
   "cell_type": "code",
   "execution_count": 4,
   "metadata": {
    "scrolled": false
   },
   "outputs": [
    {
     "data": {
      "text/html": [
       "<div>\n",
       "<style scoped>\n",
       "    .dataframe tbody tr th:only-of-type {\n",
       "        vertical-align: middle;\n",
       "    }\n",
       "\n",
       "    .dataframe tbody tr th {\n",
       "        vertical-align: top;\n",
       "    }\n",
       "\n",
       "    .dataframe thead th {\n",
       "        text-align: right;\n",
       "    }\n",
       "</style>\n",
       "<table border=\"1\" class=\"dataframe\">\n",
       "  <thead>\n",
       "    <tr style=\"text-align: right;\">\n",
       "      <th></th>\n",
       "      <th>Dia</th>\n",
       "      <th>UF</th>\n",
       "      <th>País</th>\n",
       "      <th>Região</th>\n",
       "      <th>Mortes</th>\n",
       "      <th>Mortes_Acumula</th>\n",
       "      <th>Confirmados</th>\n",
       "      <th>Confirmados_Acumula</th>\n",
       "    </tr>\n",
       "  </thead>\n",
       "  <tbody>\n",
       "    <tr>\n",
       "      <th>1929</th>\n",
       "      <td>2020-02-26</td>\n",
       "      <td>BR</td>\n",
       "      <td>Brazil</td>\n",
       "      <td>AMRO</td>\n",
       "      <td>0</td>\n",
       "      <td>0</td>\n",
       "      <td>1</td>\n",
       "      <td>1</td>\n",
       "    </tr>\n",
       "    <tr>\n",
       "      <th>1930</th>\n",
       "      <td>2020-02-27</td>\n",
       "      <td>BR</td>\n",
       "      <td>Brazil</td>\n",
       "      <td>AMRO</td>\n",
       "      <td>0</td>\n",
       "      <td>0</td>\n",
       "      <td>0</td>\n",
       "      <td>1</td>\n",
       "    </tr>\n",
       "    <tr>\n",
       "      <th>1931</th>\n",
       "      <td>2020-02-28</td>\n",
       "      <td>BR</td>\n",
       "      <td>Brazil</td>\n",
       "      <td>AMRO</td>\n",
       "      <td>0</td>\n",
       "      <td>0</td>\n",
       "      <td>0</td>\n",
       "      <td>1</td>\n",
       "    </tr>\n",
       "    <tr>\n",
       "      <th>1932</th>\n",
       "      <td>2020-02-29</td>\n",
       "      <td>BR</td>\n",
       "      <td>Brazil</td>\n",
       "      <td>AMRO</td>\n",
       "      <td>0</td>\n",
       "      <td>0</td>\n",
       "      <td>0</td>\n",
       "      <td>1</td>\n",
       "    </tr>\n",
       "    <tr>\n",
       "      <th>1933</th>\n",
       "      <td>2020-03-01</td>\n",
       "      <td>BR</td>\n",
       "      <td>Brazil</td>\n",
       "      <td>AMRO</td>\n",
       "      <td>0</td>\n",
       "      <td>0</td>\n",
       "      <td>1</td>\n",
       "      <td>2</td>\n",
       "    </tr>\n",
       "    <tr>\n",
       "      <th>...</th>\n",
       "      <td>...</td>\n",
       "      <td>...</td>\n",
       "      <td>...</td>\n",
       "      <td>...</td>\n",
       "      <td>...</td>\n",
       "      <td>...</td>\n",
       "      <td>...</td>\n",
       "      <td>...</td>\n",
       "    </tr>\n",
       "    <tr>\n",
       "      <th>2006</th>\n",
       "      <td>2020-05-13</td>\n",
       "      <td>BR</td>\n",
       "      <td>Brazil</td>\n",
       "      <td>AMRO</td>\n",
       "      <td>396</td>\n",
       "      <td>11519</td>\n",
       "      <td>5632</td>\n",
       "      <td>168331</td>\n",
       "    </tr>\n",
       "    <tr>\n",
       "      <th>2007</th>\n",
       "      <td>2020-05-14</td>\n",
       "      <td>BR</td>\n",
       "      <td>Brazil</td>\n",
       "      <td>AMRO</td>\n",
       "      <td>881</td>\n",
       "      <td>12400</td>\n",
       "      <td>9258</td>\n",
       "      <td>177589</td>\n",
       "    </tr>\n",
       "    <tr>\n",
       "      <th>2008</th>\n",
       "      <td>2020-05-15</td>\n",
       "      <td>BR</td>\n",
       "      <td>Brazil</td>\n",
       "      <td>AMRO</td>\n",
       "      <td>749</td>\n",
       "      <td>13149</td>\n",
       "      <td>11385</td>\n",
       "      <td>188974</td>\n",
       "    </tr>\n",
       "    <tr>\n",
       "      <th>2009</th>\n",
       "      <td>2020-05-16</td>\n",
       "      <td>BR</td>\n",
       "      <td>Brazil</td>\n",
       "      <td>AMRO</td>\n",
       "      <td>844</td>\n",
       "      <td>13993</td>\n",
       "      <td>13944</td>\n",
       "      <td>202918</td>\n",
       "    </tr>\n",
       "    <tr>\n",
       "      <th>2010</th>\n",
       "      <td>2020-05-17</td>\n",
       "      <td>BR</td>\n",
       "      <td>Brazil</td>\n",
       "      <td>AMRO</td>\n",
       "      <td>824</td>\n",
       "      <td>14817</td>\n",
       "      <td>15305</td>\n",
       "      <td>218223</td>\n",
       "    </tr>\n",
       "  </tbody>\n",
       "</table>\n",
       "<p>82 rows × 8 columns</p>\n",
       "</div>"
      ],
      "text/plain": [
       "             Dia  UF    País Região  Mortes  Mortes_Acumula  Confirmados  \\\n",
       "1929  2020-02-26  BR  Brazil   AMRO       0               0            1   \n",
       "1930  2020-02-27  BR  Brazil   AMRO       0               0            0   \n",
       "1931  2020-02-28  BR  Brazil   AMRO       0               0            0   \n",
       "1932  2020-02-29  BR  Brazil   AMRO       0               0            0   \n",
       "1933  2020-03-01  BR  Brazil   AMRO       0               0            1   \n",
       "...          ...  ..     ...    ...     ...             ...          ...   \n",
       "2006  2020-05-13  BR  Brazil   AMRO     396           11519         5632   \n",
       "2007  2020-05-14  BR  Brazil   AMRO     881           12400         9258   \n",
       "2008  2020-05-15  BR  Brazil   AMRO     749           13149        11385   \n",
       "2009  2020-05-16  BR  Brazil   AMRO     844           13993        13944   \n",
       "2010  2020-05-17  BR  Brazil   AMRO     824           14817        15305   \n",
       "\n",
       "      Confirmados_Acumula  \n",
       "1929                    1  \n",
       "1930                    1  \n",
       "1931                    1  \n",
       "1932                    1  \n",
       "1933                    2  \n",
       "...                   ...  \n",
       "2006               168331  \n",
       "2007               177589  \n",
       "2008               188974  \n",
       "2009               202918  \n",
       "2010               218223  \n",
       "\n",
       "[82 rows x 8 columns]"
      ]
     },
     "execution_count": 4,
     "metadata": {},
     "output_type": "execute_result"
    }
   ],
   "source": [
    "dados_covid = pd.read_csv('Covid-global-semana3.csv')\n",
    "dados_covid_br = dados_covid\n",
    "dados_covid_br.columns = [\"Dia\", \"UF\", \"País\", \"Região\", \"Mortes\", \"Mortes_Acumula\", \"Confirmados\", \"Confirmados_Acumula\"]\n",
    "dados_br = dados_covid_br[dados_covid_br['País']==\"Brazil\"]\n",
    "dados_br"
   ]
  },
  {
   "cell_type": "markdown",
   "metadata": {},
   "source": [
    "## Vamos agora apagar algumas colunas consideradas ' desnecessárias ' para nossa análise (UF; País e Região). "
   ]
  },
  {
   "cell_type": "code",
   "execution_count": 5,
   "metadata": {
    "scrolled": false
   },
   "outputs": [
    {
     "data": {
      "text/html": [
       "<div>\n",
       "<style scoped>\n",
       "    .dataframe tbody tr th:only-of-type {\n",
       "        vertical-align: middle;\n",
       "    }\n",
       "\n",
       "    .dataframe tbody tr th {\n",
       "        vertical-align: top;\n",
       "    }\n",
       "\n",
       "    .dataframe thead th {\n",
       "        text-align: right;\n",
       "    }\n",
       "</style>\n",
       "<table border=\"1\" class=\"dataframe\">\n",
       "  <thead>\n",
       "    <tr style=\"text-align: right;\">\n",
       "      <th></th>\n",
       "      <th>Dia</th>\n",
       "      <th>Mortes</th>\n",
       "      <th>Mortes_Acumula</th>\n",
       "      <th>Confirmados</th>\n",
       "      <th>Confirmados_Acumula</th>\n",
       "    </tr>\n",
       "  </thead>\n",
       "  <tbody>\n",
       "    <tr>\n",
       "      <th>1929</th>\n",
       "      <td>2020-02-26</td>\n",
       "      <td>0</td>\n",
       "      <td>0</td>\n",
       "      <td>1</td>\n",
       "      <td>1</td>\n",
       "    </tr>\n",
       "    <tr>\n",
       "      <th>1930</th>\n",
       "      <td>2020-02-27</td>\n",
       "      <td>0</td>\n",
       "      <td>0</td>\n",
       "      <td>0</td>\n",
       "      <td>1</td>\n",
       "    </tr>\n",
       "    <tr>\n",
       "      <th>1931</th>\n",
       "      <td>2020-02-28</td>\n",
       "      <td>0</td>\n",
       "      <td>0</td>\n",
       "      <td>0</td>\n",
       "      <td>1</td>\n",
       "    </tr>\n",
       "    <tr>\n",
       "      <th>1932</th>\n",
       "      <td>2020-02-29</td>\n",
       "      <td>0</td>\n",
       "      <td>0</td>\n",
       "      <td>0</td>\n",
       "      <td>1</td>\n",
       "    </tr>\n",
       "    <tr>\n",
       "      <th>1933</th>\n",
       "      <td>2020-03-01</td>\n",
       "      <td>0</td>\n",
       "      <td>0</td>\n",
       "      <td>1</td>\n",
       "      <td>2</td>\n",
       "    </tr>\n",
       "    <tr>\n",
       "      <th>...</th>\n",
       "      <td>...</td>\n",
       "      <td>...</td>\n",
       "      <td>...</td>\n",
       "      <td>...</td>\n",
       "      <td>...</td>\n",
       "    </tr>\n",
       "    <tr>\n",
       "      <th>2006</th>\n",
       "      <td>2020-05-13</td>\n",
       "      <td>396</td>\n",
       "      <td>11519</td>\n",
       "      <td>5632</td>\n",
       "      <td>168331</td>\n",
       "    </tr>\n",
       "    <tr>\n",
       "      <th>2007</th>\n",
       "      <td>2020-05-14</td>\n",
       "      <td>881</td>\n",
       "      <td>12400</td>\n",
       "      <td>9258</td>\n",
       "      <td>177589</td>\n",
       "    </tr>\n",
       "    <tr>\n",
       "      <th>2008</th>\n",
       "      <td>2020-05-15</td>\n",
       "      <td>749</td>\n",
       "      <td>13149</td>\n",
       "      <td>11385</td>\n",
       "      <td>188974</td>\n",
       "    </tr>\n",
       "    <tr>\n",
       "      <th>2009</th>\n",
       "      <td>2020-05-16</td>\n",
       "      <td>844</td>\n",
       "      <td>13993</td>\n",
       "      <td>13944</td>\n",
       "      <td>202918</td>\n",
       "    </tr>\n",
       "    <tr>\n",
       "      <th>2010</th>\n",
       "      <td>2020-05-17</td>\n",
       "      <td>824</td>\n",
       "      <td>14817</td>\n",
       "      <td>15305</td>\n",
       "      <td>218223</td>\n",
       "    </tr>\n",
       "  </tbody>\n",
       "</table>\n",
       "<p>82 rows × 5 columns</p>\n",
       "</div>"
      ],
      "text/plain": [
       "             Dia  Mortes  Mortes_Acumula  Confirmados  Confirmados_Acumula\n",
       "1929  2020-02-26       0               0            1                    1\n",
       "1930  2020-02-27       0               0            0                    1\n",
       "1931  2020-02-28       0               0            0                    1\n",
       "1932  2020-02-29       0               0            0                    1\n",
       "1933  2020-03-01       0               0            1                    2\n",
       "...          ...     ...             ...          ...                  ...\n",
       "2006  2020-05-13     396           11519         5632               168331\n",
       "2007  2020-05-14     881           12400         9258               177589\n",
       "2008  2020-05-15     749           13149        11385               188974\n",
       "2009  2020-05-16     844           13993        13944               202918\n",
       "2010  2020-05-17     824           14817        15305               218223\n",
       "\n",
       "[82 rows x 5 columns]"
      ]
     },
     "execution_count": 5,
     "metadata": {},
     "output_type": "execute_result"
    }
   ],
   "source": [
    "dados_covid_br = dados_br.drop(['UF', 'País', 'Região'], axis=1)\n",
    "dados_covid_br"
   ]
  },
  {
   "cell_type": "markdown",
   "metadata": {},
   "source": [
    "# Como a análise é semanal, usaremos apenas os dados produzidos nos útimos dias;"
   ]
  },
  {
   "cell_type": "code",
   "execution_count": 6,
   "metadata": {
    "scrolled": true
   },
   "outputs": [
    {
     "data": {
      "text/html": [
       "<div>\n",
       "<style scoped>\n",
       "    .dataframe tbody tr th:only-of-type {\n",
       "        vertical-align: middle;\n",
       "    }\n",
       "\n",
       "    .dataframe tbody tr th {\n",
       "        vertical-align: top;\n",
       "    }\n",
       "\n",
       "    .dataframe thead th {\n",
       "        text-align: right;\n",
       "    }\n",
       "</style>\n",
       "<table border=\"1\" class=\"dataframe\">\n",
       "  <thead>\n",
       "    <tr style=\"text-align: right;\">\n",
       "      <th></th>\n",
       "      <th>Dia</th>\n",
       "      <th>Mortes</th>\n",
       "      <th>Mortes_Acumula</th>\n",
       "      <th>Confirmados</th>\n",
       "      <th>Confirmados_Acumula</th>\n",
       "    </tr>\n",
       "  </thead>\n",
       "  <tbody>\n",
       "    <tr>\n",
       "      <th>2004</th>\n",
       "      <td>2020-05-11</td>\n",
       "      <td>730</td>\n",
       "      <td>10627</td>\n",
       "      <td>10611</td>\n",
       "      <td>155939</td>\n",
       "    </tr>\n",
       "    <tr>\n",
       "      <th>2005</th>\n",
       "      <td>2020-05-12</td>\n",
       "      <td>496</td>\n",
       "      <td>11123</td>\n",
       "      <td>6760</td>\n",
       "      <td>162699</td>\n",
       "    </tr>\n",
       "    <tr>\n",
       "      <th>2006</th>\n",
       "      <td>2020-05-13</td>\n",
       "      <td>396</td>\n",
       "      <td>11519</td>\n",
       "      <td>5632</td>\n",
       "      <td>168331</td>\n",
       "    </tr>\n",
       "    <tr>\n",
       "      <th>2007</th>\n",
       "      <td>2020-05-14</td>\n",
       "      <td>881</td>\n",
       "      <td>12400</td>\n",
       "      <td>9258</td>\n",
       "      <td>177589</td>\n",
       "    </tr>\n",
       "    <tr>\n",
       "      <th>2008</th>\n",
       "      <td>2020-05-15</td>\n",
       "      <td>749</td>\n",
       "      <td>13149</td>\n",
       "      <td>11385</td>\n",
       "      <td>188974</td>\n",
       "    </tr>\n",
       "    <tr>\n",
       "      <th>2009</th>\n",
       "      <td>2020-05-16</td>\n",
       "      <td>844</td>\n",
       "      <td>13993</td>\n",
       "      <td>13944</td>\n",
       "      <td>202918</td>\n",
       "    </tr>\n",
       "    <tr>\n",
       "      <th>2010</th>\n",
       "      <td>2020-05-17</td>\n",
       "      <td>824</td>\n",
       "      <td>14817</td>\n",
       "      <td>15305</td>\n",
       "      <td>218223</td>\n",
       "    </tr>\n",
       "  </tbody>\n",
       "</table>\n",
       "</div>"
      ],
      "text/plain": [
       "             Dia  Mortes  Mortes_Acumula  Confirmados  Confirmados_Acumula\n",
       "2004  2020-05-11     730           10627        10611               155939\n",
       "2005  2020-05-12     496           11123         6760               162699\n",
       "2006  2020-05-13     396           11519         5632               168331\n",
       "2007  2020-05-14     881           12400         9258               177589\n",
       "2008  2020-05-15     749           13149        11385               188974\n",
       "2009  2020-05-16     844           13993        13944               202918\n",
       "2010  2020-05-17     824           14817        15305               218223"
      ]
     },
     "execution_count": 6,
     "metadata": {},
     "output_type": "execute_result"
    }
   ],
   "source": [
    "dados_semanais = dados_covid_br.tail(7)\n",
    "dados_semanais"
   ]
  },
  {
   "cell_type": "code",
   "execution_count": 10,
   "metadata": {
    "scrolled": false
   },
   "outputs": [
    {
     "data": {
      "image/png": "[encoded data removed]",
      "text/plain": [
       "<Figure size 864x432 with 1 Axes>"
      ]
     },
     "metadata": {
      "needs_background": "light"
     },
     "output_type": "display_data"
    },
    {
     "data": {
      "text/plain": [
       "<Figure size 1296x576 with 0 Axes>"
      ]
     },
     "metadata": {},
     "output_type": "display_data"
    }
   ],
   "source": [
    "# Para vermos a representação gráfica da variavel 'Mortes'\n",
    "sns.barplot(x='Dia', y='Mortes', ci=None,data=dados_semanais) \n",
    "fig = plt.figure(figsize=(18,8))"
   ]
  },
  {
   "cell_type": "code",
   "execution_count": 11,
   "metadata": {
    "scrolled": true
   },
   "outputs": [
    {
     "data": {
      "image/png": "[encoded data removed]",
      "text/plain": [
       "<Figure size 864x432 with 1 Axes>"
      ]
     },
     "metadata": {
      "needs_background": "light"
     },
     "output_type": "display_data"
    },
    {
     "data": {
      "text/plain": [
       "<Figure size 1296x576 with 0 Axes>"
      ]
     },
     "metadata": {},
     "output_type": "display_data"
    }
   ],
   "source": [
    "sns.barplot(x='Dia', y='Mortes_Acumula', ci=None,data=dados_semanais) \n",
    "fig = plt.figure(figsize=(18,8))"
   ]
  },
  {
   "cell_type": "markdown",
   "metadata": {},
   "source": [
    "### Vejamos agora os resultados com os infectados!"
   ]
  },
  {
   "cell_type": "code",
   "execution_count": 12,
   "metadata": {
    "scrolled": true
   },
   "outputs": [
    {
     "data": {
      "image/png": "[encoded data removed]",
      "text/plain": [
       "<Figure size 864x432 with 1 Axes>"
      ]
     },
     "metadata": {
      "needs_background": "light"
     },
     "output_type": "display_data"
    },
    {
     "data": {
      "text/plain": [
       "<Figure size 1296x576 with 0 Axes>"
      ]
     },
     "metadata": {},
     "output_type": "display_data"
    }
   ],
   "source": [
    "sns.barplot(x='Dia', y='Confirmados_Acumula', ci=None, data=dados_semanais) \n",
    "fig = plt.figure(figsize=(18,8))"
   ]
  },
  {
   "cell_type": "code",
   "execution_count": 15,
   "metadata": {
    "scrolled": true
   },
   "outputs": [
    {
     "data": {
      "image/png": "[encoded data removed]",
      "text/plain": [
       "<Figure size 864x432 with 1 Axes>"
      ]
     },
     "metadata": {
      "needs_background": "light"
     },
     "output_type": "display_data"
    },
    {
     "data": {
      "text/plain": [
       "<Figure size 1296x576 with 0 Axes>"
      ]
     },
     "metadata": {},
     "output_type": "display_data"
    }
   ],
   "source": [
    "sns.barplot(x='Dia', y='Confirmados', ci=None, data=dados_semanais)\n",
    "fig = plt.figure(figsize=(18,8))"
   ]
  },
  {
   "cell_type": "markdown",
   "metadata": {},
   "source": [
    "## Ok, vejamos brevemente uma correlação entre os dados!"
   ]
  },
  {
   "cell_type": "code",
   "execution_count": 18,
   "metadata": {
    "scrolled": true
   },
   "outputs": [
    {
     "data": {
      "text/plain": [
       "<Figure size 1080x360 with 0 Axes>"
      ]
     },
     "execution_count": 18,
     "metadata": {},
     "output_type": "execute_result"
    },
    {
     "data": {
      "image/png": "[encoded data removed]",
      "text/plain": [
       "<Figure size 864x432 with 2 Axes>"
      ]
     },
     "metadata": {
      "needs_background": "light"
     },
     "output_type": "display_data"
    },
    {
     "data": {
      "text/plain": [
       "<Figure size 1080x360 with 0 Axes>"
      ]
     },
     "metadata": {},
     "output_type": "display_data"
    }
   ],
   "source": [
    "sns.heatmap(dados_semanais.corr(), vmax=0.6, square=True, annot=True)\n",
    "plt.figure(figsize=(15,5))"
   ]
  },
  {
   "cell_type": "markdown",
   "metadata": {},
   "source": [
    "## Ok, não cooperou muito, tentemos outra abordagem!"
   ]
  },
  {
   "cell_type": "code",
   "execution_count": 20,
   "metadata": {
    "scrolled": true
   },
   "outputs": [
    {
     "data": {
      "text/plain": [
       "<matplotlib.axes._subplots.AxesSubplot at 0xb4d0e88>"
      ]
     },
     "execution_count": 20,
     "metadata": {},
     "output_type": "execute_result"
    },
    {
     "data": {
      "image/png": "[encoded data removed]",
      "text/plain": [
       "<Figure size 648x432 with 2 Axes>"
      ]
     },
     "metadata": {
      "needs_background": "light"
     },
     "output_type": "display_data"
    }
   ],
   "source": [
    "from string import ascii_letters\n",
    "\n",
    "mask = np.triu(np.ones_like(dados_semanais.corr(), dtype=np.bool))\n",
    "f, ax = plt.subplots(figsize=(9, 6))\n",
    "cmap = sns.diverging_palette(220, 10, as_cmap=True)\n",
    "sns.heatmap(dados_semanais.corr(), mask=mask, cmap=cmap,\n",
    "            vmax=.3, center=0, square=True, linewidths=.5, cbar_kws={\"shrink\": .5})"
   ]
  },
  {
   "cell_type": "markdown",
   "metadata": {},
   "source": [
    "## Ok, ainda sim não fica muito bem claro a relação entre os dados...\n",
    "## Voltemos a plotagem de gráficos para +1 análise de variável específica!"
   ]
  },
  {
   "cell_type": "code",
   "execution_count": 22,
   "metadata": {},
   "outputs": [
    {
     "data": {
      "text/html": [
       "<div>\n",
       "<style scoped>\n",
       "    .dataframe tbody tr th:only-of-type {\n",
       "        vertical-align: middle;\n",
       "    }\n",
       "\n",
       "    .dataframe tbody tr th {\n",
       "        vertical-align: top;\n",
       "    }\n",
       "\n",
       "    .dataframe thead th {\n",
       "        text-align: right;\n",
       "    }\n",
       "</style>\n",
       "<table border=\"1\" class=\"dataframe\">\n",
       "  <thead>\n",
       "    <tr style=\"text-align: right;\">\n",
       "      <th></th>\n",
       "      <th>Dia</th>\n",
       "      <th>Mortes</th>\n",
       "      <th>Mortes_Acumula</th>\n",
       "      <th>Confirmados</th>\n",
       "      <th>Confirmados_Acumula</th>\n",
       "    </tr>\n",
       "  </thead>\n",
       "  <tbody>\n",
       "    <tr>\n",
       "      <th>2004</th>\n",
       "      <td>2020-05-11</td>\n",
       "      <td>730</td>\n",
       "      <td>10627</td>\n",
       "      <td>10611</td>\n",
       "      <td>155939</td>\n",
       "    </tr>\n",
       "    <tr>\n",
       "      <th>2005</th>\n",
       "      <td>2020-05-12</td>\n",
       "      <td>496</td>\n",
       "      <td>11123</td>\n",
       "      <td>6760</td>\n",
       "      <td>162699</td>\n",
       "    </tr>\n",
       "    <tr>\n",
       "      <th>2006</th>\n",
       "      <td>2020-05-13</td>\n",
       "      <td>396</td>\n",
       "      <td>11519</td>\n",
       "      <td>5632</td>\n",
       "      <td>168331</td>\n",
       "    </tr>\n",
       "    <tr>\n",
       "      <th>2007</th>\n",
       "      <td>2020-05-14</td>\n",
       "      <td>881</td>\n",
       "      <td>12400</td>\n",
       "      <td>9258</td>\n",
       "      <td>177589</td>\n",
       "    </tr>\n",
       "    <tr>\n",
       "      <th>2008</th>\n",
       "      <td>2020-05-15</td>\n",
       "      <td>749</td>\n",
       "      <td>13149</td>\n",
       "      <td>11385</td>\n",
       "      <td>188974</td>\n",
       "    </tr>\n",
       "    <tr>\n",
       "      <th>2009</th>\n",
       "      <td>2020-05-16</td>\n",
       "      <td>844</td>\n",
       "      <td>13993</td>\n",
       "      <td>13944</td>\n",
       "      <td>202918</td>\n",
       "    </tr>\n",
       "    <tr>\n",
       "      <th>2010</th>\n",
       "      <td>2020-05-17</td>\n",
       "      <td>824</td>\n",
       "      <td>14817</td>\n",
       "      <td>15305</td>\n",
       "      <td>218223</td>\n",
       "    </tr>\n",
       "  </tbody>\n",
       "</table>\n",
       "</div>"
      ],
      "text/plain": [
       "             Dia  Mortes  Mortes_Acumula  Confirmados  Confirmados_Acumula\n",
       "2004  2020-05-11     730           10627        10611               155939\n",
       "2005  2020-05-12     496           11123         6760               162699\n",
       "2006  2020-05-13     396           11519         5632               168331\n",
       "2007  2020-05-14     881           12400         9258               177589\n",
       "2008  2020-05-15     749           13149        11385               188974\n",
       "2009  2020-05-16     844           13993        13944               202918\n",
       "2010  2020-05-17     824           14817        15305               218223"
      ]
     },
     "execution_count": 22,
     "metadata": {},
     "output_type": "execute_result"
    }
   ],
   "source": [
    "dados_semanais"
   ]
  },
  {
   "cell_type": "code",
   "execution_count": 23,
   "metadata": {
    "scrolled": true
   },
   "outputs": [
    {
     "data": {
      "text/plain": [
       "Text(0.5, 0.98, ' Plotando variável (Mortes) do DataFrame (dados_semanais) ')"
      ]
     },
     "execution_count": 23,
     "metadata": {},
     "output_type": "execute_result"
    },
    {
     "data": {
      "image/png": "[encoded data removed]",
      "text/plain": [
       "<Figure size 2592x864 with 3 Axes>"
      ]
     },
     "metadata": {
      "needs_background": "light"
     },
     "output_type": "display_data"
    }
   ],
   "source": [
    "dados ={\"2020-05-11\" : 730, \"2020-05-12\" : 496, \"2020-05-13\" : 396, \n",
    "        \"2020-05-14\" : 881, \"2020-05-15\" : 749, \"2020-05-16\" : 844, \n",
    "        \"2020-05-17\" : 824}\n",
    "nomes = list(dados.keys())\n",
    "valores = list(dados.values())\n",
    "width = 0.35\n",
    "\n",
    "fig, axs = plt.subplots(1,3, figsize=(36,12), sharey=True)\n",
    "axs[0].bar(nomes, valores)\n",
    "axs[1].scatter(nomes, valores)\n",
    "axs[2].plot(nomes, valores)\n",
    "fig.suptitle(' Plotando variável (Mortes) do DataFrame (dados_semanais) ')"
   ]
  },
  {
   "cell_type": "code",
   "execution_count": 27,
   "metadata": {
    "scrolled": false
   },
   "outputs": [
    {
     "data": {
      "text/plain": [
       "Text(0.5, 0.98, ' Plotando variável (Confirmados) do DataFrame (dados_semanais) ')"
      ]
     },
     "execution_count": 27,
     "metadata": {},
     "output_type": "execute_result"
    },
    {
     "data": {
      "image/png": "[encoded data removed]",
      "text/plain": [
       "<Figure size 2592x864 with 3 Axes>"
      ]
     },
     "metadata": {
      "needs_background": "light"
     },
     "output_type": "display_data"
    }
   ],
   "source": [
    "dados ={\"2020-05-11\" : 10611, \"2020-05-12\" : 6760, \"2020-05-13\" : 5632, \n",
    "        \"2020-05-14\" : 9258, \"2020-05-15\" : 11385, \"2020-05-16\" : 13944, \n",
    "        \"2020-05-17\" : 15305}\n",
    "nomes = list(dados.keys())\n",
    "valores = list(dados.values())\n",
    "width = 0.35\n",
    "\n",
    "fig, axs = plt.subplots(1,3, figsize=(36,12), sharey=True)\n",
    "axs[0].bar(nomes, valores)\n",
    "axs[1].scatter(nomes, valores)\n",
    "axs[2].plot(nomes, valores)\n",
    "fig.suptitle(' Plotando variável (Confirmados) do DataFrame (dados_semanais) ')"
   ]
  },
  {
   "cell_type": "markdown",
   "metadata": {},
   "source": [
    "## Disso, podemos concluir que o número de confirmados e o de óbitos estão se comportando de maneira semelhar; quando um sofre um leve queda, a  outra variável tende a se portar de tal forma!"
   ]
  },
  {
   "cell_type": "code",
   "execution_count": 33,
   "metadata": {},
   "outputs": [
    {
     "data": {
      "text/plain": [
       "<Figure size 1080x360 with 0 Axes>"
      ]
     },
     "execution_count": 33,
     "metadata": {},
     "output_type": "execute_result"
    },
    {
     "data": {
      "image/png": "[encoded data removed]",
      "text/plain": [
       "<Figure size 864x432 with 1 Axes>"
      ]
     },
     "metadata": {},
     "output_type": "display_data"
    },
    {
     "data": {
      "text/plain": [
       "<Figure size 1080x360 with 0 Axes>"
      ]
     },
     "metadata": {},
     "output_type": "display_data"
    }
   ],
   "source": [
    "sns.distplot(dados_semanais['Mortes'], bins=range(0, 81, 1), kde=False, color='blue')\n",
    "sns.distplot(dados_semanais['Confirmados'], bins=range(0, 81, 1), kde=False, color='red', axlabel=dados_semanais['Dia'])\n",
    "plt.figure(figsize=[15,5])"
   ]
  }
 ],
 "metadata": {
  "kernelspec": {
   "display_name": "Python 3",
   "language": "python",
   "name": "python3"
  },
  "language_info": {
   "codemirror_mode": {
    "name": "ipython",
    "version": 3
   },
   "file_extension": ".py",
   "mimetype": "text/x-python",
   "name": "python",
   "nbconvert_exporter": "python",
   "pygments_lexer": "ipython3",
   "version": "3.7.6"
  }
 },
 "nbformat": 4,
 "nbformat_minor": 4
}
