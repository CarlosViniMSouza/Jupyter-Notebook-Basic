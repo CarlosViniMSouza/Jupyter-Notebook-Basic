{
 "cells": [
  {
   "cell_type": "markdown",
   "metadata": {},
   "source": [
    "## Meu segudo notebook : teste de maquinas!"
   ]
  },
  {
   "cell_type": "code",
   "execution_count": 1,
   "metadata": {},
   "outputs": [],
   "source": [
    "# Importação das bibliotecas de Controle de Dados :\n",
    "\n",
    "import pandas as pd #Para a manipulação de DataFrames\n",
    "import numpy as np # Cálculo algébricos\n",
    "import matplotlib.pyplot as plt #Visualização dos dados\n",
    "from sklearn import datasets as sck #mineração de dados"
   ]
  },
  {
   "cell_type": "code",
   "execution_count": 2,
   "metadata": {},
   "outputs": [],
   "source": [
    "# Importando bibliotecas de Redes Neurais :\n",
    "\n",
    "# Linear Regression :\n",
    "from sklearn.linear_model import LinearRegression\n",
    "from sklearn.model_selection import train_test_split\n",
    "from sklearn.datasets import load_boston\n",
    "\n",
    "# Logistic Regression :\n",
    "from sklearn.linear_model import LogisticRegression\n",
    "from sklearn.model_selection import train_test_split\n",
    "from sklearn.datasets import load_iris\n",
    "\n",
    "# GaussianNB :\n",
    "from sklearn.naive_bayes import GaussianNB\n",
    "from sklearn.model_selection import train_test_split\n",
    "\n",
    "# Tree of Decision :\n",
    "from sklearn.tree import DecisionTreeClassifier\n",
    "from sklearn.model_selection import train_test_split\n",
    "from sklearn.preprocessing import LabelEncoder\n",
    "\n",
    "# K-Neighbors :\n",
    "from sklearn.neighbors import KNeighborsClassifier\n",
    "from sklearn.model_selection import train_test_split\n",
    "\n",
    "# SVC :\n",
    "from sklearn.svm import SVC\n",
    "from sklearn.datasets import load_iris\n",
    "from sklearn.model_selection import train_test_split"
   ]
  },
  {
   "cell_type": "markdown",
   "metadata": {},
   "source": [
    "## Produzindo matriz com resultados aleatorios (testes aleatorios) :"
   ]
  },
  {
   "cell_type": "markdown",
   "metadata": {},
   "source": [
    "*from sklearn.metrics import confusion_matrix*\n",
    "\n",
    "*confusion_matrix(y_test, predictions)*"
   ]
  },
  {
   "cell_type": "markdown",
   "metadata": {},
   "source": [
    "## Ok,  vamos começar a treinar o nosso Dell-zitcho :) "
   ]
  },
  {
   "cell_type": "markdown",
   "metadata": {},
   "source": [
    "# 1- Primeiro, vamos crias um algoritmo pronto para receber um banco de dados para começar a manipular dados (isso depois de receber as bibliotecas ja programadas e instaladas é claro)."
   ]
  },
  {
   "cell_type": "markdown",
   "metadata": {},
   "source": [
    "*df = pd.read_csv('{nome do arquivo / endereco de internet / tabela instalada no notebook ja colocada na pasta}')\n",
    "df.head(10)*\n",
    "\n",
    "*X = df.iloc[:, 1:-1]*\n",
    "\n",
    "*Y = df.iloc[:, -1]*\n",
    "\n",
    "*X_train, X_test, Y_train, Y_test = train_test_split(X, Y, test_size = {qualquer numero entre 0 e 1})*\n",
    "\n",
    "*classifier = {nome da parte da biblioteca importada}Classifier()*\n",
    "\n",
    "*classifier.fit(X_train, Y_train)*\n",
    "\n",
    "*predictions = classifier.predict(X_test)*\n",
    "\n",
    "*print(predictions)*"
   ]
  },
  {
   "cell_type": "markdown",
   "metadata": {},
   "source": [
    "# 2 - Vamos programar usando planilhas para testar o algoritmo."
   ]
  },
  {
   "cell_type": "code",
   "execution_count": 3,
   "metadata": {
    "scrolled": true
   },
   "outputs": [],
   "source": [
    "Teste = pd.read_csv('C:/Users/Carlos/Documents/Proj_Program/Python/Jupyter_Note/Programas-Jupyter-Notebook/Planilhas_csv_xlsx/Covid-global-semana1.csv')\n",
    "Treino = pd.read_csv('C:/Users/Carlos/Documents/Proj_Program/Python/Jupyter_Note/Programas-Jupyter-Notebook/Planilhas_csv_xlsx/Covid-global-semana5.csv')\n",
    "# 'Treino' sabe quantos morreram nos dias seguintes, o 'Teste' vai tentar se aproximar dos dados do 'Treino'!\n",
    "\n",
    "# Passando as colunas do idioma inglês para o português\n",
    "Treino.columns = [\"Dia\", \"UF\", \"País\", \"Região\", \"Confirmados\", \"Confirmados_Acumula\", \"Mortes\", \"Mortes_Acumula\"]\n",
    "Teste.columns = [\"Dia\", \"UF\", \"País\", \"Região\", \"Confirmados\", \"Confirmados_Acumula\", \"Mortes\", \"Mortes_Acumula\"]\n",
    "\n",
    "# Selecionando o país-alvo\n",
    "Treino = Treino[Treino['País']=='Brazil']\n",
    "Teste = Teste[Teste['País']=='Brazil']\n",
    "\n",
    "# Removendo colunas-variáveis que não são numéricas :\n",
    "Treino = Treino.drop([\"Dia\", \"UF\", \"País\", \"Região\"], axis=1)\n",
    "Teste = Teste.drop([\"Dia\", \"UF\", \"País\", \"Região\"], axis=1)"
   ]
  },
  {
   "cell_type": "markdown",
   "metadata": {},
   "source": [
    "## Feito a importação, começarei a extrair dados e obter informações"
   ]
  },
  {
   "cell_type": "code",
   "execution_count": 4,
   "metadata": {
    "scrolled": false
   },
   "outputs": [
    {
     "name": "stdout",
     "output_type": "stream",
     "text": [
      "<class 'pandas.core.frame.DataFrame'>\n",
      "Int64Index: 105 entries, 2550 to 2654\n",
      "Data columns (total 4 columns):\n",
      " #   Column               Non-Null Count  Dtype\n",
      "---  ------               --------------  -----\n",
      " 0   Confirmados          105 non-null    int64\n",
      " 1   Confirmados_Acumula  105 non-null    int64\n",
      " 2   Mortes               105 non-null    int64\n",
      " 3   Mortes_Acumula       105 non-null    int64\n",
      "dtypes: int64(4)\n",
      "memory usage: 4.1 KB\n"
     ]
    }
   ],
   "source": [
    "# comando : (variavel).info()\n",
    "# mostra as informações do dataset importado.\n",
    "Teste.info()"
   ]
  },
  {
   "cell_type": "code",
   "execution_count": 5,
   "metadata": {},
   "outputs": [
    {
     "name": "stdout",
     "output_type": "stream",
     "text": [
      "<class 'pandas.core.frame.DataFrame'>\n",
      "Int64Index: 98 entries, 2361 to 2458\n",
      "Data columns (total 4 columns):\n",
      " #   Column               Non-Null Count  Dtype\n",
      "---  ------               --------------  -----\n",
      " 0   Confirmados          98 non-null     int64\n",
      " 1   Confirmados_Acumula  98 non-null     int64\n",
      " 2   Mortes               98 non-null     int64\n",
      " 3   Mortes_Acumula       98 non-null     int64\n",
      "dtypes: int64(4)\n",
      "memory usage: 3.8 KB\n"
     ]
    }
   ],
   "source": [
    "# comando : (variavel).info()\n",
    "# mostra as informações do dataset importado.\n",
    "Treino.info()"
   ]
  },
  {
   "cell_type": "markdown",
   "metadata": {},
   "source": [
    "## Nada de mais, vamos começar a brincar : "
   ]
  },
  {
   "cell_type": "markdown",
   "metadata": {},
   "source": [
    "### --- Vamos iniciar com o Linear Regression :"
   ]
  },
  {
   "cell_type": "code",
   "execution_count": 6,
   "metadata": {},
   "outputs": [
    {
     "name": "stdout",
     "output_type": "stream",
     "text": [
      "[ 2.20909325e+04  1.22058555e+04  2.94135725e+03  9.11743763e+03\n",
      "  1.44245995e+03  2.11577155e+04  7.05432790e+02  1.04441313e+04\n",
      "  3.91238001e+03  1.00542785e+04 -5.78291547e+01  1.59982475e+04\n",
      "  2.13552231e+03  2.56250046e+02  1.30664198e+03  2.41299834e+03\n",
      "  1.04558681e+02  6.77386693e+03  2.39331774e+03 -5.93517732e+01\n",
      " -6.06488186e+01  2.31436168e+04  7.64432438e+01  1.54743782e+02\n",
      "  1.03821192e+04  5.49467095e+03  8.10956161e+00 -6.07052119e+01\n",
      " -4.17952120e+01  1.17735536e+03  4.55335860e+03  3.68988627e+02\n",
      "  1.88525899e+03  2.76075933e+04  2.04625285e+04  3.04913918e+04\n",
      "  7.94196278e+03 -5.93517732e+01  5.33554271e+02 -6.05924254e+01\n",
      " -9.78208054e+00 -6.06488186e+01 -9.78208054e+00  1.86520170e+04\n",
      "  3.02001174e+04  2.46571609e+04  6.19818859e+03 -6.07052119e+01\n",
      "  2.05770964e+03]\n"
     ]
    }
   ],
   "source": [
    "X = Treino.iloc[:, 1:-1]\n",
    "\n",
    "Y = Treino.iloc[:, -1]\n",
    "\n",
    "X_train, X_test, Y_train, Y_test = train_test_split(X, Y, test_size = 0.5)\n",
    "\n",
    "classifier = LinearRegression()\n",
    "\n",
    "classifier.fit(X_train, Y_train)\n",
    "\n",
    "predictions = classifier.predict(X_test)\n",
    "\n",
    "print(predictions)"
   ]
  }
 ],
 "metadata": {
  "kernelspec": {
   "display_name": "Python 3",
   "language": "python",
   "name": "python3"
  },
  "language_info": {
   "codemirror_mode": {
    "name": "ipython",
    "version": 3
   },
   "file_extension": ".py",
   "mimetype": "text/x-python",
   "name": "python",
   "nbconvert_exporter": "python",
   "pygments_lexer": "ipython3",
   "version": "3.8.3"
  }
 },
 "nbformat": 4,
 "nbformat_minor": 4
}
